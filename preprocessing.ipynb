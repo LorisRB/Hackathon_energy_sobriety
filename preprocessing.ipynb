{
 "cells": [
  {
   "cell_type": "markdown",
   "id": "c898216f-4758-444a-bec8-390170eb893f",
   "metadata": {},
   "source": [
    "## Pre-processing\n",
    "The objective of this notebook is to clean and pre-process the training data, and apply the same pre-processing on the test set, to adapt it as input of our model.\n",
    "The pre-processed train and test sets and the labels of the train set are saved in .csv format."
   ]
  },
  {
   "cell_type": "markdown",
   "id": "6a784c2c-9eb0-4586-8418-61c4f48334f3",
   "metadata": {},
   "source": [
    "### imports"
   ]
  },
  {
   "cell_type": "code",
   "execution_count": 1,
   "id": "59000ae6-00f3-482e-b45e-e654cd0819ee",
   "metadata": {},
   "outputs": [],
   "source": [
    "import numpy as np\n",
    "import pandas as pd"
   ]
  },
  {
   "cell_type": "code",
   "execution_count": 2,
   "id": "f9967c27-36d4-43fc-9b68-8f78860c6bb2",
   "metadata": {},
   "outputs": [],
   "source": [
    "import seaborn as sns\n",
    "import matplotlib.pyplot as plt"
   ]
  },
  {
   "cell_type": "code",
   "execution_count": 3,
   "id": "b0fbd51f-276d-455b-951c-d6073c2c72de",
   "metadata": {},
   "outputs": [
    {
     "name": "stderr",
     "output_type": "stream",
     "text": [
      "/opt/conda/lib/python3.8/site-packages/IPython/core/interactiveshell.py:3135: DtypeWarning: Columns (19) have mixed types.Specify dtype option on import or set low_memory=False.\n",
      "  has_raised = await self.run_ast_nodes(code_ast.body, cell_name,\n"
     ]
    }
   ],
   "source": [
    "data_train = pd.read_csv(\"../hfactory_magic_folders/hi__paris_hackathon/building_energy_efficiency/datasets/train/train_features_sent.csv\")"
   ]
  },
  {
   "cell_type": "code",
   "execution_count": 4,
   "id": "01da9ea1-d6f8-420b-8491-8c8b1ef52ae2",
   "metadata": {},
   "outputs": [],
   "source": [
    "data_test = pd.read_csv(\"../hfactory_magic_folders/hi__paris_hackathon/building_energy_efficiency/datasets/test/test_features_sent.csv\")"
   ]
  },
  {
   "cell_type": "code",
   "execution_count": 5,
   "id": "4199cffd-cda9-4dd9-86ef-a887cd846a18",
   "metadata": {
    "tags": []
   },
   "outputs": [
    {
     "data": {
      "text/html": [
       "<div>\n",
       "<style scoped>\n",
       "    .dataframe tbody tr th:only-of-type {\n",
       "        vertical-align: middle;\n",
       "    }\n",
       "\n",
       "    .dataframe tbody tr th {\n",
       "        vertical-align: top;\n",
       "    }\n",
       "\n",
       "    .dataframe thead th {\n",
       "        text-align: right;\n",
       "    }\n",
       "</style>\n",
       "<table border=\"1\" class=\"dataframe\">\n",
       "  <thead>\n",
       "    <tr style=\"text-align: right;\">\n",
       "      <th></th>\n",
       "      <th>level_0</th>\n",
       "      <th>additional_heat_generators</th>\n",
       "      <th>additional_water_heaters</th>\n",
       "      <th>altitude</th>\n",
       "      <th>area_code</th>\n",
       "      <th>balcony_depth</th>\n",
       "      <th>bearing_wall_material</th>\n",
       "      <th>building_category</th>\n",
       "      <th>building_class</th>\n",
       "      <th>building_height_ft</th>\n",
       "      <th>...</th>\n",
       "      <th>wall_insulation_type</th>\n",
       "      <th>water_heaters</th>\n",
       "      <th>water_heating_energy_source</th>\n",
       "      <th>water_heating_type</th>\n",
       "      <th>window_filling_type</th>\n",
       "      <th>window_frame_material</th>\n",
       "      <th>window_glazing_type</th>\n",
       "      <th>window_heat_retention_factor</th>\n",
       "      <th>window_orientation</th>\n",
       "      <th>window_thermal_conductivity</th>\n",
       "    </tr>\n",
       "  </thead>\n",
       "  <tbody>\n",
       "    <tr>\n",
       "      <th>0</th>\n",
       "      <td>111323</td>\n",
       "      <td>[wood stove or insert]</td>\n",
       "      <td>NaN</td>\n",
       "      <td>328.08400</td>\n",
       "      <td>881</td>\n",
       "      <td>NaN</td>\n",
       "      <td>CONCRETE</td>\n",
       "      <td>[]</td>\n",
       "      <td>[]</td>\n",
       "      <td>13.779528</td>\n",
       "      <td>...</td>\n",
       "      <td>internal</td>\n",
       "      <td>[indeterminate oil boiler]</td>\n",
       "      <td>oil</td>\n",
       "      <td>individual</td>\n",
       "      <td>argon or krypton</td>\n",
       "      <td>pvc</td>\n",
       "      <td>double glazing</td>\n",
       "      <td>1.116894</td>\n",
       "      <td>[est,west]</td>\n",
       "      <td>15.347292</td>\n",
       "    </tr>\n",
       "    <tr>\n",
       "      <th>1</th>\n",
       "      <td>265182</td>\n",
       "      <td>[]</td>\n",
       "      <td>NaN</td>\n",
       "      <td>360.89240</td>\n",
       "      <td>260</td>\n",
       "      <td>NaN</td>\n",
       "      <td>NaN</td>\n",
       "      <td>[condo]</td>\n",
       "      <td>[2 to 11]</td>\n",
       "      <td>43.635172</td>\n",
       "      <td>...</td>\n",
       "      <td>internal</td>\n",
       "      <td>[indeterminate gas boiler]</td>\n",
       "      <td>gas</td>\n",
       "      <td>individual</td>\n",
       "      <td>argon or krypton</td>\n",
       "      <td>wood</td>\n",
       "      <td>double glazing</td>\n",
       "      <td>1.133072</td>\n",
       "      <td>[est,west,sud]</td>\n",
       "      <td>17.512631</td>\n",
       "    </tr>\n",
       "    <tr>\n",
       "      <th>2</th>\n",
       "      <td>927507</td>\n",
       "      <td>[]</td>\n",
       "      <td>NaN</td>\n",
       "      <td>324.80316</td>\n",
       "      <td>573</td>\n",
       "      <td>NaN</td>\n",
       "      <td>WOOD - OTHER</td>\n",
       "      <td>[]</td>\n",
       "      <td>[]</td>\n",
       "      <td>19.685040</td>\n",
       "      <td>...</td>\n",
       "      <td>internal</td>\n",
       "      <td>[standard gas boiler]</td>\n",
       "      <td>gas</td>\n",
       "      <td>individual</td>\n",
       "      <td>dry air</td>\n",
       "      <td>pvc</td>\n",
       "      <td>double glazing</td>\n",
       "      <td>1.084204</td>\n",
       "      <td>[est,west]</td>\n",
       "      <td>16.779108</td>\n",
       "    </tr>\n",
       "    <tr>\n",
       "      <th>3</th>\n",
       "      <td>874620</td>\n",
       "      <td>[]</td>\n",
       "      <td>NaN</td>\n",
       "      <td>288.71392</td>\n",
       "      <td>204</td>\n",
       "      <td>NaN</td>\n",
       "      <td>BRICKS</td>\n",
       "      <td>[]</td>\n",
       "      <td>[]</td>\n",
       "      <td>13.779528</td>\n",
       "      <td>...</td>\n",
       "      <td>internal</td>\n",
       "      <td>[electric storage tank]</td>\n",
       "      <td>electricity</td>\n",
       "      <td>individual</td>\n",
       "      <td>NaN</td>\n",
       "      <td>metal with thermal break</td>\n",
       "      <td>triple glazing</td>\n",
       "      <td>0.983338</td>\n",
       "      <td>[est,north,sud]</td>\n",
       "      <td>12.630033</td>\n",
       "    </tr>\n",
       "    <tr>\n",
       "      <th>4</th>\n",
       "      <td>563274</td>\n",
       "      <td>[]</td>\n",
       "      <td>NaN</td>\n",
       "      <td>849.73756</td>\n",
       "      <td>374</td>\n",
       "      <td>NaN</td>\n",
       "      <td>GRITSTONE</td>\n",
       "      <td>[individual house]</td>\n",
       "      <td>[individual]</td>\n",
       "      <td>19.028872</td>\n",
       "      <td>...</td>\n",
       "      <td>internal</td>\n",
       "      <td>[thermodynamic electric hot water (pac or tank)]</td>\n",
       "      <td>thermodynamic electric hot water (heat pump or...</td>\n",
       "      <td>individual</td>\n",
       "      <td>dry air</td>\n",
       "      <td>pvc</td>\n",
       "      <td>double glazing</td>\n",
       "      <td>1.084204</td>\n",
       "      <td>[north,sud]</td>\n",
       "      <td>13.290529</td>\n",
       "    </tr>\n",
       "  </tbody>\n",
       "</table>\n",
       "<p>5 rows × 71 columns</p>\n",
       "</div>"
      ],
      "text/plain": [
       "   level_0 additional_heat_generators additional_water_heaters   altitude  \\\n",
       "0   111323     [wood stove or insert]                      NaN  328.08400   \n",
       "1   265182                         []                      NaN  360.89240   \n",
       "2   927507                         []                      NaN  324.80316   \n",
       "3   874620                         []                      NaN  288.71392   \n",
       "4   563274                         []                      NaN  849.73756   \n",
       "\n",
       "   area_code balcony_depth bearing_wall_material   building_category  \\\n",
       "0        881           NaN              CONCRETE                  []   \n",
       "1        260           NaN                   NaN             [condo]   \n",
       "2        573           NaN          WOOD - OTHER                  []   \n",
       "3        204           NaN                BRICKS                  []   \n",
       "4        374           NaN             GRITSTONE  [individual house]   \n",
       "\n",
       "  building_class  building_height_ft  ... wall_insulation_type  \\\n",
       "0             []           13.779528  ...             internal   \n",
       "1      [2 to 11]           43.635172  ...             internal   \n",
       "2             []           19.685040  ...             internal   \n",
       "3             []           13.779528  ...             internal   \n",
       "4   [individual]           19.028872  ...             internal   \n",
       "\n",
       "                                      water_heaters  \\\n",
       "0                        [indeterminate oil boiler]   \n",
       "1                        [indeterminate gas boiler]   \n",
       "2                             [standard gas boiler]   \n",
       "3                           [electric storage tank]   \n",
       "4  [thermodynamic electric hot water (pac or tank)]   \n",
       "\n",
       "                         water_heating_energy_source  water_heating_type  \\\n",
       "0                                                oil          individual   \n",
       "1                                                gas          individual   \n",
       "2                                                gas          individual   \n",
       "3                                        electricity          individual   \n",
       "4  thermodynamic electric hot water (heat pump or...          individual   \n",
       "\n",
       "  window_filling_type     window_frame_material window_glazing_type  \\\n",
       "0    argon or krypton                       pvc      double glazing   \n",
       "1    argon or krypton                      wood      double glazing   \n",
       "2             dry air                       pvc      double glazing   \n",
       "3                 NaN  metal with thermal break      triple glazing   \n",
       "4             dry air                       pvc      double glazing   \n",
       "\n",
       "  window_heat_retention_factor  window_orientation window_thermal_conductivity  \n",
       "0                     1.116894          [est,west]                   15.347292  \n",
       "1                     1.133072      [est,west,sud]                   17.512631  \n",
       "2                     1.084204          [est,west]                   16.779108  \n",
       "3                     0.983338     [est,north,sud]                   12.630033  \n",
       "4                     1.084204         [north,sud]                   13.290529  \n",
       "\n",
       "[5 rows x 71 columns]"
      ]
     },
     "execution_count": 5,
     "metadata": {},
     "output_type": "execute_result"
    }
   ],
   "source": [
    "data_train.head()"
   ]
  },
  {
   "cell_type": "markdown",
   "id": "290d32c8-832a-47dd-a03a-399d262e0d7e",
   "metadata": {},
   "source": [
    "set index to identifiers of the buildings"
   ]
  },
  {
   "cell_type": "code",
   "execution_count": 6,
   "id": "d69da0c8-cba9-4748-88c9-751a4335f0dc",
   "metadata": {},
   "outputs": [],
   "source": [
    "data_train = data_train.set_index('level_0')"
   ]
  },
  {
   "cell_type": "code",
   "execution_count": 7,
   "id": "4a38b726-ad24-4e78-a6f4-e82f88340351",
   "metadata": {
    "tags": []
   },
   "outputs": [
    {
     "data": {
      "text/html": [
       "<div>\n",
       "<style scoped>\n",
       "    .dataframe tbody tr th:only-of-type {\n",
       "        vertical-align: middle;\n",
       "    }\n",
       "\n",
       "    .dataframe tbody tr th {\n",
       "        vertical-align: top;\n",
       "    }\n",
       "\n",
       "    .dataframe thead th {\n",
       "        text-align: right;\n",
       "    }\n",
       "</style>\n",
       "<table border=\"1\" class=\"dataframe\">\n",
       "  <thead>\n",
       "    <tr style=\"text-align: right;\">\n",
       "      <th></th>\n",
       "      <th>additional_heat_generators</th>\n",
       "      <th>additional_water_heaters</th>\n",
       "      <th>altitude</th>\n",
       "      <th>area_code</th>\n",
       "      <th>balcony_depth</th>\n",
       "      <th>bearing_wall_material</th>\n",
       "      <th>building_category</th>\n",
       "      <th>building_class</th>\n",
       "      <th>building_height_ft</th>\n",
       "      <th>building_period</th>\n",
       "      <th>...</th>\n",
       "      <th>wall_insulation_type</th>\n",
       "      <th>water_heaters</th>\n",
       "      <th>water_heating_energy_source</th>\n",
       "      <th>water_heating_type</th>\n",
       "      <th>window_filling_type</th>\n",
       "      <th>window_frame_material</th>\n",
       "      <th>window_glazing_type</th>\n",
       "      <th>window_heat_retention_factor</th>\n",
       "      <th>window_orientation</th>\n",
       "      <th>window_thermal_conductivity</th>\n",
       "    </tr>\n",
       "    <tr>\n",
       "      <th>level_0</th>\n",
       "      <th></th>\n",
       "      <th></th>\n",
       "      <th></th>\n",
       "      <th></th>\n",
       "      <th></th>\n",
       "      <th></th>\n",
       "      <th></th>\n",
       "      <th></th>\n",
       "      <th></th>\n",
       "      <th></th>\n",
       "      <th></th>\n",
       "      <th></th>\n",
       "      <th></th>\n",
       "      <th></th>\n",
       "      <th></th>\n",
       "      <th></th>\n",
       "      <th></th>\n",
       "      <th></th>\n",
       "      <th></th>\n",
       "      <th></th>\n",
       "      <th></th>\n",
       "    </tr>\n",
       "  </thead>\n",
       "  <tbody>\n",
       "    <tr>\n",
       "      <th>111323</th>\n",
       "      <td>[wood stove or insert]</td>\n",
       "      <td>NaN</td>\n",
       "      <td>328.08400</td>\n",
       "      <td>881</td>\n",
       "      <td>NaN</td>\n",
       "      <td>CONCRETE</td>\n",
       "      <td>[]</td>\n",
       "      <td>[]</td>\n",
       "      <td>13.779528</td>\n",
       "      <td>1970-1988</td>\n",
       "      <td>...</td>\n",
       "      <td>internal</td>\n",
       "      <td>[indeterminate oil boiler]</td>\n",
       "      <td>oil</td>\n",
       "      <td>individual</td>\n",
       "      <td>argon or krypton</td>\n",
       "      <td>pvc</td>\n",
       "      <td>double glazing</td>\n",
       "      <td>1.116894</td>\n",
       "      <td>[est,west]</td>\n",
       "      <td>15.347292</td>\n",
       "    </tr>\n",
       "    <tr>\n",
       "      <th>265182</th>\n",
       "      <td>[]</td>\n",
       "      <td>NaN</td>\n",
       "      <td>360.89240</td>\n",
       "      <td>260</td>\n",
       "      <td>NaN</td>\n",
       "      <td>NaN</td>\n",
       "      <td>[condo]</td>\n",
       "      <td>[2 to 11]</td>\n",
       "      <td>43.635172</td>\n",
       "      <td>&lt;1948</td>\n",
       "      <td>...</td>\n",
       "      <td>internal</td>\n",
       "      <td>[indeterminate gas boiler]</td>\n",
       "      <td>gas</td>\n",
       "      <td>individual</td>\n",
       "      <td>argon or krypton</td>\n",
       "      <td>wood</td>\n",
       "      <td>double glazing</td>\n",
       "      <td>1.133072</td>\n",
       "      <td>[est,west,sud]</td>\n",
       "      <td>17.512631</td>\n",
       "    </tr>\n",
       "    <tr>\n",
       "      <th>927507</th>\n",
       "      <td>[]</td>\n",
       "      <td>NaN</td>\n",
       "      <td>324.80316</td>\n",
       "      <td>573</td>\n",
       "      <td>NaN</td>\n",
       "      <td>WOOD - OTHER</td>\n",
       "      <td>[]</td>\n",
       "      <td>[]</td>\n",
       "      <td>19.685040</td>\n",
       "      <td>2000-2005</td>\n",
       "      <td>...</td>\n",
       "      <td>internal</td>\n",
       "      <td>[standard gas boiler]</td>\n",
       "      <td>gas</td>\n",
       "      <td>individual</td>\n",
       "      <td>dry air</td>\n",
       "      <td>pvc</td>\n",
       "      <td>double glazing</td>\n",
       "      <td>1.084204</td>\n",
       "      <td>[est,west]</td>\n",
       "      <td>16.779108</td>\n",
       "    </tr>\n",
       "    <tr>\n",
       "      <th>874620</th>\n",
       "      <td>[]</td>\n",
       "      <td>NaN</td>\n",
       "      <td>288.71392</td>\n",
       "      <td>204</td>\n",
       "      <td>NaN</td>\n",
       "      <td>BRICKS</td>\n",
       "      <td>[]</td>\n",
       "      <td>[]</td>\n",
       "      <td>13.779528</td>\n",
       "      <td>&lt;1948</td>\n",
       "      <td>...</td>\n",
       "      <td>internal</td>\n",
       "      <td>[electric storage tank]</td>\n",
       "      <td>electricity</td>\n",
       "      <td>individual</td>\n",
       "      <td>NaN</td>\n",
       "      <td>metal with thermal break</td>\n",
       "      <td>triple glazing</td>\n",
       "      <td>0.983338</td>\n",
       "      <td>[est,north,sud]</td>\n",
       "      <td>12.630033</td>\n",
       "    </tr>\n",
       "    <tr>\n",
       "      <th>563274</th>\n",
       "      <td>[]</td>\n",
       "      <td>NaN</td>\n",
       "      <td>849.73756</td>\n",
       "      <td>374</td>\n",
       "      <td>NaN</td>\n",
       "      <td>GRITSTONE</td>\n",
       "      <td>[individual house]</td>\n",
       "      <td>[individual]</td>\n",
       "      <td>19.028872</td>\n",
       "      <td>2006-2012</td>\n",
       "      <td>...</td>\n",
       "      <td>internal</td>\n",
       "      <td>[thermodynamic electric hot water (pac or tank)]</td>\n",
       "      <td>thermodynamic electric hot water (heat pump or...</td>\n",
       "      <td>individual</td>\n",
       "      <td>dry air</td>\n",
       "      <td>pvc</td>\n",
       "      <td>double glazing</td>\n",
       "      <td>1.084204</td>\n",
       "      <td>[north,sud]</td>\n",
       "      <td>13.290529</td>\n",
       "    </tr>\n",
       "  </tbody>\n",
       "</table>\n",
       "<p>5 rows × 70 columns</p>\n",
       "</div>"
      ],
      "text/plain": [
       "        additional_heat_generators additional_water_heaters   altitude  \\\n",
       "level_0                                                                  \n",
       "111323      [wood stove or insert]                      NaN  328.08400   \n",
       "265182                          []                      NaN  360.89240   \n",
       "927507                          []                      NaN  324.80316   \n",
       "874620                          []                      NaN  288.71392   \n",
       "563274                          []                      NaN  849.73756   \n",
       "\n",
       "         area_code balcony_depth bearing_wall_material   building_category  \\\n",
       "level_0                                                                      \n",
       "111323         881           NaN              CONCRETE                  []   \n",
       "265182         260           NaN                   NaN             [condo]   \n",
       "927507         573           NaN          WOOD - OTHER                  []   \n",
       "874620         204           NaN                BRICKS                  []   \n",
       "563274         374           NaN             GRITSTONE  [individual house]   \n",
       "\n",
       "        building_class  building_height_ft building_period  ...  \\\n",
       "level_0                                                     ...   \n",
       "111323              []           13.779528       1970-1988  ...   \n",
       "265182       [2 to 11]           43.635172           <1948  ...   \n",
       "927507              []           19.685040       2000-2005  ...   \n",
       "874620              []           13.779528           <1948  ...   \n",
       "563274    [individual]           19.028872       2006-2012  ...   \n",
       "\n",
       "         wall_insulation_type  \\\n",
       "level_0                         \n",
       "111323               internal   \n",
       "265182               internal   \n",
       "927507               internal   \n",
       "874620               internal   \n",
       "563274               internal   \n",
       "\n",
       "                                            water_heaters  \\\n",
       "level_0                                                     \n",
       "111323                         [indeterminate oil boiler]   \n",
       "265182                         [indeterminate gas boiler]   \n",
       "927507                              [standard gas boiler]   \n",
       "874620                            [electric storage tank]   \n",
       "563274   [thermodynamic electric hot water (pac or tank)]   \n",
       "\n",
       "                               water_heating_energy_source water_heating_type  \\\n",
       "level_0                                                                         \n",
       "111323                                                 oil         individual   \n",
       "265182                                                 gas         individual   \n",
       "927507                                                 gas         individual   \n",
       "874620                                         electricity         individual   \n",
       "563274   thermodynamic electric hot water (heat pump or...         individual   \n",
       "\n",
       "         window_filling_type     window_frame_material window_glazing_type  \\\n",
       "level_0                                                                      \n",
       "111323      argon or krypton                       pvc      double glazing   \n",
       "265182      argon or krypton                      wood      double glazing   \n",
       "927507               dry air                       pvc      double glazing   \n",
       "874620                   NaN  metal with thermal break      triple glazing   \n",
       "563274               dry air                       pvc      double glazing   \n",
       "\n",
       "         window_heat_retention_factor window_orientation  \\\n",
       "level_0                                                    \n",
       "111323                       1.116894         [est,west]   \n",
       "265182                       1.133072     [est,west,sud]   \n",
       "927507                       1.084204         [est,west]   \n",
       "874620                       0.983338    [est,north,sud]   \n",
       "563274                       1.084204        [north,sud]   \n",
       "\n",
       "        window_thermal_conductivity  \n",
       "level_0                              \n",
       "111323                    15.347292  \n",
       "265182                    17.512631  \n",
       "927507                    16.779108  \n",
       "874620                    12.630033  \n",
       "563274                    13.290529  \n",
       "\n",
       "[5 rows x 70 columns]"
      ]
     },
     "execution_count": 7,
     "metadata": {},
     "output_type": "execute_result"
    }
   ],
   "source": [
    "data_train.head()"
   ]
  },
  {
   "cell_type": "code",
   "execution_count": 8,
   "id": "e586bba3-6950-4340-bd48-63f2300a781d",
   "metadata": {},
   "outputs": [
    {
     "name": "stdout",
     "output_type": "stream",
     "text": [
      "<class 'pandas.core.frame.DataFrame'>\n",
      "Int64Index: 1010684 entries, 111323 to 31221\n",
      "Data columns (total 70 columns):\n",
      " #   Column                            Non-Null Count    Dtype  \n",
      "---  ------                            --------------    -----  \n",
      " 0   additional_heat_generators        1010684 non-null  object \n",
      " 1   additional_water_heaters          209994 non-null   object \n",
      " 2   altitude                          992545 non-null   float64\n",
      " 3   area_code                         1010684 non-null  int64  \n",
      " 4   balcony_depth                     105791 non-null   object \n",
      " 5   bearing_wall_material             956635 non-null   object \n",
      " 6   building_category                 1010684 non-null  object \n",
      " 7   building_class                    1010684 non-null  object \n",
      " 8   building_height_ft                994468 non-null   float64\n",
      " 9   building_period                   1010684 non-null  object \n",
      " 10  building_total_area_sqft          949721 non-null   float64\n",
      " 11  building_type                     1010684 non-null  object \n",
      " 12  building_use_type_code            1010684 non-null  int64  \n",
      " 13  building_use_type_description     1010684 non-null  object \n",
      " 14  building_year                     951235 non-null   float64\n",
      " 15  clay_risk_level                   806450 non-null   object \n",
      " 16  consumption_measurement_date      1010684 non-null  object \n",
      " 17  has_air_conditioning              1010684 non-null  bool   \n",
      " 18  has_balcony                       1010328 non-null  object \n",
      " 19  heat_generators                   1010684 non-null  object \n",
      " 20  heating_energy_source             1010683 non-null  object \n",
      " 21  heating_type                      1010684 non-null  object \n",
      " 22  is_crossing_building              959213 non-null   object \n",
      " 23  living_area_sqft                  1010672 non-null  float64\n",
      " 24  lowe_floor_thermal_conductivity   933373 non-null   float64\n",
      " 25  lower_floor_adjacency_type        938214 non-null   object \n",
      " 26  lower_floor_insulation_type       949694 non-null   object \n",
      " 27  lower_floor_material              938765 non-null   object \n",
      " 28  main_heat_generators              1010684 non-null  object \n",
      " 29  main_heating_type                 1010684 non-null  object \n",
      " 30  main_water_heaters                1010606 non-null  object \n",
      " 31  main_water_heating_type           1010684 non-null  object \n",
      " 32  nb_commercial_units               116104 non-null   float64\n",
      " 33  nb_dwellings                      1010684 non-null  int64  \n",
      " 34  nb_gas_meters_commercial          34476 non-null    float64\n",
      " 35  nb_gas_meters_housing             34476 non-null    float64\n",
      " 36  nb_gas_meters_total               34476 non-null    float64\n",
      " 37  nb_housing_units                  116104 non-null   float64\n",
      " 38  nb_meters                         623758 non-null   float64\n",
      " 39  nb_parking_spaces                 116104 non-null   float64\n",
      " 40  nb_power_meters_commercial        95221 non-null    float64\n",
      " 41  nb_power_meters_housing           95221 non-null    float64\n",
      " 42  nb_power_meters_total             95221 non-null    float64\n",
      " 43  nb_units_total                    116104 non-null   float64\n",
      " 44  outer_wall_materials              977656 non-null   object \n",
      " 45  outer_wall_thermal_conductivity   1003326 non-null  float64\n",
      " 46  outer_wall_thickness              929398 non-null   object \n",
      " 47  percentage_glazed_surfaced        882511 non-null   float64\n",
      " 48  post_code                         1010684 non-null  int64  \n",
      " 49  radon_risk_level                  997441 non-null   object \n",
      " 50  renewable_energy_sources          9501 non-null     object \n",
      " 51  roof_material                     956406 non-null   object \n",
      " 52  solar_heating                     1010684 non-null  bool   \n",
      " 53  solar_water_heating               1010684 non-null  bool   \n",
      " 54  thermal_inertia                   1010684 non-null  object \n",
      " 55  upper_floor_adjacency_type        966568 non-null   object \n",
      " 56  upper_floor_insulation_type       921875 non-null   object \n",
      " 57  upper_floor_material              979135 non-null   object \n",
      " 58  upper_floor_thermal_conductivity  964886 non-null   float64\n",
      " 59  ventilation_type                  1010684 non-null  object \n",
      " 60  wall_insulation_type              1000342 non-null  object \n",
      " 61  water_heaters                     1010684 non-null  object \n",
      " 62  water_heating_energy_source       1010505 non-null  object \n",
      " 63  water_heating_type                956608 non-null   object \n",
      " 64  window_filling_type               797458 non-null   object \n",
      " 65  window_frame_material             1010280 non-null  object \n",
      " 66  window_glazing_type               1005549 non-null  object \n",
      " 67  window_heat_retention_factor      988325 non-null   float64\n",
      " 68  window_orientation                1010684 non-null  object \n",
      " 69  window_thermal_conductivity       1005579 non-null  float64\n",
      "dtypes: bool(3), float64(22), int64(4), object(41)\n",
      "memory usage: 527.2+ MB\n"
     ]
    }
   ],
   "source": [
    "data_train.info()"
   ]
  },
  {
   "cell_type": "code",
   "execution_count": 9,
   "id": "8cd9c3b5-2ca3-490d-a497-77871acbab9b",
   "metadata": {},
   "outputs": [],
   "source": [
    "labels_train = pd.read_csv(\"../hfactory_magic_folders/hi__paris_hackathon/building_energy_efficiency/datasets/train/train_labels_sent.csv\")"
   ]
  },
  {
   "cell_type": "code",
   "execution_count": 10,
   "id": "bffebdd9-3e31-451c-a59e-fb974fbd6fbe",
   "metadata": {},
   "outputs": [
    {
     "data": {
      "text/html": [
       "<div>\n",
       "<style scoped>\n",
       "    .dataframe tbody tr th:only-of-type {\n",
       "        vertical-align: middle;\n",
       "    }\n",
       "\n",
       "    .dataframe tbody tr th {\n",
       "        vertical-align: top;\n",
       "    }\n",
       "\n",
       "    .dataframe thead th {\n",
       "        text-align: right;\n",
       "    }\n",
       "</style>\n",
       "<table border=\"1\" class=\"dataframe\">\n",
       "  <thead>\n",
       "    <tr style=\"text-align: right;\">\n",
       "      <th></th>\n",
       "      <th>level_0</th>\n",
       "      <th>energy_consumption_per_annum</th>\n",
       "    </tr>\n",
       "  </thead>\n",
       "  <tbody>\n",
       "    <tr>\n",
       "      <th>count</th>\n",
       "      <td>1.010684e+06</td>\n",
       "      <td>1.010684e+06</td>\n",
       "    </tr>\n",
       "    <tr>\n",
       "      <th>mean</th>\n",
       "      <td>7.540240e+05</td>\n",
       "      <td>2.457073e+02</td>\n",
       "    </tr>\n",
       "    <tr>\n",
       "      <th>std</th>\n",
       "      <td>4.356355e+05</td>\n",
       "      <td>8.054060e+02</td>\n",
       "    </tr>\n",
       "    <tr>\n",
       "      <th>min</th>\n",
       "      <td>0.000000e+00</td>\n",
       "      <td>-2.040219e+03</td>\n",
       "    </tr>\n",
       "    <tr>\n",
       "      <th>25%</th>\n",
       "      <td>3.768322e+05</td>\n",
       "      <td>1.647793e+02</td>\n",
       "    </tr>\n",
       "    <tr>\n",
       "      <th>50%</th>\n",
       "      <td>7.536310e+05</td>\n",
       "      <td>2.237132e+02</td>\n",
       "    </tr>\n",
       "    <tr>\n",
       "      <th>75%</th>\n",
       "      <td>1.131399e+06</td>\n",
       "      <td>3.007878e+02</td>\n",
       "    </tr>\n",
       "    <tr>\n",
       "      <th>max</th>\n",
       "      <td>1.508482e+06</td>\n",
       "      <td>2.594328e+05</td>\n",
       "    </tr>\n",
       "  </tbody>\n",
       "</table>\n",
       "</div>"
      ],
      "text/plain": [
       "            level_0  energy_consumption_per_annum\n",
       "count  1.010684e+06                  1.010684e+06\n",
       "mean   7.540240e+05                  2.457073e+02\n",
       "std    4.356355e+05                  8.054060e+02\n",
       "min    0.000000e+00                 -2.040219e+03\n",
       "25%    3.768322e+05                  1.647793e+02\n",
       "50%    7.536310e+05                  2.237132e+02\n",
       "75%    1.131399e+06                  3.007878e+02\n",
       "max    1.508482e+06                  2.594328e+05"
      ]
     },
     "execution_count": 10,
     "metadata": {},
     "output_type": "execute_result"
    }
   ],
   "source": [
    "labels_train.describe()"
   ]
  },
  {
   "cell_type": "code",
   "execution_count": 11,
   "id": "57a46973-56a6-4011-a655-c825f1d77ab8",
   "metadata": {},
   "outputs": [],
   "source": [
    "labels_train = labels_train.set_index('level_0')"
   ]
  },
  {
   "cell_type": "code",
   "execution_count": 12,
   "id": "5d6dec53-6c3d-4223-827c-69953cbc63bb",
   "metadata": {},
   "outputs": [
    {
     "data": {
      "text/plain": [
       "<AxesSubplot:xlabel='energy_consumption_per_annum'>"
      ]
     },
     "execution_count": 12,
     "metadata": {},
     "output_type": "execute_result"
    },
    {
     "data": {
      "image/png": "[encoded data removed]",
      "text/plain": [
       "<Figure size 432x288 with 1 Axes>"
      ]
     },
     "metadata": {
      "needs_background": "light"
     },
     "output_type": "display_data"
    }
   ],
   "source": [
    "sns.boxplot(x=labels_train['energy_consumption_per_annum'])"
   ]
  },
  {
   "cell_type": "markdown",
   "id": "e8f55112-37c7-45a5-86e5-8dfc1ab43fa1",
   "metadata": {},
   "source": [
    "### not consider abnormal consumptions"
   ]
  },
  {
   "cell_type": "code",
   "execution_count": 13,
   "id": "68c2bc09-b56a-40ed-bb05-09e38e241794",
   "metadata": {},
   "outputs": [],
   "source": [
    "labels_train_5000 = labels_train[labels_train['energy_consumption_per_annum']<=5000]\n",
    "data_train_5000 = data_train.loc[labels_train_5000.index]"
   ]
  },
  {
   "cell_type": "code",
   "execution_count": 14,
   "id": "cc5498f6-09ee-498e-be08-048c2854f50d",
   "metadata": {},
   "outputs": [
    {
     "name": "stdout",
     "output_type": "stream",
     "text": [
      "(1010666, 70) (1010666, 1)\n"
     ]
    }
   ],
   "source": [
    "print(data_train_5000.shape, labels_train_5000.shape)"
   ]
  },
  {
   "cell_type": "code",
   "execution_count": 15,
   "id": "765d4391-0285-46da-8f5b-24d1af590b90",
   "metadata": {},
   "outputs": [
    {
     "name": "stdout",
     "output_type": "stream",
     "text": [
      "NaN occurrences in Rows:\n",
      "count    1.010684e+06\n",
      "mean     1.378586e+01\n",
      "std      2.812626e+00\n",
      "min      1.000000e+00\n",
      "25%      1.300000e+01\n",
      "50%      1.400000e+01\n",
      "75%      1.500000e+01\n",
      "max      3.300000e+01\n",
      "dtype: float64\n"
     ]
    }
   ],
   "source": [
    "print('NaN occurrences in Rows:')\n",
    "print(data_train.isnull().sum(axis = 1).describe())"
   ]
  },
  {
   "cell_type": "markdown",
   "id": "b81e0841-106d-49af-998c-8b9a45e935e7",
   "metadata": {},
   "source": [
    "### Useful functions"
   ]
  },
  {
   "cell_type": "code",
   "execution_count": 16,
   "id": "6521330c-e9b0-4dbc-bbf1-27515876ab23",
   "metadata": {},
   "outputs": [],
   "source": [
    "def compute_apply_group_agg(df_train, df_test, var, cat):\n",
    "    grp = df_train.groupby([cat]).agg('mean')[var]\n",
    "    ind_na = df_test[df_test[var].isna()].index\n",
    "    df_test.loc[ind_na, var] = grp[df_test[cat][ind_na]].values\n",
    "    return df_test"
   ]
  },
  {
   "cell_type": "code",
   "execution_count": 17,
   "id": "195caa1c-cf39-4a3d-add8-c54b8036dfc2",
   "metadata": {},
   "outputs": [],
   "source": [
    "def compute_apply_mean(df_train, df_test, var):\n",
    "    mean = np.mean(df_train[var])\n",
    "    ind_na = df_test[df_test[var].isna()].index\n",
    "    df_test.loc[ind_na, var] = mean\n",
    "    return df_test"
   ]
  },
  {
   "cell_type": "code",
   "execution_count": 18,
   "id": "a245693c-1bd9-4777-9ab2-31500e7be275",
   "metadata": {},
   "outputs": [],
   "source": [
    "from sklearn.preprocessing import OneHotEncoder "
   ]
  },
  {
   "cell_type": "code",
   "execution_count": 19,
   "id": "705bf90e-da20-48bd-b91d-7521426d728d",
   "metadata": {},
   "outputs": [],
   "source": [
    "def one_hot_encoder(df, var, cols):\n",
    "    encoder = OneHotEncoder(handle_unknown='ignore')\n",
    "    encoder_df = pd.DataFrame(encoder.fit_transform(df[[var]]).toarray(), columns=cols)\n",
    "    return encoder_df"
   ]
  },
  {
   "cell_type": "markdown",
   "id": "5d7dbe32-e1d9-45e0-8526-436ba9958038",
   "metadata": {},
   "source": [
    "### additional_heat_generators\n",
    "1 if additional heat generators, 0 otherwise"
   ]
  },
  {
   "cell_type": "code",
   "execution_count": 20,
   "id": "6cdf0c26-0735-4e16-9233-a7345a0a14de",
   "metadata": {},
   "outputs": [],
   "source": [
    "data_train_5000['additional_heat_generators'].fillna('[]', inplace=True)\n",
    "data_train_5000['additional_heat_generators'] = np.where(data_train_5000['additional_heat_generators'] == '[]', 0, 1).astype('int')"
   ]
  },
  {
   "cell_type": "markdown",
   "id": "f4a435a9-0dd9-48a8-bf98-0ba26ba5b6b3",
   "metadata": {},
   "source": [
    "### additional_water_heaters\n",
    "1 if additional water heats, 0 otherwise"
   ]
  },
  {
   "cell_type": "code",
   "execution_count": 21,
   "id": "3c98a9f6-76b5-4bb8-b9af-28520ee5aa42",
   "metadata": {},
   "outputs": [],
   "source": [
    "data_train_5000['additional_water_heaters'].fillna('[]', inplace=True)\n",
    "data_train_5000['additional_water_heaters'] = np.where(data_train_5000['additional_water_heaters'] == '[]', 0, 1).astype('int')"
   ]
  },
  {
   "cell_type": "markdown",
   "id": "689aad52-88f1-45b1-b3d8-5b8ba0e4ac80",
   "metadata": {},
   "source": [
    "### altitude\n",
    "Replace missing values by the altitude mean computed by area_code"
   ]
  },
  {
   "cell_type": "code",
   "execution_count": 22,
   "id": "ac18fc3e-a15f-4353-b82e-0398c6201364",
   "metadata": {},
   "outputs": [],
   "source": [
    "data_train_5000 = compute_apply_group_agg(data_train_5000, data_train_5000, 'altitude', 'area_code')"
   ]
  },
  {
   "cell_type": "code",
   "execution_count": 23,
   "id": "44587ae0-ddda-4a8b-8bb1-83b93dbb9c7f",
   "metadata": {},
   "outputs": [
    {
     "name": "stdout",
     "output_type": "stream",
     "text": [
      "Old Shape:  (1010666, 70)\n",
      "New Shape:  (1005051, 70)\n"
     ]
    }
   ],
   "source": [
    "print(\"Old Shape: \", data_train_5000.shape)\n",
    "# Remove altitudes higher than 2800\n",
    "data_train_5000 = data_train_5000[data_train_5000['altitude']<=3000]\n",
    "print(\"New Shape: \", data_train_5000.shape)"
   ]
  },
  {
   "cell_type": "code",
   "execution_count": 24,
   "id": "902bc50d-1ce2-4dbf-9880-434fda174ac2",
   "metadata": {},
   "outputs": [],
   "source": [
    "labels_train_5000 = labels_train_5000.loc[data_train_5000.index]"
   ]
  },
  {
   "cell_type": "markdown",
   "id": "7f480f6a-e92f-4376-bf1b-23d9d8d5481c",
   "metadata": {},
   "source": [
    "### transform in categorical variables"
   ]
  },
  {
   "cell_type": "code",
   "execution_count": 25,
   "id": "2ee8b8d6-3eb1-4f6d-8455-ff360c3b044e",
   "metadata": {},
   "outputs": [],
   "source": [
    "data_train_5000 = data_train_5000.astype({'area_code': \"category\", 'building_use_type_code': \"category\"})"
   ]
  },
  {
   "cell_type": "markdown",
   "id": "e00f1b46-0d28-4a7a-a355-a2c5285e1ea9",
   "metadata": {
    "tags": []
   },
   "source": [
    "### area_code"
   ]
  },
  {
   "cell_type": "code",
   "execution_count": 26,
   "id": "1bb08cb7-88fc-4422-b7c8-02514352bcfa",
   "metadata": {},
   "outputs": [
    {
     "data": {
      "text/plain": [
       "[881, 260, 573, 204, 374, ..., 191, 380, 843, 492, 369]\n",
       "Length: 93\n",
       "Categories (93, int64): [881, 260, 573, 204, ..., 380, 843, 492, 369]"
      ]
     },
     "execution_count": 26,
     "metadata": {},
     "output_type": "execute_result"
    }
   ],
   "source": [
    "data_train_5000['area_code'].unique()"
   ]
  },
  {
   "cell_type": "markdown",
   "id": "b704b0f2-63bc-4938-b5a4-9392709183a0",
   "metadata": {},
   "source": [
    "### building_category\n",
    "Consider only 3 possible categories one-hot encoded"
   ]
  },
  {
   "cell_type": "code",
   "execution_count": 27,
   "id": "054c6584-a9de-45c4-a12c-318b55978b3b",
   "metadata": {},
   "outputs": [],
   "source": [
    "valid_building_categories = ['[condo]', '[individual house]']\n",
    "cols_category = ['building_category_other', 'building_category_condo', 'building_category_individual_house']\n",
    "\n",
    "data_train_5000.loc[~data_train_5000['building_category'].isin(valid_building_categories), 'building_category']='[Other]'\n",
    "data_train_5000 = pd.concat([data_train_5000, one_hot_encoder(data_train_5000,'building_category', cols_category).set_index(data_train_5000.index)], axis=1)"
   ]
  },
  {
   "cell_type": "markdown",
   "id": "6e34249a-61ba-4516-bbc1-0665347abbda",
   "metadata": {},
   "source": [
    "### building_type\n",
    "Consider only possible 5 categories one-hot encoded"
   ]
  },
  {
   "cell_type": "code",
   "execution_count": 28,
   "id": "5b0bd9c2-46d5-46e7-a64d-4176c7b6fb8c",
   "metadata": {},
   "outputs": [],
   "source": [
    "cols_type = ['building_type_flat', 'building_type_house', 'building_type_multiple_dwellings', 'building_type_Non_residential', 'building_type_shopping_centres']\n",
    "data_train_5000 = pd.concat([data_train_5000, one_hot_encoder(data_train_5000, 'building_type', cols_type).set_index(data_train_5000.index)], axis=1)"
   ]
  },
  {
   "cell_type": "markdown",
   "id": "edce2b03-1c12-4bfa-91a6-11aedb6fb9ee",
   "metadata": {},
   "source": [
    "### building_period\n",
    "Split in different periods"
   ]
  },
  {
   "cell_type": "code",
   "execution_count": 29,
   "id": "69220c3e-31bc-44a2-ba34-7204c3d1b912",
   "metadata": {},
   "outputs": [],
   "source": [
    "data_train_5000 = data_train_5000[data_train_5000['building_period']!='bad sup']\n",
    "cols_period = ['building_period_1949-1970', 'building_period_1970-1988', 'building_period_1989-1999', \\\n",
    "        'building_period_2000-2005', 'building_period_2006-2012', 'building_period_inf_1948', 'building_period_sup_2012']\n",
    "data_train_5000 = pd.concat([data_train_5000, one_hot_encoder(data_train_5000, 'building_period', cols_period).set_index(data_train_5000.index)], axis=1)"
   ]
  },
  {
   "cell_type": "markdown",
   "id": "68595a4e-79dc-4ead-b278-a5132a4d3dbc",
   "metadata": {},
   "source": [
    "### building_height_ft\n",
    "Replace missing values by mean height according to the building type"
   ]
  },
  {
   "cell_type": "code",
   "execution_count": 30,
   "id": "a0ffe4e2-da76-4c9b-b6af-6f2c1595aeb6",
   "metadata": {},
   "outputs": [],
   "source": [
    "data_train_5000 = compute_apply_group_agg(data_train_5000, data_train_5000, 'building_height_ft', 'building_type')"
   ]
  },
  {
   "cell_type": "code",
   "execution_count": 31,
   "id": "dd499b72-aade-41d5-92e0-155f8f5a1d0d",
   "metadata": {},
   "outputs": [
    {
     "name": "stdout",
     "output_type": "stream",
     "text": [
      "Old Shape:  (1004971, 85)\n",
      "New Shape:  (1004968, 85)\n"
     ]
    }
   ],
   "source": [
    "print(\"Old Shape: \", data_train_5000.shape)\n",
    "# Remove height higher than 120 meters\n",
    "data_train_5000 = data_train_5000[data_train_5000['building_height_ft']<=400]\n",
    "print(\"New Shape: \", data_train_5000.shape)"
   ]
  },
  {
   "cell_type": "code",
   "execution_count": 32,
   "id": "ff17eb5e-b737-4ad4-a4f8-35f5ef033fd9",
   "metadata": {},
   "outputs": [],
   "source": [
    "labels_train_5000 = labels_train_5000.loc[data_train_5000.index]"
   ]
  },
  {
   "cell_type": "code",
   "execution_count": 33,
   "id": "5c79e5a8-1fe5-472b-8932-fd5c16050220",
   "metadata": {},
   "outputs": [
    {
     "name": "stdout",
     "output_type": "stream",
     "text": [
      "(1004968, 85) (1004968, 1)\n",
      "True\n"
     ]
    }
   ],
   "source": [
    "print(data_train_5000.shape, labels_train_5000.shape)\n",
    "print(np.all(data_train_5000.index == labels_train_5000.index))"
   ]
  },
  {
   "cell_type": "markdown",
   "id": "31e665ab-bbeb-4cab-8184-d08c0bb0e3af",
   "metadata": {},
   "source": [
    "### building_total_area_sqft\n",
    "Replace missing values by mean total area in sqft according to the building type"
   ]
  },
  {
   "cell_type": "code",
   "execution_count": 34,
   "id": "49a5f1a5-3e10-4aae-8d20-ed510085315a",
   "metadata": {},
   "outputs": [],
   "source": [
    "data_train_5000 = compute_apply_group_agg(data_train_5000, data_train_5000, 'building_total_area_sqft', 'building_type')"
   ]
  },
  {
   "cell_type": "code",
   "execution_count": 35,
   "id": "a77b7357-51b6-44e1-8e18-2d5e41780f4b",
   "metadata": {},
   "outputs": [
    {
     "name": "stdout",
     "output_type": "stream",
     "text": [
      "Old Shape:  (1004968, 85)\n",
      "New Shape:  (1004968, 85)\n"
     ]
    }
   ],
   "source": [
    "print(\"Old Shape: \", data_train_5000.shape)\n",
    "# Remove area higher than 120 000 sqft\n",
    "data_train_5000 = data_train_5000[data_train_5000['building_height_ft']<=120000]\n",
    "print(\"New Shape: \", data_train_5000.shape)"
   ]
  },
  {
   "cell_type": "code",
   "execution_count": 36,
   "id": "b71a9bcb-4c9d-43b5-ad0f-dc7c94e1410e",
   "metadata": {},
   "outputs": [],
   "source": [
    "labels_train_5000 = labels_train_5000.loc[data_train_5000.index]"
   ]
  },
  {
   "cell_type": "markdown",
   "id": "deb2ea6f-1b01-4912-b66a-47bba2b3f98e",
   "metadata": {},
   "source": [
    "### building_use_type_code"
   ]
  },
  {
   "cell_type": "code",
   "execution_count": 37,
   "id": "f88e1fde-9a3f-468d-ae9e-a1d6e855482e",
   "metadata": {},
   "outputs": [
    {
     "name": "stdout",
     "output_type": "stream",
     "text": [
      "[1, 2, 5]\n",
      "Categories (3, int64): [1, 2, 5]\n",
      "0\n"
     ]
    }
   ],
   "source": [
    "print(data_train_5000['building_use_type_code'].unique())\n",
    "print(len(data_train_5000[data_train_5000['building_use_type_code'].isna()]))"
   ]
  },
  {
   "cell_type": "code",
   "execution_count": 38,
   "id": "25c18161-597a-4502-8246-8606cedacc06",
   "metadata": {},
   "outputs": [],
   "source": [
    "cols_use_type = ['Residential single-family', 'Residential multi-family', 'Commercial & Other']\n",
    "data_train_5000 = pd.concat([data_train_5000, one_hot_encoder(data_train_5000, 'building_use_type_code', cols_use_type).set_index(data_train_5000.index)], axis=1)"
   ]
  },
  {
   "cell_type": "code",
   "execution_count": 39,
   "id": "41cc72fc-c3a2-4492-bc3a-6b6e3e11ccd1",
   "metadata": {},
   "outputs": [
    {
     "name": "stdout",
     "output_type": "stream",
     "text": [
      "['Residential single-family' 'Residential multi-family'\n",
      " 'Commercial & Other']\n"
     ]
    }
   ],
   "source": [
    "print(data_train_5000['building_use_type_description'].unique())"
   ]
  },
  {
   "cell_type": "markdown",
   "id": "4024eb8d-97b8-4e27-b862-5ba1b9968ce4",
   "metadata": {},
   "source": [
    "### building_living_area_sqft\n",
    "Replace missing values by mean living area in sqft according to the building type"
   ]
  },
  {
   "cell_type": "code",
   "execution_count": 40,
   "id": "f70d1255-152f-42e9-a94a-c7ca14118ee5",
   "metadata": {},
   "outputs": [],
   "source": [
    "data_train_5000 = compute_apply_group_agg(data_train_5000, data_train_5000, 'living_area_sqft', 'building_type')"
   ]
  },
  {
   "cell_type": "code",
   "execution_count": 41,
   "id": "911a2d70-63f7-4297-b83f-cbd6b8e19478",
   "metadata": {},
   "outputs": [
    {
     "name": "stdout",
     "output_type": "stream",
     "text": [
      "0\n"
     ]
    }
   ],
   "source": [
    "print(len(data_train_5000[data_train_5000['living_area_sqft'].isna()]))"
   ]
  },
  {
   "cell_type": "markdown",
   "id": "cb3797d3-0745-445d-8458-86fd92c2aba3",
   "metadata": {},
   "source": [
    "### has_air_conditioning\n",
    "1 if air conditioning in the building, 0 if otherwise or missing"
   ]
  },
  {
   "cell_type": "code",
   "execution_count": 42,
   "id": "f6b022e8-1ea5-4390-a972-423c87e92f99",
   "metadata": {},
   "outputs": [],
   "source": [
    "data_train_5000['has_air_conditioning'].fillna(False, inplace=True)\n",
    "data_train_5000['has_air_conditioning'].replace({True:1, False:0}, inplace=True)"
   ]
  },
  {
   "cell_type": "markdown",
   "id": "45817d0a-74b0-4d2b-9508-6e6342b3dcf1",
   "metadata": {},
   "source": [
    "### has_balcony\n",
    "1 if balcony present in the building, 0 if otherwise or missing"
   ]
  },
  {
   "cell_type": "code",
   "execution_count": 43,
   "id": "420f8c64-09f9-42bf-9371-f11afc043f8c",
   "metadata": {},
   "outputs": [],
   "source": [
    "data_train_5000['has_balcony'].fillna(False, inplace=True)\n",
    "data_train_5000['has_balcony'].replace({True:1, False:0}, inplace=True)"
   ]
  },
  {
   "cell_type": "markdown",
   "id": "3588f920-718d-47b4-8e86-5705c5e0c653",
   "metadata": {},
   "source": [
    "### lowe_floor_thermal_conductivity\n",
    "impute the missing values by the mean"
   ]
  },
  {
   "cell_type": "code",
   "execution_count": 44,
   "id": "7fbfeec1-31b1-464a-a5fb-11d6f7ce1cf2",
   "metadata": {},
   "outputs": [
    {
     "name": "stdout",
     "output_type": "stream",
     "text": [
      "76368\n"
     ]
    }
   ],
   "source": [
    "print(len(data_train_5000[data_train_5000['lowe_floor_thermal_conductivity'].isna()]))"
   ]
  },
  {
   "cell_type": "code",
   "execution_count": 45,
   "id": "8f451eb3-c659-4f91-8820-2db4be24ca6b",
   "metadata": {},
   "outputs": [],
   "source": [
    "data_train_5000 = compute_apply_mean(data_train_5000, data_train_5000, 'lowe_floor_thermal_conductivity')"
   ]
  },
  {
   "cell_type": "markdown",
   "id": "a810bf16-f2b8-4038-baec-dd2fe5b9d9f9",
   "metadata": {
    "tags": []
   },
   "source": [
    "### heating_types\n",
    "collective or individual heating type, individual if missing"
   ]
  },
  {
   "cell_type": "code",
   "execution_count": 46,
   "id": "0fc63cc8-79b9-499c-b9d0-209f6be298bf",
   "metadata": {},
   "outputs": [],
   "source": [
    "data_train_5000['heating_type'].fillna('individual', inplace=True)\n",
    "data_train_5000['heating_type'].replace({'individual':0, 'collective':1}, inplace=True)"
   ]
  },
  {
   "cell_type": "markdown",
   "id": "228c5f3e-c7f4-421f-8e6b-023c11279ea3",
   "metadata": {},
   "source": [
    "### is_crossing_building\n",
    "One-hot encoding for different types of crossing, maybe consider only one dummy in the training"
   ]
  },
  {
   "cell_type": "code",
   "execution_count": 47,
   "id": "db01630c-96f0-46de-9ddf-6a92c8858bd9",
   "metadata": {},
   "outputs": [],
   "source": [
    "to_replace_cross = {\"90° crossing (weak)\":\"through 90°\", \"all through crossing (weak)\":\"through all way\",\\\n",
    "              \"east-west crossing (weak)\":\"crossing east west\", \"north-south crossing (weak)\":\"crossing north south\"}\n",
    "data_train_5000[\"is_crossing_building\"].replace(to_replace_cross, inplace=True)\n",
    "data_train_5000[\"is_crossing_building\"].fillna('through all way', inplace=True)\n",
    "cols_cross = ['is_crossing_building_crossing_east_west', 'is_crossing_building_crossing_north_south',\\\n",
    "           'is_crossing_building_not_through', 'is_crossing_building_through_90', \\\n",
    "           'is_crossing_building_through_all_way']\n",
    "data_train_5000 = pd.concat([data_train_5000, one_hot_encoder(data_train_5000,'is_crossing_building', cols_cross).set_index(data_train_5000.index)], axis=1)"
   ]
  },
  {
   "cell_type": "markdown",
   "id": "50e8e313-87da-4796-9958-72bd87cea16b",
   "metadata": {},
   "source": [
    "### wall_insulation_type\n",
    "Isolation type recoded, missing values considered as non insulated"
   ]
  },
  {
   "cell_type": "code",
   "execution_count": 48,
   "id": "2ef7b7df-c0f6-4f3a-95f2-a880248efb18",
   "metadata": {},
   "outputs": [],
   "source": [
    "data_train_5000['wall_insulation_type'].fillna('non insulated', inplace=True)\n",
    "data_train_5000['wall_insulation_type'].replace({'internal':1, 'non insulated':0, 'external':1, 'reflection':1, \\\n",
    "                                    'internal+external':2, 'internal+reflexion':2, 'MOB':1, \\\n",
    "                                    'external+reflection':2, 'insulated':1}, inplace=True)"
   ]
  },
  {
   "cell_type": "markdown",
   "id": "7ba6b4a3-2bdc-490f-8349-beed0f4f581e",
   "metadata": {},
   "source": [
    "### nb_commercial_units\n",
    "missing values : no commercial units"
   ]
  },
  {
   "cell_type": "code",
   "execution_count": 49,
   "id": "65afb53c-6410-449d-b396-67c1646a418b",
   "metadata": {},
   "outputs": [
    {
     "name": "stdout",
     "output_type": "stream",
     "text": [
      "890333\n"
     ]
    }
   ],
   "source": [
    "print(len(data_train_5000[data_train_5000['nb_commercial_units'].isna()]))"
   ]
  },
  {
   "cell_type": "code",
   "execution_count": 50,
   "id": "c82a1751-0763-42c1-ad72-e5292feac86f",
   "metadata": {},
   "outputs": [],
   "source": [
    "data_train_5000['nb_commercial_units'] = data_train_5000['nb_commercial_units'].fillna(0)"
   ]
  },
  {
   "cell_type": "markdown",
   "id": "99fa5888-bf5f-43e2-9d38-c08157bb6026",
   "metadata": {
    "tags": []
   },
   "source": [
    "### outer_wall_thermal_conductivity\n",
    "impute the missing values by the mean"
   ]
  },
  {
   "cell_type": "code",
   "execution_count": 51,
   "id": "50f12fc1-3f0b-4d59-abe5-422803383317",
   "metadata": {},
   "outputs": [
    {
     "name": "stdout",
     "output_type": "stream",
     "text": [
      "7308\n"
     ]
    }
   ],
   "source": [
    "print(len(data_train_5000[data_train_5000['outer_wall_thermal_conductivity'].isna()]))"
   ]
  },
  {
   "cell_type": "code",
   "execution_count": 52,
   "id": "545db652-262e-4e32-af0b-5b76c9b64e5f",
   "metadata": {},
   "outputs": [],
   "source": [
    "data_train_5000 = compute_apply_mean(data_train_5000, data_train_5000, 'outer_wall_thermal_conductivity')"
   ]
  },
  {
   "cell_type": "markdown",
   "id": "25ee58cd-ff00-4892-a4ab-6273f3c2d451",
   "metadata": {
    "tags": []
   },
   "source": [
    "### percentage_glazed_surfaced\n",
    "impute the missing values by mean by building type"
   ]
  },
  {
   "cell_type": "code",
   "execution_count": 53,
   "id": "30876649-26ca-49a9-b785-750838ebfc46",
   "metadata": {},
   "outputs": [
    {
     "name": "stdout",
     "output_type": "stream",
     "text": [
      "127546\n"
     ]
    }
   ],
   "source": [
    "print(len(data_train_5000[data_train_5000['percentage_glazed_surfaced'].isna()]))"
   ]
  },
  {
   "cell_type": "code",
   "execution_count": 54,
   "id": "5d8ecd42-8dbe-4f90-8afa-5bd72df4c37c",
   "metadata": {},
   "outputs": [],
   "source": [
    "data_train_5000 = compute_apply_group_agg(data_train_5000, data_train_5000, 'percentage_glazed_surfaced', 'building_type')"
   ]
  },
  {
   "cell_type": "markdown",
   "id": "cbf1749c-deb5-4317-909c-60e16603f879",
   "metadata": {},
   "source": [
    "### upper_floor_thermal_conductivity\n",
    "impute missing values by the mean of conductivity"
   ]
  },
  {
   "cell_type": "code",
   "execution_count": 55,
   "id": "f29c7bd1-7120-4124-94e8-f58910b1e4a1",
   "metadata": {},
   "outputs": [
    {
     "name": "stdout",
     "output_type": "stream",
     "text": [
      "45166\n"
     ]
    }
   ],
   "source": [
    "print(len(data_train_5000[data_train_5000['upper_floor_thermal_conductivity'].isna()]))"
   ]
  },
  {
   "cell_type": "code",
   "execution_count": 56,
   "id": "bffd8cca-ad15-42a9-91de-1897c0f03306",
   "metadata": {},
   "outputs": [],
   "source": [
    "data_train_5000 = compute_apply_mean(data_train_5000, data_train_5000, 'upper_floor_thermal_conductivity')"
   ]
  },
  {
   "cell_type": "markdown",
   "id": "c462d80c-fc2c-458f-a335-bf221a0522bf",
   "metadata": {
    "tags": []
   },
   "source": [
    "### window_heat_retention_factor"
   ]
  },
  {
   "cell_type": "code",
   "execution_count": 57,
   "id": "b3d22994-0768-462f-864c-8a4a3881ff8f",
   "metadata": {},
   "outputs": [
    {
     "name": "stdout",
     "output_type": "stream",
     "text": [
      "22276\n"
     ]
    }
   ],
   "source": [
    "print(len(data_train_5000[data_train_5000['window_heat_retention_factor'].isna()]))"
   ]
  },
  {
   "cell_type": "code",
   "execution_count": 58,
   "id": "1cbab15e-94d0-4f31-bd5f-53ca17fd9344",
   "metadata": {},
   "outputs": [],
   "source": [
    "data_train_5000 = compute_apply_mean(data_train_5000, data_train_5000, 'window_heat_retention_factor')"
   ]
  },
  {
   "cell_type": "markdown",
   "id": "ce9f5dbe-6a35-4366-b1c2-dd3c1d515149",
   "metadata": {},
   "source": [
    "### window_thermal_conductivity"
   ]
  },
  {
   "cell_type": "code",
   "execution_count": 59,
   "id": "1d9d0b0a-c3f9-4472-8b51-79b3517df264",
   "metadata": {},
   "outputs": [
    {
     "name": "stdout",
     "output_type": "stream",
     "text": [
      "5062\n"
     ]
    }
   ],
   "source": [
    "print(len(data_train_5000[data_train_5000['window_thermal_conductivity'].isna()]))"
   ]
  },
  {
   "cell_type": "code",
   "execution_count": 60,
   "id": "db321f52-ca16-49d5-930a-5deee63cf9c6",
   "metadata": {},
   "outputs": [],
   "source": [
    "data_train_5000 = compute_apply_mean(data_train_5000, data_train_5000, 'window_thermal_conductivity')"
   ]
  },
  {
   "cell_type": "code",
   "execution_count": 61,
   "id": "69721ff7-acbb-45d0-a308-e23d64627e53",
   "metadata": {},
   "outputs": [
    {
     "name": "stdout",
     "output_type": "stream",
     "text": [
      "True\n"
     ]
    }
   ],
   "source": [
    "print(np.all(data_train_5000.index==labels_train_5000.index))"
   ]
  },
  {
   "cell_type": "markdown",
   "id": "3d3e9bcf-b74c-4181-930b-f764193f21dc",
   "metadata": {},
   "source": [
    "### renewable_energy_sources\n",
    "1 if energy, 0 otherwise, \n",
    "if missing = no renewable energy"
   ]
  },
  {
   "cell_type": "code",
   "execution_count": 62,
   "id": "14c4281c-25cf-4cc4-82ad-2b78faac7da3",
   "metadata": {},
   "outputs": [],
   "source": [
    "data_train_5000[\"renewable_energy_sources\"] = np.where(data_train_5000['renewable_energy_sources'].isnull(), 0, 1)"
   ]
  },
  {
   "cell_type": "markdown",
   "id": "60f6ba2a-4b8e-4cae-ba53-8e9b575a69c0",
   "metadata": {},
   "source": [
    "### outer_wall_thickness\n",
    "fill Nan with the most popular category + transform in float"
   ]
  },
  {
   "cell_type": "code",
   "execution_count": 63,
   "id": "914e487b-b3e8-447e-a216-44f02b79ca09",
   "metadata": {},
   "outputs": [],
   "source": [
    "data_train_5000[\"outer_wall_thickness\"].fillna('20 et -', inplace = True)\n",
    "data_train_5000['outer_wall_thickness'] = data_train_5000['outer_wall_thickness'].astype(str).map(lambda x: x.rstrip(' et -')).astype(float)"
   ]
  },
  {
   "cell_type": "markdown",
   "id": "2c002fc8-b5a1-469e-81d6-f544cafc5bbe",
   "metadata": {},
   "source": [
    "### radon_risk_level"
   ]
  },
  {
   "cell_type": "code",
   "execution_count": 64,
   "id": "81aee2d5-5c74-4c0e-a957-dfe68aa8fe08",
   "metadata": {},
   "outputs": [],
   "source": [
    "scale_mapper = {\"low\":1, \"medium\":2, \"high\":3}\n",
    "data_train_5000[\"radon_risk_level\"].fillna('low', inplace = True)\n",
    "data_train_5000[\"radon_risk_level\"] = data_train_5000[\"radon_risk_level\"].replace(scale_mapper).astype(int)"
   ]
  },
  {
   "cell_type": "markdown",
   "id": "1b0e7922-aeaa-49a7-81b0-2963ec02b201",
   "metadata": {},
   "source": [
    "### thermal_inertia"
   ]
  },
  {
   "cell_type": "code",
   "execution_count": 65,
   "id": "d656c843-1dba-4115-8427-1b4b5f8198f4",
   "metadata": {},
   "outputs": [],
   "source": [
    "scale_mapper = {\"low\":1, \"medium\":2, \"high\":3, \"very high\":4}\n",
    "data_train_5000[\"thermal_inertia\"] = data_train_5000[\"thermal_inertia\"].replace(scale_mapper)"
   ]
  },
  {
   "cell_type": "markdown",
   "id": "e9b14d57-d9d5-442d-824e-9f68926713e1",
   "metadata": {},
   "source": [
    "## DATA INTERMEDIARY"
   ]
  },
  {
   "cell_type": "code",
   "execution_count": 66,
   "id": "9aef9e56-71db-449c-b7b3-4ef638e5d2b3",
   "metadata": {},
   "outputs": [],
   "source": [
    "data_train_base = data_train_5000[['additional_heat_generators', 'additional_water_heaters', 'altitude',\n",
    "                                   'area_code','building_height_ft',\n",
    "                             'building_total_area_sqft','building_use_type_code',\n",
    "                                   'has_balcony', 'has_air_conditioning', 'heating_type',\n",
    "                             'living_area_sqft', 'lowe_floor_thermal_conductivity',\n",
    "                             'nb_commercial_units', 'nb_dwellings', 'outer_wall_thermal_conductivity',\n",
    "                             'percentage_glazed_surfaced', 'upper_floor_thermal_conductivity',\n",
    "                             'window_heat_retention_factor', 'window_thermal_conductivity',\n",
    "                                      'outer_wall_thickness', 'radon_risk_level','renewable_energy_sources'\n",
    "                                   ,'thermal_inertia','wall_insulation_type']\n",
    "                                  +cols_category+cols_type+cols_period+cols_cross]"
   ]
  },
  {
   "cell_type": "code",
   "execution_count": 67,
   "id": "8c52aa57-d7bb-43d3-a5d0-e8220df4483b",
   "metadata": {},
   "outputs": [
    {
     "data": {
      "text/html": [
       "<div>\n",
       "<style scoped>\n",
       "    .dataframe tbody tr th:only-of-type {\n",
       "        vertical-align: middle;\n",
       "    }\n",
       "\n",
       "    .dataframe tbody tr th {\n",
       "        vertical-align: top;\n",
       "    }\n",
       "\n",
       "    .dataframe thead th {\n",
       "        text-align: right;\n",
       "    }\n",
       "</style>\n",
       "<table border=\"1\" class=\"dataframe\">\n",
       "  <thead>\n",
       "    <tr style=\"text-align: right;\">\n",
       "      <th></th>\n",
       "      <th>additional_heat_generators</th>\n",
       "      <th>additional_water_heaters</th>\n",
       "      <th>altitude</th>\n",
       "      <th>area_code</th>\n",
       "      <th>building_height_ft</th>\n",
       "      <th>building_total_area_sqft</th>\n",
       "      <th>building_use_type_code</th>\n",
       "      <th>has_balcony</th>\n",
       "      <th>has_air_conditioning</th>\n",
       "      <th>heating_type</th>\n",
       "      <th>...</th>\n",
       "      <th>building_period_1989-1999</th>\n",
       "      <th>building_period_2000-2005</th>\n",
       "      <th>building_period_2006-2012</th>\n",
       "      <th>building_period_inf_1948</th>\n",
       "      <th>building_period_sup_2012</th>\n",
       "      <th>is_crossing_building_crossing_east_west</th>\n",
       "      <th>is_crossing_building_crossing_north_south</th>\n",
       "      <th>is_crossing_building_not_through</th>\n",
       "      <th>is_crossing_building_through_90</th>\n",
       "      <th>is_crossing_building_through_all_way</th>\n",
       "    </tr>\n",
       "    <tr>\n",
       "      <th>level_0</th>\n",
       "      <th></th>\n",
       "      <th></th>\n",
       "      <th></th>\n",
       "      <th></th>\n",
       "      <th></th>\n",
       "      <th></th>\n",
       "      <th></th>\n",
       "      <th></th>\n",
       "      <th></th>\n",
       "      <th></th>\n",
       "      <th></th>\n",
       "      <th></th>\n",
       "      <th></th>\n",
       "      <th></th>\n",
       "      <th></th>\n",
       "      <th></th>\n",
       "      <th></th>\n",
       "      <th></th>\n",
       "      <th></th>\n",
       "      <th></th>\n",
       "      <th></th>\n",
       "    </tr>\n",
       "  </thead>\n",
       "  <tbody>\n",
       "    <tr>\n",
       "      <th>111323</th>\n",
       "      <td>1</td>\n",
       "      <td>0</td>\n",
       "      <td>328.08400</td>\n",
       "      <td>881</td>\n",
       "      <td>13.779528</td>\n",
       "      <td>1291.668000</td>\n",
       "      <td>1</td>\n",
       "      <td>0</td>\n",
       "      <td>0</td>\n",
       "      <td>0</td>\n",
       "      <td>...</td>\n",
       "      <td>0.0</td>\n",
       "      <td>0.0</td>\n",
       "      <td>0.0</td>\n",
       "      <td>0.0</td>\n",
       "      <td>0.0</td>\n",
       "      <td>1.0</td>\n",
       "      <td>0.0</td>\n",
       "      <td>0.0</td>\n",
       "      <td>0.0</td>\n",
       "      <td>0.0</td>\n",
       "    </tr>\n",
       "    <tr>\n",
       "      <th>265182</th>\n",
       "      <td>0</td>\n",
       "      <td>0</td>\n",
       "      <td>360.89240</td>\n",
       "      <td>260</td>\n",
       "      <td>43.635172</td>\n",
       "      <td>7136.465700</td>\n",
       "      <td>2</td>\n",
       "      <td>0</td>\n",
       "      <td>0</td>\n",
       "      <td>0</td>\n",
       "      <td>...</td>\n",
       "      <td>0.0</td>\n",
       "      <td>0.0</td>\n",
       "      <td>0.0</td>\n",
       "      <td>1.0</td>\n",
       "      <td>0.0</td>\n",
       "      <td>0.0</td>\n",
       "      <td>0.0</td>\n",
       "      <td>0.0</td>\n",
       "      <td>0.0</td>\n",
       "      <td>1.0</td>\n",
       "    </tr>\n",
       "    <tr>\n",
       "      <th>927507</th>\n",
       "      <td>0</td>\n",
       "      <td>0</td>\n",
       "      <td>324.80316</td>\n",
       "      <td>573</td>\n",
       "      <td>19.685040</td>\n",
       "      <td>4197.921000</td>\n",
       "      <td>2</td>\n",
       "      <td>0</td>\n",
       "      <td>0</td>\n",
       "      <td>0</td>\n",
       "      <td>...</td>\n",
       "      <td>0.0</td>\n",
       "      <td>1.0</td>\n",
       "      <td>0.0</td>\n",
       "      <td>0.0</td>\n",
       "      <td>0.0</td>\n",
       "      <td>1.0</td>\n",
       "      <td>0.0</td>\n",
       "      <td>0.0</td>\n",
       "      <td>0.0</td>\n",
       "      <td>0.0</td>\n",
       "    </tr>\n",
       "    <tr>\n",
       "      <th>874620</th>\n",
       "      <td>0</td>\n",
       "      <td>0</td>\n",
       "      <td>288.71392</td>\n",
       "      <td>204</td>\n",
       "      <td>13.779528</td>\n",
       "      <td>1646.876700</td>\n",
       "      <td>1</td>\n",
       "      <td>1</td>\n",
       "      <td>0</td>\n",
       "      <td>0</td>\n",
       "      <td>...</td>\n",
       "      <td>0.0</td>\n",
       "      <td>0.0</td>\n",
       "      <td>0.0</td>\n",
       "      <td>1.0</td>\n",
       "      <td>0.0</td>\n",
       "      <td>0.0</td>\n",
       "      <td>0.0</td>\n",
       "      <td>0.0</td>\n",
       "      <td>0.0</td>\n",
       "      <td>1.0</td>\n",
       "    </tr>\n",
       "    <tr>\n",
       "      <th>563274</th>\n",
       "      <td>0</td>\n",
       "      <td>0</td>\n",
       "      <td>849.73756</td>\n",
       "      <td>374</td>\n",
       "      <td>19.028872</td>\n",
       "      <td>1033.334400</td>\n",
       "      <td>1</td>\n",
       "      <td>0</td>\n",
       "      <td>0</td>\n",
       "      <td>0</td>\n",
       "      <td>...</td>\n",
       "      <td>0.0</td>\n",
       "      <td>0.0</td>\n",
       "      <td>1.0</td>\n",
       "      <td>0.0</td>\n",
       "      <td>0.0</td>\n",
       "      <td>0.0</td>\n",
       "      <td>1.0</td>\n",
       "      <td>0.0</td>\n",
       "      <td>0.0</td>\n",
       "      <td>0.0</td>\n",
       "    </tr>\n",
       "    <tr>\n",
       "      <th>...</th>\n",
       "      <td>...</td>\n",
       "      <td>...</td>\n",
       "      <td>...</td>\n",
       "      <td>...</td>\n",
       "      <td>...</td>\n",
       "      <td>...</td>\n",
       "      <td>...</td>\n",
       "      <td>...</td>\n",
       "      <td>...</td>\n",
       "      <td>...</td>\n",
       "      <td>...</td>\n",
       "      <td>...</td>\n",
       "      <td>...</td>\n",
       "      <td>...</td>\n",
       "      <td>...</td>\n",
       "      <td>...</td>\n",
       "      <td>...</td>\n",
       "      <td>...</td>\n",
       "      <td>...</td>\n",
       "      <td>...</td>\n",
       "      <td>...</td>\n",
       "    </tr>\n",
       "    <tr>\n",
       "      <th>84908</th>\n",
       "      <td>0</td>\n",
       "      <td>1</td>\n",
       "      <td>1591.20740</td>\n",
       "      <td>671</td>\n",
       "      <td>17.060368</td>\n",
       "      <td>1054.862200</td>\n",
       "      <td>1</td>\n",
       "      <td>0</td>\n",
       "      <td>0</td>\n",
       "      <td>0</td>\n",
       "      <td>...</td>\n",
       "      <td>1.0</td>\n",
       "      <td>0.0</td>\n",
       "      <td>0.0</td>\n",
       "      <td>0.0</td>\n",
       "      <td>0.0</td>\n",
       "      <td>1.0</td>\n",
       "      <td>0.0</td>\n",
       "      <td>0.0</td>\n",
       "      <td>0.0</td>\n",
       "      <td>0.0</td>\n",
       "    </tr>\n",
       "    <tr>\n",
       "      <th>997676</th>\n",
       "      <td>0</td>\n",
       "      <td>0</td>\n",
       "      <td>688.97640</td>\n",
       "      <td>345</td>\n",
       "      <td>26.246720</td>\n",
       "      <td>2055.904900</td>\n",
       "      <td>2</td>\n",
       "      <td>1</td>\n",
       "      <td>0</td>\n",
       "      <td>0</td>\n",
       "      <td>...</td>\n",
       "      <td>0.0</td>\n",
       "      <td>0.0</td>\n",
       "      <td>1.0</td>\n",
       "      <td>0.0</td>\n",
       "      <td>0.0</td>\n",
       "      <td>1.0</td>\n",
       "      <td>0.0</td>\n",
       "      <td>0.0</td>\n",
       "      <td>0.0</td>\n",
       "      <td>0.0</td>\n",
       "    </tr>\n",
       "    <tr>\n",
       "      <th>311831</th>\n",
       "      <td>1</td>\n",
       "      <td>0</td>\n",
       "      <td>2805.11820</td>\n",
       "      <td>205</td>\n",
       "      <td>22.637796</td>\n",
       "      <td>2098.960500</td>\n",
       "      <td>2</td>\n",
       "      <td>0</td>\n",
       "      <td>0</td>\n",
       "      <td>0</td>\n",
       "      <td>...</td>\n",
       "      <td>0.0</td>\n",
       "      <td>0.0</td>\n",
       "      <td>0.0</td>\n",
       "      <td>0.0</td>\n",
       "      <td>0.0</td>\n",
       "      <td>0.0</td>\n",
       "      <td>0.0</td>\n",
       "      <td>0.0</td>\n",
       "      <td>0.0</td>\n",
       "      <td>1.0</td>\n",
       "    </tr>\n",
       "    <tr>\n",
       "      <th>789794</th>\n",
       "      <td>0</td>\n",
       "      <td>0</td>\n",
       "      <td>708.66144</td>\n",
       "      <td>451</td>\n",
       "      <td>19.685040</td>\n",
       "      <td>1246.107953</td>\n",
       "      <td>5</td>\n",
       "      <td>0</td>\n",
       "      <td>0</td>\n",
       "      <td>0</td>\n",
       "      <td>...</td>\n",
       "      <td>0.0</td>\n",
       "      <td>0.0</td>\n",
       "      <td>0.0</td>\n",
       "      <td>1.0</td>\n",
       "      <td>0.0</td>\n",
       "      <td>0.0</td>\n",
       "      <td>0.0</td>\n",
       "      <td>0.0</td>\n",
       "      <td>0.0</td>\n",
       "      <td>1.0</td>\n",
       "    </tr>\n",
       "    <tr>\n",
       "      <th>31221</th>\n",
       "      <td>0</td>\n",
       "      <td>1</td>\n",
       "      <td>643.04464</td>\n",
       "      <td>191</td>\n",
       "      <td>27.230972</td>\n",
       "      <td>1033.334400</td>\n",
       "      <td>1</td>\n",
       "      <td>0</td>\n",
       "      <td>0</td>\n",
       "      <td>0</td>\n",
       "      <td>...</td>\n",
       "      <td>0.0</td>\n",
       "      <td>0.0</td>\n",
       "      <td>0.0</td>\n",
       "      <td>0.0</td>\n",
       "      <td>0.0</td>\n",
       "      <td>0.0</td>\n",
       "      <td>0.0</td>\n",
       "      <td>0.0</td>\n",
       "      <td>0.0</td>\n",
       "      <td>1.0</td>\n",
       "    </tr>\n",
       "  </tbody>\n",
       "</table>\n",
       "<p>1004968 rows × 44 columns</p>\n",
       "</div>"
      ],
      "text/plain": [
       "         additional_heat_generators  additional_water_heaters    altitude  \\\n",
       "level_0                                                                     \n",
       "111323                            1                         0   328.08400   \n",
       "265182                            0                         0   360.89240   \n",
       "927507                            0                         0   324.80316   \n",
       "874620                            0                         0   288.71392   \n",
       "563274                            0                         0   849.73756   \n",
       "...                             ...                       ...         ...   \n",
       "84908                             0                         1  1591.20740   \n",
       "997676                            0                         0   688.97640   \n",
       "311831                            1                         0  2805.11820   \n",
       "789794                            0                         0   708.66144   \n",
       "31221                             0                         1   643.04464   \n",
       "\n",
       "        area_code  building_height_ft  building_total_area_sqft  \\\n",
       "level_0                                                           \n",
       "111323        881           13.779528               1291.668000   \n",
       "265182        260           43.635172               7136.465700   \n",
       "927507        573           19.685040               4197.921000   \n",
       "874620        204           13.779528               1646.876700   \n",
       "563274        374           19.028872               1033.334400   \n",
       "...           ...                 ...                       ...   \n",
       "84908         671           17.060368               1054.862200   \n",
       "997676        345           26.246720               2055.904900   \n",
       "311831        205           22.637796               2098.960500   \n",
       "789794        451           19.685040               1246.107953   \n",
       "31221         191           27.230972               1033.334400   \n",
       "\n",
       "        building_use_type_code  has_balcony  has_air_conditioning  \\\n",
       "level_0                                                             \n",
       "111323                       1            0                     0   \n",
       "265182                       2            0                     0   \n",
       "927507                       2            0                     0   \n",
       "874620                       1            1                     0   \n",
       "563274                       1            0                     0   \n",
       "...                        ...          ...                   ...   \n",
       "84908                        1            0                     0   \n",
       "997676                       2            1                     0   \n",
       "311831                       2            0                     0   \n",
       "789794                       5            0                     0   \n",
       "31221                        1            0                     0   \n",
       "\n",
       "         heating_type  ...  building_period_1989-1999  \\\n",
       "level_0                ...                              \n",
       "111323              0  ...                        0.0   \n",
       "265182              0  ...                        0.0   \n",
       "927507              0  ...                        0.0   \n",
       "874620              0  ...                        0.0   \n",
       "563274              0  ...                        0.0   \n",
       "...               ...  ...                        ...   \n",
       "84908               0  ...                        1.0   \n",
       "997676              0  ...                        0.0   \n",
       "311831              0  ...                        0.0   \n",
       "789794              0  ...                        0.0   \n",
       "31221               0  ...                        0.0   \n",
       "\n",
       "         building_period_2000-2005  building_period_2006-2012  \\\n",
       "level_0                                                         \n",
       "111323                         0.0                        0.0   \n",
       "265182                         0.0                        0.0   \n",
       "927507                         1.0                        0.0   \n",
       "874620                         0.0                        0.0   \n",
       "563274                         0.0                        1.0   \n",
       "...                            ...                        ...   \n",
       "84908                          0.0                        0.0   \n",
       "997676                         0.0                        1.0   \n",
       "311831                         0.0                        0.0   \n",
       "789794                         0.0                        0.0   \n",
       "31221                          0.0                        0.0   \n",
       "\n",
       "         building_period_inf_1948  building_period_sup_2012  \\\n",
       "level_0                                                       \n",
       "111323                        0.0                       0.0   \n",
       "265182                        1.0                       0.0   \n",
       "927507                        0.0                       0.0   \n",
       "874620                        1.0                       0.0   \n",
       "563274                        0.0                       0.0   \n",
       "...                           ...                       ...   \n",
       "84908                         0.0                       0.0   \n",
       "997676                        0.0                       0.0   \n",
       "311831                        0.0                       0.0   \n",
       "789794                        1.0                       0.0   \n",
       "31221                         0.0                       0.0   \n",
       "\n",
       "         is_crossing_building_crossing_east_west  \\\n",
       "level_0                                            \n",
       "111323                                       1.0   \n",
       "265182                                       0.0   \n",
       "927507                                       1.0   \n",
       "874620                                       0.0   \n",
       "563274                                       0.0   \n",
       "...                                          ...   \n",
       "84908                                        1.0   \n",
       "997676                                       1.0   \n",
       "311831                                       0.0   \n",
       "789794                                       0.0   \n",
       "31221                                        0.0   \n",
       "\n",
       "         is_crossing_building_crossing_north_south  \\\n",
       "level_0                                              \n",
       "111323                                         0.0   \n",
       "265182                                         0.0   \n",
       "927507                                         0.0   \n",
       "874620                                         0.0   \n",
       "563274                                         1.0   \n",
       "...                                            ...   \n",
       "84908                                          0.0   \n",
       "997676                                         0.0   \n",
       "311831                                         0.0   \n",
       "789794                                         0.0   \n",
       "31221                                          0.0   \n",
       "\n",
       "         is_crossing_building_not_through  is_crossing_building_through_90  \\\n",
       "level_0                                                                      \n",
       "111323                                0.0                              0.0   \n",
       "265182                                0.0                              0.0   \n",
       "927507                                0.0                              0.0   \n",
       "874620                                0.0                              0.0   \n",
       "563274                                0.0                              0.0   \n",
       "...                                   ...                              ...   \n",
       "84908                                 0.0                              0.0   \n",
       "997676                                0.0                              0.0   \n",
       "311831                                0.0                              0.0   \n",
       "789794                                0.0                              0.0   \n",
       "31221                                 0.0                              0.0   \n",
       "\n",
       "         is_crossing_building_through_all_way  \n",
       "level_0                                        \n",
       "111323                                    0.0  \n",
       "265182                                    1.0  \n",
       "927507                                    0.0  \n",
       "874620                                    1.0  \n",
       "563274                                    0.0  \n",
       "...                                       ...  \n",
       "84908                                     0.0  \n",
       "997676                                    0.0  \n",
       "311831                                    1.0  \n",
       "789794                                    1.0  \n",
       "31221                                     1.0  \n",
       "\n",
       "[1004968 rows x 44 columns]"
      ]
     },
     "execution_count": 67,
     "metadata": {},
     "output_type": "execute_result"
    }
   ],
   "source": [
    "data_train_base"
   ]
  },
  {
   "cell_type": "code",
   "execution_count": 68,
   "id": "5866d145-b0fc-4240-9560-bac053c7376a",
   "metadata": {},
   "outputs": [],
   "source": [
    "labels_train_base = labels_train_5000.copy()"
   ]
  },
  {
   "cell_type": "code",
   "execution_count": 69,
   "id": "160f1854-6b43-4d08-b463-5b3bd336f049",
   "metadata": {},
   "outputs": [
    {
     "name": "stdout",
     "output_type": "stream",
     "text": [
      "(1004968, 44) (1004968, 1)\n"
     ]
    }
   ],
   "source": [
    "print(data_train_base.shape, labels_train_base.shape)"
   ]
  },
  {
   "cell_type": "markdown",
   "id": "a70fc64c-dd1c-47a2-b9b9-826d6ae8de79",
   "metadata": {},
   "source": [
    "### clean test"
   ]
  },
  {
   "cell_type": "code",
   "execution_count": 70,
   "id": "ea74e4a3-04cc-48c6-8786-b71a0d356d1a",
   "metadata": {},
   "outputs": [],
   "source": [
    "import numpy as np\n",
    "import pandas as pd"
   ]
  },
  {
   "cell_type": "code",
   "execution_count": 71,
   "id": "dfefcd63-e6f9-4823-b419-5516b814cff3",
   "metadata": {},
   "outputs": [],
   "source": [
    "# if train pre-processed before, import these var\n",
    "valid_building_categories = ['[condo]', '[individual house]']\n",
    "cols_category = ['building_category_other', 'building_category_condo', 'building_category_individual_house']\n",
    "\n",
    "cols_type = ['building_type_flat', 'building_type_house', 'building_type_multiple_dwellings', 'building_type_Non_residential', 'building_type_shopping_centres']\n",
    "\n",
    "cols_use_type = ['Residential single-family', 'Residential multi-family', 'Commercial & Other']\n",
    "\n",
    "cols_period = ['building_period_1949-1970', 'building_period_1970-1988', 'building_period_1989-1999', \\\n",
    "        'building_period_2000-2005', 'building_period_2006-2012', 'building_period_inf_1948', 'building_period_sup_2012']\n",
    "to_replace_cross = {\"90° crossing (weak)\":\"through 90°\", \"all through crossing (weak)\":\"through all way\",\\\n",
    "              \"east-west crossing (weak)\":\"crossing east west\", \"north-south crossing (weak)\":\"crossing north south\"}\n",
    "\n",
    "cols_cross = ['is_crossing_building_crossing_east_west', 'is_crossing_building_crossing_north_south',\\\n",
    "           'is_crossing_building_not_through', 'is_crossing_building_through_90', \\\n",
    "           'is_crossing_building_through_all_way']"
   ]
  },
  {
   "cell_type": "code",
   "execution_count": 72,
   "id": "dcb5561f-af80-4c1d-89c9-97dc9025672d",
   "metadata": {},
   "outputs": [],
   "source": [
    "# if train pre-processed before, import these fcts"
   ]
  },
  {
   "cell_type": "code",
   "execution_count": 73,
   "id": "cd6ed114-2dc0-40cf-9b2d-58dd055d4ccc",
   "metadata": {},
   "outputs": [],
   "source": [
    "def compute_apply_group_agg(df_train, df_test, var, cat):\n",
    "    grp = df_train.groupby([cat]).agg('mean')[var]\n",
    "    ind_na = df_test[df_test[var].isna()].index\n",
    "    df_test.loc[ind_na, var] = grp[df_test[cat][ind_na]].values\n",
    "    return df_test"
   ]
  },
  {
   "cell_type": "code",
   "execution_count": 74,
   "id": "5c1b3dcc-8c34-414d-8fb3-d2443d66d64d",
   "metadata": {},
   "outputs": [],
   "source": [
    "def compute_apply_mean(df_train, df_test, var):\n",
    "    mean = np.mean(df_train[var])\n",
    "    ind_na = df_test[df_test[var].isna()].index\n",
    "    df_test.loc[ind_na, var] = mean\n",
    "    return df_test"
   ]
  },
  {
   "cell_type": "code",
   "execution_count": 75,
   "id": "12d7a02f-ceb1-4c42-b57a-734b634e14e2",
   "metadata": {},
   "outputs": [],
   "source": [
    "from sklearn.preprocessing import OneHotEncoder "
   ]
  },
  {
   "cell_type": "code",
   "execution_count": 76,
   "id": "e32dce9c-20ea-4467-b5b2-6da82718629e",
   "metadata": {},
   "outputs": [],
   "source": [
    "def one_hot_encoder(df, var, cols):\n",
    "    encoder = OneHotEncoder(handle_unknown='ignore')\n",
    "    encoder_df = pd.DataFrame(encoder.fit_transform(df[[var]]).toarray(), columns=cols)\n",
    "    return encoder_df"
   ]
  },
  {
   "cell_type": "code",
   "execution_count": 77,
   "id": "bd39a2a3-3a24-4087-92e3-790fa1257b65",
   "metadata": {},
   "outputs": [],
   "source": [
    "cols_inter = ['additional_heat_generators', 'additional_water_heaters', 'altitude',\n",
    "                                   'area_code','building_height_ft',\n",
    "                             'building_total_area_sqft','building_use_type_code',\n",
    "                                   'has_balcony', 'has_air_conditioning', 'heating_type',\n",
    "                             'living_area_sqft', 'lowe_floor_thermal_conductivity',\n",
    "                             'nb_commercial_units', 'nb_dwellings', 'outer_wall_thermal_conductivity',\n",
    "                             'percentage_glazed_surfaced', 'upper_floor_thermal_conductivity',\n",
    "                             'window_heat_retention_factor', 'window_thermal_conductivity',\n",
    "                                      'outer_wall_thickness', 'radon_risk_level','renewable_energy_sources',\n",
    "              'thermal_inertia','wall_insulation_type']+cols_category+cols_type+cols_period+cols_cross"
   ]
  },
  {
   "cell_type": "code",
   "execution_count": 78,
   "id": "f7fa3276-e0b9-4e47-9d41-4569e9fb4851",
   "metadata": {
    "tags": []
   },
   "outputs": [
    {
     "name": "stderr",
     "output_type": "stream",
     "text": [
      "/opt/conda/lib/python3.8/site-packages/IPython/core/interactiveshell.py:3135: DtypeWarning: Columns (19) have mixed types.Specify dtype option on import or set low_memory=False.\n",
      "  has_raised = await self.run_ast_nodes(code_ast.body, cell_name,\n"
     ]
    }
   ],
   "source": [
    "data_test = pd.read_csv(\"../hfactory_magic_folders/hi__paris_hackathon/building_energy_efficiency/datasets/test/test_features_sent.csv\", index_col=0)"
   ]
  },
  {
   "cell_type": "code",
   "execution_count": 79,
   "id": "31d9b48e-387c-4490-b6a7-d1a4de1b8c5a",
   "metadata": {
    "tags": []
   },
   "outputs": [
    {
     "data": {
      "text/html": [
       "<div>\n",
       "<style scoped>\n",
       "    .dataframe tbody tr th:only-of-type {\n",
       "        vertical-align: middle;\n",
       "    }\n",
       "\n",
       "    .dataframe tbody tr th {\n",
       "        vertical-align: top;\n",
       "    }\n",
       "\n",
       "    .dataframe thead th {\n",
       "        text-align: right;\n",
       "    }\n",
       "</style>\n",
       "<table border=\"1\" class=\"dataframe\">\n",
       "  <thead>\n",
       "    <tr style=\"text-align: right;\">\n",
       "      <th></th>\n",
       "      <th>additional_heat_generators</th>\n",
       "      <th>additional_water_heaters</th>\n",
       "      <th>altitude</th>\n",
       "      <th>area_code</th>\n",
       "      <th>balcony_depth</th>\n",
       "      <th>bearing_wall_material</th>\n",
       "      <th>building_category</th>\n",
       "      <th>building_class</th>\n",
       "      <th>building_height_ft</th>\n",
       "      <th>building_period</th>\n",
       "      <th>...</th>\n",
       "      <th>wall_insulation_type</th>\n",
       "      <th>water_heaters</th>\n",
       "      <th>water_heating_energy_source</th>\n",
       "      <th>water_heating_type</th>\n",
       "      <th>window_filling_type</th>\n",
       "      <th>window_frame_material</th>\n",
       "      <th>window_glazing_type</th>\n",
       "      <th>window_heat_retention_factor</th>\n",
       "      <th>window_orientation</th>\n",
       "      <th>window_thermal_conductivity</th>\n",
       "    </tr>\n",
       "    <tr>\n",
       "      <th>level_0</th>\n",
       "      <th></th>\n",
       "      <th></th>\n",
       "      <th></th>\n",
       "      <th></th>\n",
       "      <th></th>\n",
       "      <th></th>\n",
       "      <th></th>\n",
       "      <th></th>\n",
       "      <th></th>\n",
       "      <th></th>\n",
       "      <th></th>\n",
       "      <th></th>\n",
       "      <th></th>\n",
       "      <th></th>\n",
       "      <th></th>\n",
       "      <th></th>\n",
       "      <th></th>\n",
       "      <th></th>\n",
       "      <th></th>\n",
       "      <th></th>\n",
       "      <th></th>\n",
       "    </tr>\n",
       "  </thead>\n",
       "  <tbody>\n",
       "    <tr>\n",
       "      <th>1371914</th>\n",
       "      <td>[]</td>\n",
       "      <td>NaN</td>\n",
       "      <td>249.34384</td>\n",
       "      <td>615</td>\n",
       "      <td>NaN</td>\n",
       "      <td>BRICKS</td>\n",
       "      <td>[]</td>\n",
       "      <td>[]</td>\n",
       "      <td>19.685040</td>\n",
       "      <td>1970-1988</td>\n",
       "      <td>...</td>\n",
       "      <td>internal</td>\n",
       "      <td>[electric storage tank]</td>\n",
       "      <td>electricity</td>\n",
       "      <td>individual</td>\n",
       "      <td>dry air</td>\n",
       "      <td>wood</td>\n",
       "      <td>double glazing</td>\n",
       "      <td>1.067688</td>\n",
       "      <td>[north,sud]</td>\n",
       "      <td>21.349539</td>\n",
       "    </tr>\n",
       "    <tr>\n",
       "      <th>618756</th>\n",
       "      <td>[]</td>\n",
       "      <td>NaN</td>\n",
       "      <td>104.98688</td>\n",
       "      <td>304</td>\n",
       "      <td>NaN</td>\n",
       "      <td>STONE</td>\n",
       "      <td>[]</td>\n",
       "      <td>[]</td>\n",
       "      <td>28.215224</td>\n",
       "      <td>1970-1988</td>\n",
       "      <td>...</td>\n",
       "      <td>non insulated</td>\n",
       "      <td>[electric storage tank]</td>\n",
       "      <td>electricity</td>\n",
       "      <td>individual</td>\n",
       "      <td>argon or krypton</td>\n",
       "      <td>pvc</td>\n",
       "      <td>double glazing</td>\n",
       "      <td>1.149140</td>\n",
       "      <td>[west]</td>\n",
       "      <td>13.963716</td>\n",
       "    </tr>\n",
       "    <tr>\n",
       "      <th>871032</th>\n",
       "      <td>[]</td>\n",
       "      <td>NaN</td>\n",
       "      <td>72.17848</td>\n",
       "      <td>204</td>\n",
       "      <td>NaN</td>\n",
       "      <td>BRICKS</td>\n",
       "      <td>[individual house]</td>\n",
       "      <td>[individual]</td>\n",
       "      <td>25.918636</td>\n",
       "      <td>1949-1970</td>\n",
       "      <td>...</td>\n",
       "      <td>non insulated</td>\n",
       "      <td>[indeterminate gas boiler]</td>\n",
       "      <td>gas</td>\n",
       "      <td>individual</td>\n",
       "      <td>dry air</td>\n",
       "      <td>pvc</td>\n",
       "      <td>double glazing</td>\n",
       "      <td>1.084204</td>\n",
       "      <td>[north,sud]</td>\n",
       "      <td>14.649374</td>\n",
       "    </tr>\n",
       "    <tr>\n",
       "      <th>1430640</th>\n",
       "      <td>[oil stove or insert]</td>\n",
       "      <td>NaN</td>\n",
       "      <td>800.52496</td>\n",
       "      <td>858</td>\n",
       "      <td>NaN</td>\n",
       "      <td>BRICKS</td>\n",
       "      <td>[individual house]</td>\n",
       "      <td>[individual]</td>\n",
       "      <td>15.748032</td>\n",
       "      <td>1989-1999</td>\n",
       "      <td>...</td>\n",
       "      <td>internal</td>\n",
       "      <td>[electric storage tank]</td>\n",
       "      <td>electricity</td>\n",
       "      <td>individual</td>\n",
       "      <td>dry air</td>\n",
       "      <td>wood</td>\n",
       "      <td>double glazing</td>\n",
       "      <td>1.067688</td>\n",
       "      <td>[est,west]</td>\n",
       "      <td>15.347292</td>\n",
       "    </tr>\n",
       "    <tr>\n",
       "      <th>86306</th>\n",
       "      <td>[wood stove or insert]</td>\n",
       "      <td>NaN</td>\n",
       "      <td>1010.49872</td>\n",
       "      <td>671</td>\n",
       "      <td>NaN</td>\n",
       "      <td>GRITSTONE</td>\n",
       "      <td>[individual house]</td>\n",
       "      <td>[individual]</td>\n",
       "      <td>0.000000</td>\n",
       "      <td>2006-2012</td>\n",
       "      <td>...</td>\n",
       "      <td>internal</td>\n",
       "      <td>[electric storage tank]</td>\n",
       "      <td>electricity</td>\n",
       "      <td>individual</td>\n",
       "      <td>dry air</td>\n",
       "      <td>pvc</td>\n",
       "      <td>double glazing</td>\n",
       "      <td>3.592767</td>\n",
       "      <td>[]</td>\n",
       "      <td>17.512631</td>\n",
       "    </tr>\n",
       "  </tbody>\n",
       "</table>\n",
       "<p>5 rows × 70 columns</p>\n",
       "</div>"
      ],
      "text/plain": [
       "        additional_heat_generators additional_water_heaters    altitude  \\\n",
       "level_0                                                                   \n",
       "1371914                         []                      NaN   249.34384   \n",
       "618756                          []                      NaN   104.98688   \n",
       "871032                          []                      NaN    72.17848   \n",
       "1430640      [oil stove or insert]                      NaN   800.52496   \n",
       "86306       [wood stove or insert]                      NaN  1010.49872   \n",
       "\n",
       "         area_code balcony_depth bearing_wall_material   building_category  \\\n",
       "level_0                                                                      \n",
       "1371914        615           NaN                BRICKS                  []   \n",
       "618756         304           NaN                 STONE                  []   \n",
       "871032         204           NaN                BRICKS  [individual house]   \n",
       "1430640        858           NaN                BRICKS  [individual house]   \n",
       "86306          671           NaN             GRITSTONE  [individual house]   \n",
       "\n",
       "        building_class  building_height_ft building_period  ...  \\\n",
       "level_0                                                     ...   \n",
       "1371914             []           19.685040       1970-1988  ...   \n",
       "618756              []           28.215224       1970-1988  ...   \n",
       "871032    [individual]           25.918636       1949-1970  ...   \n",
       "1430640   [individual]           15.748032       1989-1999  ...   \n",
       "86306     [individual]            0.000000       2006-2012  ...   \n",
       "\n",
       "         wall_insulation_type               water_heaters  \\\n",
       "level_0                                                     \n",
       "1371914              internal     [electric storage tank]   \n",
       "618756          non insulated     [electric storage tank]   \n",
       "871032          non insulated  [indeterminate gas boiler]   \n",
       "1430640              internal     [electric storage tank]   \n",
       "86306                internal     [electric storage tank]   \n",
       "\n",
       "         water_heating_energy_source water_heating_type  window_filling_type  \\\n",
       "level_0                                                                        \n",
       "1371914                  electricity         individual              dry air   \n",
       "618756                   electricity         individual     argon or krypton   \n",
       "871032                           gas         individual              dry air   \n",
       "1430640                  electricity         individual              dry air   \n",
       "86306                    electricity         individual              dry air   \n",
       "\n",
       "        window_frame_material window_glazing_type  \\\n",
       "level_0                                             \n",
       "1371914                  wood      double glazing   \n",
       "618756                    pvc      double glazing   \n",
       "871032                    pvc      double glazing   \n",
       "1430640                  wood      double glazing   \n",
       "86306                     pvc      double glazing   \n",
       "\n",
       "         window_heat_retention_factor window_orientation  \\\n",
       "level_0                                                    \n",
       "1371914                      1.067688        [north,sud]   \n",
       "618756                       1.149140             [west]   \n",
       "871032                       1.084204        [north,sud]   \n",
       "1430640                      1.067688         [est,west]   \n",
       "86306                        3.592767                 []   \n",
       "\n",
       "        window_thermal_conductivity  \n",
       "level_0                              \n",
       "1371914                   21.349539  \n",
       "618756                    13.963716  \n",
       "871032                    14.649374  \n",
       "1430640                   15.347292  \n",
       "86306                     17.512631  \n",
       "\n",
       "[5 rows x 70 columns]"
      ]
     },
     "execution_count": 79,
     "metadata": {},
     "output_type": "execute_result"
    }
   ],
   "source": [
    "#data_test = data_test[list(data_train_base.columns)]\n",
    "data_test.head()"
   ]
  },
  {
   "cell_type": "code",
   "execution_count": 80,
   "id": "bcf29331-842c-4181-8218-fe400bb7fc00",
   "metadata": {},
   "outputs": [
    {
     "name": "stderr",
     "output_type": "stream",
     "text": [
      "/opt/conda/lib/python3.8/site-packages/IPython/core/interactiveshell.py:3135: DtypeWarning: Columns (19) have mixed types.Specify dtype option on import or set low_memory=False.\n",
      "  has_raised = await self.run_ast_nodes(code_ast.body, cell_name,\n"
     ]
    }
   ],
   "source": [
    "data_train = pd.read_csv(\"../hfactory_magic_folders/hi__paris_hackathon/building_energy_efficiency/datasets/train/train_features_sent.csv\", index_col=0)"
   ]
  },
  {
   "cell_type": "code",
   "execution_count": 81,
   "id": "6e412c13-dbeb-4499-804d-a1ab8f277339",
   "metadata": {
    "tags": []
   },
   "outputs": [],
   "source": [
    "data_test['additional_heat_generators'].fillna('[]', inplace=True)\n",
    "data_test['additional_heat_generators'] = np.where(data_test['additional_heat_generators'] == '[]', 0, 1).astype('int')\n",
    "\n",
    "data_test['additional_water_heaters'].fillna('[]', inplace=True)\n",
    "data_test['additional_water_heaters'] = np.where(data_test['additional_water_heaters'] == '[]', 0, 1).astype('int')\n",
    "\n",
    "data_test = compute_apply_group_agg(data_train, data_test, 'altitude', 'area_code')\n",
    "\n",
    "data_test.loc[~data_test['building_category'].isin(valid_building_categories), 'building_category']='[Other]'\n",
    "data_test = pd.concat([data_test, one_hot_encoder(data_test,'building_category', cols_category).set_index(data_test.index)], axis=1)\n",
    "\n",
    "data_test = pd.concat([data_test, one_hot_encoder(data_test, 'building_type', cols_type).set_index(data_test.index)], axis=1)\n",
    "\n",
    "data_test = pd.concat([data_test, one_hot_encoder(data_test, 'building_use_type_code', cols_use_type).set_index(data_test.index)], axis=1)\n",
    "\n",
    "data_test[\"building_period\"].fillna('1970-1988', inplace = True)\n",
    "data_test[\"building_period\"].replace('bad sup','1970-1988', inplace = True)\n",
    "data_test[\"building_period\"].replace('bad inf','1970-1988', inplace = True)\n",
    "data_test = pd.concat([data_test, one_hot_encoder(data_test, 'building_period', cols_period).set_index(data_test.index)], axis=1)\n",
    "\n",
    "data_test = compute_apply_mean(data_train, data_test, 'nb_dwellings')\n",
    "data_test = compute_apply_group_agg(data_train, data_test, 'building_height_ft', 'building_type')\n",
    "\n",
    "data_test = compute_apply_group_agg(data_train, data_test , 'building_total_area_sqft', 'building_type')\n",
    "\n",
    "data_test = compute_apply_group_agg(data_train, data_test, 'living_area_sqft', 'building_type')\n",
    "\n",
    "data_test = compute_apply_mean(data_train, data_test, 'lowe_floor_thermal_conductivity')\n",
    "\n",
    "data_test['has_air_conditioning'].fillna(False, inplace=True)\n",
    "data_test['has_air_conditioning'].replace({True:1, False:0}, inplace=True)\n",
    "\n",
    "data_test['has_balcony'].fillna(False, inplace=True)\n",
    "data_test['has_balcony'].replace({True:1, False:0}, inplace=True)\n",
    "\n",
    "data_test['heating_type'].fillna('individual', inplace=True)\n",
    "data_test['heating_type'].replace({'individual':0, 'collective':1}, inplace=True)\n",
    "\n",
    "data_test['wall_insulation_type'].fillna('non insulated', inplace=True)\n",
    "data_test['wall_insulation_type'].replace({'internal':1, 'non insulated':0, 'external':1, 'reflection':1, \\\n",
    "                                    'internal+external':2, 'internal+reflexion':2, 'MOB':1, \\\n",
    "                                    'external+reflection':2, 'insulated':1}, inplace=True)\n",
    "\n",
    "data_test[\"is_crossing_building\"].replace(to_replace_cross, inplace=True)\n",
    "data_test[\"is_crossing_building\"].fillna('through all way', inplace=True)\n",
    "data_test = pd.concat([data_test, one_hot_encoder(data_test,'is_crossing_building', cols_cross).set_index(data_test.index)], axis=1)\n",
    "\n",
    "data_test['nb_commercial_units'] = data_test['nb_commercial_units'].fillna(0)\n",
    "\n",
    "data_test= compute_apply_mean(data_train, data_test, 'outer_wall_thermal_conductivity')\n",
    "\n",
    "data_test= compute_apply_group_agg(data_train, data_test, 'percentage_glazed_surfaced', 'building_type')\n",
    "\n",
    "data_test= compute_apply_mean(data_train, data_test, 'upper_floor_thermal_conductivity')\n",
    "\n",
    "data_test = compute_apply_mean(data_train, data_test, 'window_heat_retention_factor')\n",
    "\n",
    "data_test = compute_apply_mean(data_train, data_test , 'window_thermal_conductivity')\n",
    "\n",
    "data_test[\"renewable_energy_sources\"] = np.where(data_test['renewable_energy_sources'].isnull(), 0, 1)\n",
    "\n",
    "data_test[\"outer_wall_thickness\"].fillna('20 et -', inplace = True)\n",
    "data_test['outer_wall_thickness'] = data_test['outer_wall_thickness'].astype(str).map(lambda x: x.rstrip(' et -')).astype(float)\n",
    "\n",
    "scale_mapper = {\"low\":1, \"medium\":2, \"high\":3, \"very high\":4}\n",
    "data_test[\"thermal_inertia\"] = data_test[\"thermal_inertia\"].replace(scale_mapper)\n",
    "\n",
    "scale_mapper = {\"low\":1, \"medium\":2, \"high\":3}\n",
    "data_test[\"radon_risk_level\"].fillna('low', inplace = True)\n",
    "data_test[\"radon_risk_level\"] = data_test[\"radon_risk_level\"].replace(scale_mapper).astype(int)"
   ]
  },
  {
   "cell_type": "code",
   "execution_count": 82,
   "id": "8310ddfe-d552-4788-8183-b9d895b6ed95",
   "metadata": {
    "tags": []
   },
   "outputs": [
    {
     "data": {
      "text/plain": [
       "['additional_heat_generators',\n",
       " 'additional_water_heaters',\n",
       " 'altitude',\n",
       " 'area_code',\n",
       " 'building_height_ft',\n",
       " 'building_total_area_sqft',\n",
       " 'building_use_type_code',\n",
       " 'has_balcony',\n",
       " 'has_air_conditioning',\n",
       " 'heating_type',\n",
       " 'living_area_sqft',\n",
       " 'lowe_floor_thermal_conductivity',\n",
       " 'nb_commercial_units',\n",
       " 'nb_dwellings',\n",
       " 'outer_wall_thermal_conductivity',\n",
       " 'percentage_glazed_surfaced',\n",
       " 'upper_floor_thermal_conductivity',\n",
       " 'window_heat_retention_factor',\n",
       " 'window_thermal_conductivity',\n",
       " 'outer_wall_thickness',\n",
       " 'radon_risk_level',\n",
       " 'renewable_energy_sources',\n",
       " 'thermal_inertia',\n",
       " 'wall_insulation_type',\n",
       " 'building_category_other',\n",
       " 'building_category_condo',\n",
       " 'building_category_individual_house',\n",
       " 'building_type_flat',\n",
       " 'building_type_house',\n",
       " 'building_type_multiple_dwellings',\n",
       " 'building_type_Non_residential',\n",
       " 'building_type_shopping_centres',\n",
       " 'building_period_1949-1970',\n",
       " 'building_period_1970-1988',\n",
       " 'building_period_1989-1999',\n",
       " 'building_period_2000-2005',\n",
       " 'building_period_2006-2012',\n",
       " 'building_period_inf_1948',\n",
       " 'building_period_sup_2012',\n",
       " 'is_crossing_building_crossing_east_west',\n",
       " 'is_crossing_building_crossing_north_south',\n",
       " 'is_crossing_building_not_through',\n",
       " 'is_crossing_building_through_90',\n",
       " 'is_crossing_building_through_all_way']"
      ]
     },
     "execution_count": 82,
     "metadata": {},
     "output_type": "execute_result"
    }
   ],
   "source": [
    "cols_inter"
   ]
  },
  {
   "cell_type": "code",
   "execution_count": 83,
   "id": "f1eefc2a-7782-43a6-9378-5f7dd8385b97",
   "metadata": {},
   "outputs": [
    {
     "data": {
      "text/html": [
       "<div>\n",
       "<style scoped>\n",
       "    .dataframe tbody tr th:only-of-type {\n",
       "        vertical-align: middle;\n",
       "    }\n",
       "\n",
       "    .dataframe tbody tr th {\n",
       "        vertical-align: top;\n",
       "    }\n",
       "\n",
       "    .dataframe thead th {\n",
       "        text-align: right;\n",
       "    }\n",
       "</style>\n",
       "<table border=\"1\" class=\"dataframe\">\n",
       "  <thead>\n",
       "    <tr style=\"text-align: right;\">\n",
       "      <th></th>\n",
       "      <th>additional_heat_generators</th>\n",
       "      <th>additional_water_heaters</th>\n",
       "      <th>altitude</th>\n",
       "      <th>area_code</th>\n",
       "      <th>building_height_ft</th>\n",
       "      <th>building_total_area_sqft</th>\n",
       "      <th>building_use_type_code</th>\n",
       "      <th>has_balcony</th>\n",
       "      <th>has_air_conditioning</th>\n",
       "      <th>heating_type</th>\n",
       "      <th>...</th>\n",
       "      <th>building_period_1989-1999</th>\n",
       "      <th>building_period_2000-2005</th>\n",
       "      <th>building_period_2006-2012</th>\n",
       "      <th>building_period_inf_1948</th>\n",
       "      <th>building_period_sup_2012</th>\n",
       "      <th>is_crossing_building_crossing_east_west</th>\n",
       "      <th>is_crossing_building_crossing_north_south</th>\n",
       "      <th>is_crossing_building_not_through</th>\n",
       "      <th>is_crossing_building_through_90</th>\n",
       "      <th>is_crossing_building_through_all_way</th>\n",
       "    </tr>\n",
       "    <tr>\n",
       "      <th>level_0</th>\n",
       "      <th></th>\n",
       "      <th></th>\n",
       "      <th></th>\n",
       "      <th></th>\n",
       "      <th></th>\n",
       "      <th></th>\n",
       "      <th></th>\n",
       "      <th></th>\n",
       "      <th></th>\n",
       "      <th></th>\n",
       "      <th></th>\n",
       "      <th></th>\n",
       "      <th></th>\n",
       "      <th></th>\n",
       "      <th></th>\n",
       "      <th></th>\n",
       "      <th></th>\n",
       "      <th></th>\n",
       "      <th></th>\n",
       "      <th></th>\n",
       "      <th></th>\n",
       "    </tr>\n",
       "  </thead>\n",
       "  <tbody>\n",
       "    <tr>\n",
       "      <th>1371914</th>\n",
       "      <td>0</td>\n",
       "      <td>0</td>\n",
       "      <td>249.343840</td>\n",
       "      <td>615</td>\n",
       "      <td>19.685040</td>\n",
       "      <td>581.250600</td>\n",
       "      <td>1</td>\n",
       "      <td>0</td>\n",
       "      <td>0</td>\n",
       "      <td>0</td>\n",
       "      <td>...</td>\n",
       "      <td>0.0</td>\n",
       "      <td>0.0</td>\n",
       "      <td>0.0</td>\n",
       "      <td>0.0</td>\n",
       "      <td>0.0</td>\n",
       "      <td>0.0</td>\n",
       "      <td>0.0</td>\n",
       "      <td>1.0</td>\n",
       "      <td>0.0</td>\n",
       "      <td>0.0</td>\n",
       "    </tr>\n",
       "    <tr>\n",
       "      <th>618756</th>\n",
       "      <td>0</td>\n",
       "      <td>0</td>\n",
       "      <td>104.986880</td>\n",
       "      <td>304</td>\n",
       "      <td>28.215224</td>\n",
       "      <td>721.181300</td>\n",
       "      <td>1</td>\n",
       "      <td>0</td>\n",
       "      <td>0</td>\n",
       "      <td>0</td>\n",
       "      <td>...</td>\n",
       "      <td>0.0</td>\n",
       "      <td>0.0</td>\n",
       "      <td>0.0</td>\n",
       "      <td>0.0</td>\n",
       "      <td>0.0</td>\n",
       "      <td>0.0</td>\n",
       "      <td>0.0</td>\n",
       "      <td>1.0</td>\n",
       "      <td>0.0</td>\n",
       "      <td>0.0</td>\n",
       "    </tr>\n",
       "    <tr>\n",
       "      <th>871032</th>\n",
       "      <td>0</td>\n",
       "      <td>0</td>\n",
       "      <td>72.178480</td>\n",
       "      <td>204</td>\n",
       "      <td>25.918636</td>\n",
       "      <td>699.653500</td>\n",
       "      <td>1</td>\n",
       "      <td>0</td>\n",
       "      <td>0</td>\n",
       "      <td>0</td>\n",
       "      <td>...</td>\n",
       "      <td>0.0</td>\n",
       "      <td>0.0</td>\n",
       "      <td>0.0</td>\n",
       "      <td>0.0</td>\n",
       "      <td>0.0</td>\n",
       "      <td>0.0</td>\n",
       "      <td>1.0</td>\n",
       "      <td>0.0</td>\n",
       "      <td>0.0</td>\n",
       "      <td>0.0</td>\n",
       "    </tr>\n",
       "    <tr>\n",
       "      <th>1430640</th>\n",
       "      <td>1</td>\n",
       "      <td>0</td>\n",
       "      <td>800.524960</td>\n",
       "      <td>858</td>\n",
       "      <td>15.748032</td>\n",
       "      <td>1248.612400</td>\n",
       "      <td>1</td>\n",
       "      <td>0</td>\n",
       "      <td>0</td>\n",
       "      <td>0</td>\n",
       "      <td>...</td>\n",
       "      <td>1.0</td>\n",
       "      <td>0.0</td>\n",
       "      <td>0.0</td>\n",
       "      <td>0.0</td>\n",
       "      <td>0.0</td>\n",
       "      <td>1.0</td>\n",
       "      <td>0.0</td>\n",
       "      <td>0.0</td>\n",
       "      <td>0.0</td>\n",
       "      <td>0.0</td>\n",
       "    </tr>\n",
       "    <tr>\n",
       "      <th>86306</th>\n",
       "      <td>1</td>\n",
       "      <td>0</td>\n",
       "      <td>1010.498720</td>\n",
       "      <td>671</td>\n",
       "      <td>0.000000</td>\n",
       "      <td>1345.487500</td>\n",
       "      <td>1</td>\n",
       "      <td>0</td>\n",
       "      <td>0</td>\n",
       "      <td>0</td>\n",
       "      <td>...</td>\n",
       "      <td>0.0</td>\n",
       "      <td>0.0</td>\n",
       "      <td>1.0</td>\n",
       "      <td>0.0</td>\n",
       "      <td>0.0</td>\n",
       "      <td>0.0</td>\n",
       "      <td>0.0</td>\n",
       "      <td>0.0</td>\n",
       "      <td>0.0</td>\n",
       "      <td>1.0</td>\n",
       "    </tr>\n",
       "    <tr>\n",
       "      <th>...</th>\n",
       "      <td>...</td>\n",
       "      <td>...</td>\n",
       "      <td>...</td>\n",
       "      <td>...</td>\n",
       "      <td>...</td>\n",
       "      <td>...</td>\n",
       "      <td>...</td>\n",
       "      <td>...</td>\n",
       "      <td>...</td>\n",
       "      <td>...</td>\n",
       "      <td>...</td>\n",
       "      <td>...</td>\n",
       "      <td>...</td>\n",
       "      <td>...</td>\n",
       "      <td>...</td>\n",
       "      <td>...</td>\n",
       "      <td>...</td>\n",
       "      <td>...</td>\n",
       "      <td>...</td>\n",
       "      <td>...</td>\n",
       "      <td>...</td>\n",
       "    </tr>\n",
       "    <tr>\n",
       "      <th>845834</th>\n",
       "      <td>0</td>\n",
       "      <td>0</td>\n",
       "      <td>323.278589</td>\n",
       "      <td>467</td>\n",
       "      <td>16.209015</td>\n",
       "      <td>1245.772849</td>\n",
       "      <td>1</td>\n",
       "      <td>0</td>\n",
       "      <td>0</td>\n",
       "      <td>0</td>\n",
       "      <td>...</td>\n",
       "      <td>0.0</td>\n",
       "      <td>0.0</td>\n",
       "      <td>0.0</td>\n",
       "      <td>0.0</td>\n",
       "      <td>0.0</td>\n",
       "      <td>0.0</td>\n",
       "      <td>0.0</td>\n",
       "      <td>0.0</td>\n",
       "      <td>0.0</td>\n",
       "      <td>1.0</td>\n",
       "    </tr>\n",
       "    <tr>\n",
       "      <th>279675</th>\n",
       "      <td>0</td>\n",
       "      <td>0</td>\n",
       "      <td>377.296600</td>\n",
       "      <td>748</td>\n",
       "      <td>15.748032</td>\n",
       "      <td>1302.431900</td>\n",
       "      <td>1</td>\n",
       "      <td>0</td>\n",
       "      <td>1</td>\n",
       "      <td>0</td>\n",
       "      <td>...</td>\n",
       "      <td>0.0</td>\n",
       "      <td>0.0</td>\n",
       "      <td>1.0</td>\n",
       "      <td>0.0</td>\n",
       "      <td>0.0</td>\n",
       "      <td>0.0</td>\n",
       "      <td>0.0</td>\n",
       "      <td>1.0</td>\n",
       "      <td>0.0</td>\n",
       "      <td>0.0</td>\n",
       "    </tr>\n",
       "    <tr>\n",
       "      <th>811813</th>\n",
       "      <td>0</td>\n",
       "      <td>0</td>\n",
       "      <td>830.052520</td>\n",
       "      <td>838</td>\n",
       "      <td>36.089240</td>\n",
       "      <td>3387.454832</td>\n",
       "      <td>2</td>\n",
       "      <td>0</td>\n",
       "      <td>0</td>\n",
       "      <td>0</td>\n",
       "      <td>...</td>\n",
       "      <td>0.0</td>\n",
       "      <td>0.0</td>\n",
       "      <td>0.0</td>\n",
       "      <td>0.0</td>\n",
       "      <td>0.0</td>\n",
       "      <td>0.0</td>\n",
       "      <td>0.0</td>\n",
       "      <td>1.0</td>\n",
       "      <td>0.0</td>\n",
       "      <td>0.0</td>\n",
       "    </tr>\n",
       "    <tr>\n",
       "      <th>369033</th>\n",
       "      <td>1</td>\n",
       "      <td>0</td>\n",
       "      <td>288.713920</td>\n",
       "      <td>752</td>\n",
       "      <td>14.763780</td>\n",
       "      <td>1291.668000</td>\n",
       "      <td>1</td>\n",
       "      <td>0</td>\n",
       "      <td>0</td>\n",
       "      <td>0</td>\n",
       "      <td>...</td>\n",
       "      <td>1.0</td>\n",
       "      <td>0.0</td>\n",
       "      <td>0.0</td>\n",
       "      <td>0.0</td>\n",
       "      <td>0.0</td>\n",
       "      <td>1.0</td>\n",
       "      <td>0.0</td>\n",
       "      <td>0.0</td>\n",
       "      <td>0.0</td>\n",
       "      <td>0.0</td>\n",
       "    </tr>\n",
       "    <tr>\n",
       "      <th>587391</th>\n",
       "      <td>1</td>\n",
       "      <td>0</td>\n",
       "      <td>150.918640</td>\n",
       "      <td>304</td>\n",
       "      <td>9.842520</td>\n",
       "      <td>1506.946000</td>\n",
       "      <td>1</td>\n",
       "      <td>0</td>\n",
       "      <td>0</td>\n",
       "      <td>0</td>\n",
       "      <td>...</td>\n",
       "      <td>1.0</td>\n",
       "      <td>0.0</td>\n",
       "      <td>0.0</td>\n",
       "      <td>0.0</td>\n",
       "      <td>0.0</td>\n",
       "      <td>1.0</td>\n",
       "      <td>0.0</td>\n",
       "      <td>0.0</td>\n",
       "      <td>0.0</td>\n",
       "      <td>0.0</td>\n",
       "    </tr>\n",
       "  </tbody>\n",
       "</table>\n",
       "<p>494940 rows × 44 columns</p>\n",
       "</div>"
      ],
      "text/plain": [
       "         additional_heat_generators  additional_water_heaters     altitude  \\\n",
       "level_0                                                                      \n",
       "1371914                           0                         0   249.343840   \n",
       "618756                            0                         0   104.986880   \n",
       "871032                            0                         0    72.178480   \n",
       "1430640                           1                         0   800.524960   \n",
       "86306                             1                         0  1010.498720   \n",
       "...                             ...                       ...          ...   \n",
       "845834                            0                         0   323.278589   \n",
       "279675                            0                         0   377.296600   \n",
       "811813                            0                         0   830.052520   \n",
       "369033                            1                         0   288.713920   \n",
       "587391                            1                         0   150.918640   \n",
       "\n",
       "         area_code  building_height_ft  building_total_area_sqft  \\\n",
       "level_0                                                            \n",
       "1371914        615           19.685040                581.250600   \n",
       "618756         304           28.215224                721.181300   \n",
       "871032         204           25.918636                699.653500   \n",
       "1430640        858           15.748032               1248.612400   \n",
       "86306          671            0.000000               1345.487500   \n",
       "...            ...                 ...                       ...   \n",
       "845834         467           16.209015               1245.772849   \n",
       "279675         748           15.748032               1302.431900   \n",
       "811813         838           36.089240               3387.454832   \n",
       "369033         752           14.763780               1291.668000   \n",
       "587391         304            9.842520               1506.946000   \n",
       "\n",
       "         building_use_type_code  has_balcony  has_air_conditioning  \\\n",
       "level_0                                                              \n",
       "1371914                       1            0                     0   \n",
       "618756                        1            0                     0   \n",
       "871032                        1            0                     0   \n",
       "1430640                       1            0                     0   \n",
       "86306                         1            0                     0   \n",
       "...                         ...          ...                   ...   \n",
       "845834                        1            0                     0   \n",
       "279675                        1            0                     1   \n",
       "811813                        2            0                     0   \n",
       "369033                        1            0                     0   \n",
       "587391                        1            0                     0   \n",
       "\n",
       "         heating_type  ...  building_period_1989-1999  \\\n",
       "level_0                ...                              \n",
       "1371914             0  ...                        0.0   \n",
       "618756              0  ...                        0.0   \n",
       "871032              0  ...                        0.0   \n",
       "1430640             0  ...                        1.0   \n",
       "86306               0  ...                        0.0   \n",
       "...               ...  ...                        ...   \n",
       "845834              0  ...                        0.0   \n",
       "279675              0  ...                        0.0   \n",
       "811813              0  ...                        0.0   \n",
       "369033              0  ...                        1.0   \n",
       "587391              0  ...                        1.0   \n",
       "\n",
       "         building_period_2000-2005  building_period_2006-2012  \\\n",
       "level_0                                                         \n",
       "1371914                        0.0                        0.0   \n",
       "618756                         0.0                        0.0   \n",
       "871032                         0.0                        0.0   \n",
       "1430640                        0.0                        0.0   \n",
       "86306                          0.0                        1.0   \n",
       "...                            ...                        ...   \n",
       "845834                         0.0                        0.0   \n",
       "279675                         0.0                        1.0   \n",
       "811813                         0.0                        0.0   \n",
       "369033                         0.0                        0.0   \n",
       "587391                         0.0                        0.0   \n",
       "\n",
       "         building_period_inf_1948  building_period_sup_2012  \\\n",
       "level_0                                                       \n",
       "1371914                       0.0                       0.0   \n",
       "618756                        0.0                       0.0   \n",
       "871032                        0.0                       0.0   \n",
       "1430640                       0.0                       0.0   \n",
       "86306                         0.0                       0.0   \n",
       "...                           ...                       ...   \n",
       "845834                        0.0                       0.0   \n",
       "279675                        0.0                       0.0   \n",
       "811813                        0.0                       0.0   \n",
       "369033                        0.0                       0.0   \n",
       "587391                        0.0                       0.0   \n",
       "\n",
       "         is_crossing_building_crossing_east_west  \\\n",
       "level_0                                            \n",
       "1371914                                      0.0   \n",
       "618756                                       0.0   \n",
       "871032                                       0.0   \n",
       "1430640                                      1.0   \n",
       "86306                                        0.0   \n",
       "...                                          ...   \n",
       "845834                                       0.0   \n",
       "279675                                       0.0   \n",
       "811813                                       0.0   \n",
       "369033                                       1.0   \n",
       "587391                                       1.0   \n",
       "\n",
       "         is_crossing_building_crossing_north_south  \\\n",
       "level_0                                              \n",
       "1371914                                        0.0   \n",
       "618756                                         0.0   \n",
       "871032                                         1.0   \n",
       "1430640                                        0.0   \n",
       "86306                                          0.0   \n",
       "...                                            ...   \n",
       "845834                                         0.0   \n",
       "279675                                         0.0   \n",
       "811813                                         0.0   \n",
       "369033                                         0.0   \n",
       "587391                                         0.0   \n",
       "\n",
       "         is_crossing_building_not_through  is_crossing_building_through_90  \\\n",
       "level_0                                                                      \n",
       "1371914                               1.0                              0.0   \n",
       "618756                                1.0                              0.0   \n",
       "871032                                0.0                              0.0   \n",
       "1430640                               0.0                              0.0   \n",
       "86306                                 0.0                              0.0   \n",
       "...                                   ...                              ...   \n",
       "845834                                0.0                              0.0   \n",
       "279675                                1.0                              0.0   \n",
       "811813                                1.0                              0.0   \n",
       "369033                                0.0                              0.0   \n",
       "587391                                0.0                              0.0   \n",
       "\n",
       "         is_crossing_building_through_all_way  \n",
       "level_0                                        \n",
       "1371914                                   0.0  \n",
       "618756                                    0.0  \n",
       "871032                                    0.0  \n",
       "1430640                                   0.0  \n",
       "86306                                     1.0  \n",
       "...                                       ...  \n",
       "845834                                    1.0  \n",
       "279675                                    0.0  \n",
       "811813                                    0.0  \n",
       "369033                                    0.0  \n",
       "587391                                    0.0  \n",
       "\n",
       "[494940 rows x 44 columns]"
      ]
     },
     "execution_count": 83,
     "metadata": {},
     "output_type": "execute_result"
    }
   ],
   "source": [
    "data_test = data_test[cols_inter]\n",
    "data_test"
   ]
  },
  {
   "cell_type": "code",
   "execution_count": 84,
   "id": "e3016cb6-7cf4-495d-b822-6e0e6a4e8752",
   "metadata": {},
   "outputs": [],
   "source": [
    "data_train_base.to_csv(\"data_train_base.csv\")\n",
    "labels_train_base.to_csv(\"labels_train_base.csv\")"
   ]
  },
  {
   "cell_type": "code",
   "execution_count": 85,
   "id": "a5979e5a-93e4-49c6-99f5-181eef2ed341",
   "metadata": {},
   "outputs": [],
   "source": [
    "data_test.to_csv(\"data_test_base.csv\")"
   ]
  }
 ],
 "metadata": {
  "kernelspec": {
   "display_name": "Python 3 (ipykernel)",
   "language": "python",
   "name": "python3"
  },
  "language_info": {
   "codemirror_mode": {
    "name": "ipython",
    "version": 3
   },
   "file_extension": ".py",
   "mimetype": "text/x-python",
   "name": "python",
   "nbconvert_exporter": "python",
   "pygments_lexer": "ipython3",
   "version": "3.8.13"
  }
 },
 "nbformat": 4,
 "nbformat_minor": 5
}
