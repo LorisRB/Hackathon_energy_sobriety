{
 "cells": [
  {
   "cell_type": "markdown",
   "id": "8f193306-dc7f-471e-b185-5b5dd06cd26d",
   "metadata": {},
   "source": [
    "# Import needed libraries"
   ]
  },
  {
   "cell_type": "code",
   "execution_count": null,
   "id": "f5289c67-1a18-4a04-8e4a-7d4fdfa66efd",
   "metadata": {},
   "outputs": [],
   "source": [
    "import os\n",
    "import seaborn as sns\n",
    "import pandas as pd\n",
    "import numpy as np\n",
    "import matplotlib.pyplot as plt"
   ]
  },
  {
   "cell_type": "code",
   "execution_count": null,
   "id": "0635d52b-48c9-403e-af1d-65c3677463d6",
   "metadata": {},
   "outputs": [],
   "source": [
    "os.chdir(r\"/home/jovyan/energy_consumption\")\n",
    "\n",
    "data_train = pd.read_csv(\"data_train_base.csv\", index_col=0)\n",
    "labels_train = pd.read_csv(\"labels_train_base.csv\", index_col=0)\n",
    "X_test_final = pd.read_csv(\"data_test_base.csv\", index_col=0)"
   ]
  },
  {
   "cell_type": "code",
   "execution_count": null,
   "id": "0af3a8e5-a3c3-4ee9-a403-7a8d90c75473",
   "metadata": {},
   "outputs": [],
   "source": [
    "os.chdir(r\"/home/jovyan/hfactory_magic_folders/hi__paris_hackathon/building_energy_efficiency/datasets/train\")\n",
    "X_train = pd.read_csv(\"train_features_sent.csv\", index_col=0)"
   ]
  },
  {
   "cell_type": "code",
   "execution_count": null,
   "id": "eaf222a7-9765-46bc-9e56-ffbbb0833d19",
   "metadata": {},
   "outputs": [],
   "source": [
    "# plot y\n",
    "sns.boxplot(x=labels_train[labels_train['energy_consumption_per_annum']<=5000]['energy_consumption_per_annum'])"
   ]
  },
  {
   "cell_type": "markdown",
   "id": "16c6dc7a-3323-4c56-a551-2096e381730d",
   "metadata": {},
   "source": [
    "# var altitude"
   ]
  },
  {
   "cell_type": "code",
   "execution_count": null,
   "id": "2aa995ad-1fe9-4a19-8a85-b19418ec6653",
   "metadata": {},
   "outputs": [],
   "source": [
    "sns.displot(data_train['altitude'])"
   ]
  },
  {
   "cell_type": "code",
   "execution_count": null,
   "id": "ec30c071-90c6-43ce-b39a-5b4c7b39c81c",
   "metadata": {},
   "outputs": [],
   "source": [
    "# altitude\n",
    "sns.scatterplot(x=data_train['altitude'],y=labels_train['energy_consumption_per_annum'])"
   ]
  },
  {
   "cell_type": "code",
   "execution_count": null,
   "id": "ab5bbcdb-e1cf-4f6d-9803-d58e4f997953",
   "metadata": {},
   "outputs": [],
   "source": [
    "# area code\n",
    "sub = data_train[data_train['area_code']==191]\n",
    "sns.boxplot(x=labels_train.loc[list(sub.index)]['energy_consumption_per_annum'])"
   ]
  },
  {
   "cell_type": "code",
   "execution_count": null,
   "id": "5b58acf3-92da-47de-ab80-2ca1acbf61ed",
   "metadata": {},
   "outputs": [],
   "source": [
    "# building height\n",
    "sns.scatterplot(y=labels_train['energy_consumption_per_annum'], x=data_train['building_height_ft'])"
   ]
  },
  {
   "cell_type": "code",
   "execution_count": null,
   "id": "f9e1ba83-cfc4-4b71-8d6b-c1e1f470df59",
   "metadata": {},
   "outputs": [],
   "source": [
    "# plot building_total_area\n",
    "sns.scatterplot(data=data_train, x=\"building_total_area_sqft\", y=\"building_height_ft\")"
   ]
  },
  {
   "cell_type": "code",
   "execution_count": null,
   "id": "8cc91ea7-95d2-4cac-85d3-eba7d30259be",
   "metadata": {},
   "outputs": [],
   "source": [
    "# plot living\n",
    "sns.scatterplot(data=data_train, x=\"living_area_sqft\", \n",
    "                y=labels_train['energy_consumption_per_annum'])"
   ]
  },
  {
   "cell_type": "code",
   "execution_count": null,
   "id": "f9e0ee96-ebfd-4336-995a-3c56eccb77e7",
   "metadata": {},
   "outputs": [],
   "source": [
    "# low floor thermal conduct + material\n",
    "sns.boxplot(data=X_train, x=\"lower_floor_material\", y=\"lowe_floor_thermal_conductivity\")"
   ]
  },
  {
   "cell_type": "code",
   "execution_count": null,
   "id": "2a451300-292c-4373-8cbe-35783a3ad8f3",
   "metadata": {},
   "outputs": [],
   "source": [
    "# outer wall conduc\n",
    "sns.boxplot(data=X_train, x=\"upper_floor_material\", y=\"outer_wall_thermal_conductivity\")"
   ]
  },
  {
   "cell_type": "code",
   "execution_count": null,
   "id": "9b03cacc-7002-4c04-a522-28c693bf7eab",
   "metadata": {},
   "outputs": [],
   "source": [
    "# upper floor thermal conduc\n",
    "sns.boxplot(data=X_train, x=\"upper_floor_material\", y=\"upper_floor_thermal_conductivity\")"
   ]
  },
  {
   "cell_type": "code",
   "execution_count": null,
   "id": "2e9fd0c2-f79f-4234-a603-5fee7b19c015",
   "metadata": {},
   "outputs": [],
   "source": [
    "# windows thermal + material\n",
    "sns.scatterplot(x=data_train[\"window_heat_retention_factor\"], \n",
    "            y=labels_train[\"energy_consumption_per_annum\"])"
   ]
  },
  {
   "cell_type": "markdown",
   "id": "75f63496-7245-42cf-b425-b8d25994e45b",
   "metadata": {},
   "source": [
    "Linear correlation "
   ]
  },
  {
   "cell_type": "code",
   "execution_count": null,
   "id": "0ba2f12d-034e-463a-a4e6-e7076dfb91e3",
   "metadata": {},
   "outputs": [],
   "source": [
    "data = data_train.join(labels_train)\n",
    "plt.figure(figsize=(50, 40))\n",
    "sns.heatmap(data.corr())\n",
    "heatmap = sns.heatmap(data.corr(), vmin=-1, vmax=1, annot=True)"
   ]
  },
  {
   "cell_type": "code",
   "execution_count": null,
   "id": "be75ab01-a715-4021-8299-d8d6f72decaf",
   "metadata": {},
   "outputs": [],
   "source": [
    "heatmap.set_title('Correlation Heatmap', fontdict={'fontsize':12}, pad=12);"
   ]
  },
  {
   "cell_type": "code",
   "execution_count": null,
   "id": "c7f1ed34-475a-4ba1-a7ac-0682006e35fe",
   "metadata": {},
   "outputs": [],
   "source": [
    "data_train.corr()"
   ]
  }
 ],
 "metadata": {
  "kernelspec": {
   "display_name": "Python 3 (ipykernel)",
   "language": "python",
   "name": "python3"
  },
  "language_info": {
   "codemirror_mode": {
    "name": "ipython",
    "version": 3
   },
   "file_extension": ".py",
   "mimetype": "text/x-python",
   "name": "python",
   "nbconvert_exporter": "python",
   "pygments_lexer": "ipython3",
   "version": "3.8.13"
  }
 },
 "nbformat": 4,
 "nbformat_minor": 5
}
