{
 "cells": [
  {
   "cell_type": "code",
   "execution_count": null,
   "id": "97e7eda1-542c-46e6-a38b-f1bd9cdc0968",
   "metadata": {},
   "outputs": [],
   "source": [
    "import os\n",
    "import pandas as pd\n",
    "import numpy as np\n",
    "import matplotlib.pyplot as plt\n",
    "pd.set_option('display.max_columns', None)\n",
    "\n",
    "from sklearn.linear_model import LinearRegression\n",
    "from sklearn.metrics import explained_variance_score\n",
    "from sklearn.model_selection import cross_val_score\n",
    "from sklearn.preprocessing import StandardScaler\n",
    "\n",
    "from sklearn.model_selection import train_test_split\n",
    "from sklearn.ensemble import RandomForestRegressor\n",
    "from sklearn.metrics import mean_squared_error\n",
    "from sklearn.model_selection import train_test_split\n",
    "from sklearn.preprocessing import scale\n",
    "from sklearn import set_config\n",
    "from sklearn.metrics import explained_variance_score\n",
    "\n",
    "from sklearn.ensemble import GradientBoostingRegressor\n",
    "from sklearn.model_selection import RandomizedSearchCV \n",
    "from pprint import pprint"
   ]
  },
  {
   "cell_type": "code",
   "execution_count": null,
   "id": "a502408a-ce94-45a1-b25e-ca208b94ee3a",
   "metadata": {},
   "outputs": [],
   "source": [
    "os.chdir(r\"/home/jovyan/energy_consumption\")\n",
    "\n",
    "X = pd.read_csv(\"data_train_base.csv\", index_col=0)\n",
    "y = pd.read_csv(\"labels_train_base.csv\", index_col=0)\n",
    "X_test_final = pd.read_csv(\"data_test_base.csv\", index_col=0)\n",
    "X_train, X_test, y_train, y_test = train_test_split(X, y, test_size=0.33, random_state=42)"
   ]
  },
  {
   "cell_type": "markdown",
   "id": "95791f48-d29e-45e0-89e6-0505da1adddb",
   "metadata": {},
   "source": [
    "# Baseline model : linear regression"
   ]
  },
  {
   "cell_type": "code",
   "execution_count": null,
   "id": "aabcf503-a8c7-482e-9bfd-3a8ca42afdc4",
   "metadata": {},
   "outputs": [],
   "source": [
    "clf = LinearRegression()\n",
    "cross_val_score(clf, X, y, cv=5, scoring='explained_variance')"
   ]
  },
  {
   "cell_type": "code",
   "execution_count": null,
   "id": "6758e459-3c88-4175-b81e-0a88910c25a7",
   "metadata": {},
   "outputs": [],
   "source": [
    "clf.fit(X_train, y_train)\n",
    "y_pred = clf.predict(X_test)"
   ]
  },
  {
   "cell_type": "code",
   "execution_count": null,
   "id": "abaee454-f44b-45cf-b923-c42ca71fcf3b",
   "metadata": {},
   "outputs": [],
   "source": [
    "explained_variance_score(y_test,y_pred)"
   ]
  },
  {
   "cell_type": "code",
   "execution_count": null,
   "id": "8fa2ce43-58b2-499d-aaf8-97ffb172d470",
   "metadata": {},
   "outputs": [],
   "source": [
    "assert y_pred.shape[0] == X_test.shape[0]\n"
   ]
  },
  {
   "cell_type": "markdown",
   "id": "fde0604e-2e2d-4ead-84e7-93ff3af1b887",
   "metadata": {
    "tags": []
   },
   "source": [
    "# Regression TREE"
   ]
  },
  {
   "cell_type": "code",
   "execution_count": null,
   "id": "705232fc-27c1-4b11-88c1-e2041d0881e8",
   "metadata": {},
   "outputs": [],
   "source": [
    "from sklearn import tree\n",
    "clf = tree.DecisionTreeRegressor(max_depth=3)\n",
    "clf = clf.fit(X, y)"
   ]
  },
  {
   "cell_type": "markdown",
   "id": "13d13982-b591-4e77-b6eb-35d6a96bc79d",
   "metadata": {},
   "source": [
    "## First approach to feature importance"
   ]
  },
  {
   "cell_type": "code",
   "execution_count": null,
   "id": "333817ea-bfe7-4c40-bd83-d023d6b24b92",
   "metadata": {},
   "outputs": [],
   "source": [
    "import graphviz \n",
    "dot_data = tree.export_graphviz(clf, out_file=None, \n",
    "                      feature_names=X.columns,  \n",
    "                      class_names=y.columns,  \n",
    "                      filled=True, rounded=True,  \n",
    "                      special_characters=True)\n",
    "\n",
    "graph = graphviz.Source(dot_data)  \n",
    "graph "
   ]
  },
  {
   "cell_type": "code",
   "execution_count": null,
   "id": "d6847611-02f4-4e09-b428-acb54f652a5f",
   "metadata": {},
   "outputs": [],
   "source": [
    "\n",
    "max_depths = range(1, 15)\n",
    "training_error = []\n",
    "for max_depth in max_depths:\n",
    "    model_1 = tree.DecisionTreeRegressor(max_depth=max_depth)\n",
    "    model_1.fit(X, y)\n",
    "    training_error.append(round(explained_variance_score(y, model_1.predict(X)), 5))\n",
    "    \n",
    "testing_error = []\n",
    "for max_depth in max_depths:\n",
    "    model_2 = tree.DecisionTreeRegressor(max_depth=max_depth)\n",
    "    model_2.fit(X_train, y_train)\n",
    "    testing_error.append(round(explained_variance_score(y_test, model_2.predict(X_test)),5))\n",
    "\n",
    "plt.plot(max_depths, training_error, color='blue', label='Training error')\n",
    "plt.plot(max_depths, testing_error, color='green', label='Testing error')\n",
    "plt.xlabel('Tree depth')\n",
    "plt.ylabel('Variance explained')\n",
    "plt.title('Hyperparameter Tuning', pad=15, size=15)\n",
    "plt.legend()"
   ]
  },
  {
   "cell_type": "markdown",
   "id": "6d867a11-eb3a-49ab-b05e-d31c7a1aa290",
   "metadata": {},
   "source": [
    "# Gradient Boosting"
   ]
  },
  {
   "cell_type": "code",
   "execution_count": null,
   "id": "d9dc7543-41b5-4b8d-a388-a43973f4d048",
   "metadata": {},
   "outputs": [],
   "source": [
    "reg = GradientBoostingRegressor(random_state=0)"
   ]
  },
  {
   "cell_type": "code",
   "execution_count": null,
   "id": "999f3844-e94f-4722-a6e1-74fee67bd1c6",
   "metadata": {},
   "outputs": [],
   "source": [
    "reg.fit(X_train, y_train)"
   ]
  },
  {
   "cell_type": "code",
   "execution_count": null,
   "id": "ccd8c05e-3acc-4854-a132-68b789e86362",
   "metadata": {},
   "outputs": [],
   "source": [
    "y_pred = reg.predict(X_test)"
   ]
  },
  {
   "cell_type": "code",
   "execution_count": null,
   "id": "1bde637f-ba17-4a78-a348-a455c7186337",
   "metadata": {},
   "outputs": [],
   "source": [
    "explained_variance_score(y_test, y_pred)"
   ]
  },
  {
   "cell_type": "markdown",
   "id": "1be4164b-d638-4dd4-a54c-97683fb1faac",
   "metadata": {},
   "source": [
    "# Random forest with Grid search"
   ]
  },
  {
   "cell_type": "code",
   "execution_count": null,
   "id": "0bcab904-6396-4cce-b219-82733a15ebd0",
   "metadata": {},
   "outputs": [],
   "source": [
    "\n",
    "n_estimators = [int(x) for x in np.linspace(start = 2, stop = 15, num = 6)]\n",
    "\n",
    "# Number of features to consider at every split\n",
    "max_features = ['auto', 'sqrt']\n",
    "# Maximum number of levels in tree\n",
    "max_depth = [int(x) for x in np.linspace(2, 20, num = 7)]\n",
    "max_depth.append(None)\n",
    "\n",
    "# Minimum number of samples required to split a node\n",
    "min_samples_split = [2, 5, 10]\n",
    "\n",
    "# Minimum number of samples required at each leaf node\n",
    "min_samples_leaf = [1, 2, 4, 6]\n",
    "\n",
    "# Method of selecting samples for training each tree\n",
    "bootstrap = [True, False]# Create the random grid\n",
    "\n",
    "random_grid = {'n_estimators': n_estimators,\n",
    "               'max_depth': max_depth,\n",
    "               'min_samples_split': min_samples_split,\n",
    "               'min_samples_leaf': min_samples_leaf,\n",
    "               'bootstrap': bootstrap}\n",
    "pprint(random_grid)"
   ]
  },
  {
   "cell_type": "code",
   "execution_count": null,
   "id": "18dcf67d-c39e-451f-9062-6677619e0fb6",
   "metadata": {},
   "outputs": [],
   "source": [
    "# First create the base model to tune\n",
    "rf = RandomForestRegressor()\n",
    "# Random search of parameters, using 3 fold cross validation, \n",
    "rf_random = RandomizedSearchCV(estimator = rf, param_distributions = random_grid, n_iter = 3, cv = 3, verbose=2, random_state=42, n_jobs = -1)# Fit the random search model"
   ]
  },
  {
   "cell_type": "code",
   "execution_count": null,
   "id": "11897750-3293-4d73-89be-4de8ee51a46a",
   "metadata": {},
   "outputs": [],
   "source": [
    "rf_random.fit(X_train, y_train)"
   ]
  },
  {
   "cell_type": "code",
   "execution_count": null,
   "id": "2bf3e1e6-a969-47ad-a764-34dc67e6c2eb",
   "metadata": {},
   "outputs": [],
   "source": [
    "print(rf_random.best_params_)"
   ]
  },
  {
   "cell_type": "code",
   "execution_count": null,
   "id": "b42c40f3-0f16-4bba-bb0c-2ff46c915023",
   "metadata": {},
   "outputs": [],
   "source": [
    "y_pred = rf_random.predict(X_test)\n",
    "explained_variance_score(y_test, y_pred)"
   ]
  },
  {
   "cell_type": "code",
   "execution_count": null,
   "id": "40c71fe4-f00f-41bc-be19-9b35a47f6d86",
   "metadata": {},
   "outputs": [],
   "source": []
  }
 ],
 "metadata": {
  "kernelspec": {
   "display_name": "Python 3 (ipykernel)",
   "language": "python",
   "name": "python3"
  },
  "language_info": {
   "codemirror_mode": {
    "name": "ipython",
    "version": 3
   },
   "file_extension": ".py",
   "mimetype": "text/x-python",
   "name": "python",
   "nbconvert_exporter": "python",
   "pygments_lexer": "ipython3",
   "version": "3.8.13"
  }
 },
 "nbformat": 4,
 "nbformat_minor": 5
}
