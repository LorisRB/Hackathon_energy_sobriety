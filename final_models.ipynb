{
 "cells": [
  {
   "cell_type": "markdown",
   "id": "81331224-dac6-442d-82aa-94b2016070fe",
   "metadata": {},
   "source": [
    "## Models\n",
    "The objective of this notebook is to train and test several regression models with our pre-processed data, extracted in the pre-processing file.\n",
    "The predictions are then saved in .csv format."
   ]
  },
  {
   "cell_type": "markdown",
   "id": "73049f41-ff06-41c4-9707-4e389828756f",
   "metadata": {},
   "source": [
    "#### imports"
   ]
  },
  {
   "cell_type": "code",
   "execution_count": 1,
   "id": "a5c00170-f79b-48d5-924b-f4ed5627c563",
   "metadata": {},
   "outputs": [],
   "source": [
    "import numpy as np\n",
    "import pandas as pd\n",
    "import matplotlib.pyplot as plt"
   ]
  },
  {
   "cell_type": "code",
   "execution_count": 2,
   "id": "67c52791-ca83-4a53-8606-7ca2ade1dfda",
   "metadata": {},
   "outputs": [],
   "source": [
    "X = pd.read_csv(\"data_train_base.csv\",index_col=0)"
   ]
  },
  {
   "cell_type": "code",
   "execution_count": 3,
   "id": "4514a253-53d4-4084-ad9b-86d4976d7c32",
   "metadata": {},
   "outputs": [],
   "source": [
    "y = pd.read_csv(\"labels_train_base.csv\",index_col=0)"
   ]
  },
  {
   "cell_type": "code",
   "execution_count": 4,
   "id": "4c13f82c-aebd-4d8e-85bb-fd7c23ebd439",
   "metadata": {},
   "outputs": [
    {
     "data": {
      "text/html": [
       "<div>\n",
       "<style scoped>\n",
       "    .dataframe tbody tr th:only-of-type {\n",
       "        vertical-align: middle;\n",
       "    }\n",
       "\n",
       "    .dataframe tbody tr th {\n",
       "        vertical-align: top;\n",
       "    }\n",
       "\n",
       "    .dataframe thead th {\n",
       "        text-align: right;\n",
       "    }\n",
       "</style>\n",
       "<table border=\"1\" class=\"dataframe\">\n",
       "  <thead>\n",
       "    <tr style=\"text-align: right;\">\n",
       "      <th></th>\n",
       "      <th>additional_heat_generators</th>\n",
       "      <th>additional_water_heaters</th>\n",
       "      <th>altitude</th>\n",
       "      <th>area_code</th>\n",
       "      <th>building_height_ft</th>\n",
       "      <th>building_total_area_sqft</th>\n",
       "      <th>building_use_type_code</th>\n",
       "      <th>consumption_measurement_date</th>\n",
       "      <th>has_balcony</th>\n",
       "      <th>has_air_conditioning</th>\n",
       "      <th>...</th>\n",
       "      <th>building_period_2006-2012</th>\n",
       "      <th>building_period_inf_1948</th>\n",
       "      <th>building_period_sup_2012</th>\n",
       "      <th>is_crossing_building_crossing_east_west</th>\n",
       "      <th>is_crossing_building_crossing_north_south</th>\n",
       "      <th>is_crossing_building_not_through</th>\n",
       "      <th>is_crossing_building_through_90</th>\n",
       "      <th>is_crossing_building_through_all_way</th>\n",
       "      <th>window_orientation_other</th>\n",
       "      <th>window_orientation_sud</th>\n",
       "    </tr>\n",
       "    <tr>\n",
       "      <th>level_0</th>\n",
       "      <th></th>\n",
       "      <th></th>\n",
       "      <th></th>\n",
       "      <th></th>\n",
       "      <th></th>\n",
       "      <th></th>\n",
       "      <th></th>\n",
       "      <th></th>\n",
       "      <th></th>\n",
       "      <th></th>\n",
       "      <th></th>\n",
       "      <th></th>\n",
       "      <th></th>\n",
       "      <th></th>\n",
       "      <th></th>\n",
       "      <th></th>\n",
       "      <th></th>\n",
       "      <th></th>\n",
       "      <th></th>\n",
       "      <th></th>\n",
       "      <th></th>\n",
       "    </tr>\n",
       "  </thead>\n",
       "  <tbody>\n",
       "    <tr>\n",
       "      <th>1371914</th>\n",
       "      <td>0</td>\n",
       "      <td>0</td>\n",
       "      <td>249.34384</td>\n",
       "      <td>615</td>\n",
       "      <td>19.685040</td>\n",
       "      <td>581.2506</td>\n",
       "      <td>1</td>\n",
       "      <td>2019</td>\n",
       "      <td>0</td>\n",
       "      <td>0</td>\n",
       "      <td>...</td>\n",
       "      <td>0.0</td>\n",
       "      <td>0.0</td>\n",
       "      <td>0.0</td>\n",
       "      <td>0.0</td>\n",
       "      <td>0.0</td>\n",
       "      <td>1.0</td>\n",
       "      <td>0.0</td>\n",
       "      <td>0.0</td>\n",
       "      <td>1.0</td>\n",
       "      <td>0.0</td>\n",
       "    </tr>\n",
       "    <tr>\n",
       "      <th>618756</th>\n",
       "      <td>0</td>\n",
       "      <td>0</td>\n",
       "      <td>104.98688</td>\n",
       "      <td>304</td>\n",
       "      <td>28.215224</td>\n",
       "      <td>721.1813</td>\n",
       "      <td>1</td>\n",
       "      <td>2019</td>\n",
       "      <td>0</td>\n",
       "      <td>0</td>\n",
       "      <td>...</td>\n",
       "      <td>0.0</td>\n",
       "      <td>0.0</td>\n",
       "      <td>0.0</td>\n",
       "      <td>0.0</td>\n",
       "      <td>0.0</td>\n",
       "      <td>1.0</td>\n",
       "      <td>0.0</td>\n",
       "      <td>0.0</td>\n",
       "      <td>1.0</td>\n",
       "      <td>0.0</td>\n",
       "    </tr>\n",
       "    <tr>\n",
       "      <th>871032</th>\n",
       "      <td>0</td>\n",
       "      <td>0</td>\n",
       "      <td>72.17848</td>\n",
       "      <td>204</td>\n",
       "      <td>25.918636</td>\n",
       "      <td>699.6535</td>\n",
       "      <td>1</td>\n",
       "      <td>2016</td>\n",
       "      <td>0</td>\n",
       "      <td>0</td>\n",
       "      <td>...</td>\n",
       "      <td>0.0</td>\n",
       "      <td>0.0</td>\n",
       "      <td>0.0</td>\n",
       "      <td>0.0</td>\n",
       "      <td>1.0</td>\n",
       "      <td>0.0</td>\n",
       "      <td>0.0</td>\n",
       "      <td>0.0</td>\n",
       "      <td>1.0</td>\n",
       "      <td>0.0</td>\n",
       "    </tr>\n",
       "    <tr>\n",
       "      <th>1430640</th>\n",
       "      <td>1</td>\n",
       "      <td>0</td>\n",
       "      <td>800.52496</td>\n",
       "      <td>858</td>\n",
       "      <td>15.748032</td>\n",
       "      <td>1248.6124</td>\n",
       "      <td>1</td>\n",
       "      <td>2015</td>\n",
       "      <td>0</td>\n",
       "      <td>0</td>\n",
       "      <td>...</td>\n",
       "      <td>0.0</td>\n",
       "      <td>0.0</td>\n",
       "      <td>0.0</td>\n",
       "      <td>1.0</td>\n",
       "      <td>0.0</td>\n",
       "      <td>0.0</td>\n",
       "      <td>0.0</td>\n",
       "      <td>0.0</td>\n",
       "      <td>1.0</td>\n",
       "      <td>0.0</td>\n",
       "    </tr>\n",
       "    <tr>\n",
       "      <th>86306</th>\n",
       "      <td>1</td>\n",
       "      <td>0</td>\n",
       "      <td>1010.49872</td>\n",
       "      <td>671</td>\n",
       "      <td>0.000000</td>\n",
       "      <td>1345.4875</td>\n",
       "      <td>1</td>\n",
       "      <td>2015</td>\n",
       "      <td>0</td>\n",
       "      <td>0</td>\n",
       "      <td>...</td>\n",
       "      <td>1.0</td>\n",
       "      <td>0.0</td>\n",
       "      <td>0.0</td>\n",
       "      <td>0.0</td>\n",
       "      <td>0.0</td>\n",
       "      <td>0.0</td>\n",
       "      <td>0.0</td>\n",
       "      <td>1.0</td>\n",
       "      <td>1.0</td>\n",
       "      <td>0.0</td>\n",
       "    </tr>\n",
       "  </tbody>\n",
       "</table>\n",
       "<p>5 rows × 47 columns</p>\n",
       "</div>"
      ],
      "text/plain": [
       "         additional_heat_generators  additional_water_heaters    altitude  \\\n",
       "level_0                                                                     \n",
       "1371914                           0                         0   249.34384   \n",
       "618756                            0                         0   104.98688   \n",
       "871032                            0                         0    72.17848   \n",
       "1430640                           1                         0   800.52496   \n",
       "86306                             1                         0  1010.49872   \n",
       "\n",
       "         area_code  building_height_ft  building_total_area_sqft  \\\n",
       "level_0                                                            \n",
       "1371914        615           19.685040                  581.2506   \n",
       "618756         304           28.215224                  721.1813   \n",
       "871032         204           25.918636                  699.6535   \n",
       "1430640        858           15.748032                 1248.6124   \n",
       "86306          671            0.000000                 1345.4875   \n",
       "\n",
       "         building_use_type_code  consumption_measurement_date  has_balcony  \\\n",
       "level_0                                                                      \n",
       "1371914                       1                          2019            0   \n",
       "618756                        1                          2019            0   \n",
       "871032                        1                          2016            0   \n",
       "1430640                       1                          2015            0   \n",
       "86306                         1                          2015            0   \n",
       "\n",
       "         has_air_conditioning  ...  building_period_2006-2012  \\\n",
       "level_0                        ...                              \n",
       "1371914                     0  ...                        0.0   \n",
       "618756                      0  ...                        0.0   \n",
       "871032                      0  ...                        0.0   \n",
       "1430640                     0  ...                        0.0   \n",
       "86306                       0  ...                        1.0   \n",
       "\n",
       "         building_period_inf_1948  building_period_sup_2012  \\\n",
       "level_0                                                       \n",
       "1371914                       0.0                       0.0   \n",
       "618756                        0.0                       0.0   \n",
       "871032                        0.0                       0.0   \n",
       "1430640                       0.0                       0.0   \n",
       "86306                         0.0                       0.0   \n",
       "\n",
       "         is_crossing_building_crossing_east_west  \\\n",
       "level_0                                            \n",
       "1371914                                      0.0   \n",
       "618756                                       0.0   \n",
       "871032                                       0.0   \n",
       "1430640                                      1.0   \n",
       "86306                                        0.0   \n",
       "\n",
       "         is_crossing_building_crossing_north_south  \\\n",
       "level_0                                              \n",
       "1371914                                        0.0   \n",
       "618756                                         0.0   \n",
       "871032                                         1.0   \n",
       "1430640                                        0.0   \n",
       "86306                                          0.0   \n",
       "\n",
       "         is_crossing_building_not_through  is_crossing_building_through_90  \\\n",
       "level_0                                                                      \n",
       "1371914                               1.0                              0.0   \n",
       "618756                                1.0                              0.0   \n",
       "871032                                0.0                              0.0   \n",
       "1430640                               0.0                              0.0   \n",
       "86306                                 0.0                              0.0   \n",
       "\n",
       "         is_crossing_building_through_all_way  window_orientation_other  \\\n",
       "level_0                                                                   \n",
       "1371914                                   0.0                       1.0   \n",
       "618756                                    0.0                       1.0   \n",
       "871032                                    0.0                       1.0   \n",
       "1430640                                   0.0                       1.0   \n",
       "86306                                     1.0                       1.0   \n",
       "\n",
       "         window_orientation_sud  \n",
       "level_0                          \n",
       "1371914                     0.0  \n",
       "618756                      0.0  \n",
       "871032                      0.0  \n",
       "1430640                     0.0  \n",
       "86306                       0.0  \n",
       "\n",
       "[5 rows x 47 columns]"
      ]
     },
     "execution_count": 4,
     "metadata": {},
     "output_type": "execute_result"
    }
   ],
   "source": [
    "X_test = pd.read_csv(\"data_test_base.csv\",index_col=0)\n",
    "X_test.head()"
   ]
  },
  {
   "cell_type": "code",
   "execution_count": 5,
   "id": "ed14dcbb-e69d-45bc-9de6-74c142e6788d",
   "metadata": {
    "tags": []
   },
   "outputs": [
    {
     "data": {
      "text/html": [
       "<div>\n",
       "<style scoped>\n",
       "    .dataframe tbody tr th:only-of-type {\n",
       "        vertical-align: middle;\n",
       "    }\n",
       "\n",
       "    .dataframe tbody tr th {\n",
       "        vertical-align: top;\n",
       "    }\n",
       "\n",
       "    .dataframe thead th {\n",
       "        text-align: right;\n",
       "    }\n",
       "</style>\n",
       "<table border=\"1\" class=\"dataframe\">\n",
       "  <thead>\n",
       "    <tr style=\"text-align: right;\">\n",
       "      <th></th>\n",
       "      <th>additional_heat_generators</th>\n",
       "      <th>additional_water_heaters</th>\n",
       "      <th>altitude</th>\n",
       "      <th>area_code</th>\n",
       "      <th>building_height_ft</th>\n",
       "      <th>building_total_area_sqft</th>\n",
       "      <th>building_use_type_code</th>\n",
       "      <th>has_balcony</th>\n",
       "      <th>has_air_conditioning</th>\n",
       "      <th>heating_type</th>\n",
       "      <th>...</th>\n",
       "      <th>building_period_2006-2012</th>\n",
       "      <th>building_period_inf_1948</th>\n",
       "      <th>building_period_sup_2012</th>\n",
       "      <th>is_crossing_building_crossing_east_west</th>\n",
       "      <th>is_crossing_building_crossing_north_south</th>\n",
       "      <th>is_crossing_building_not_through</th>\n",
       "      <th>is_crossing_building_through_90</th>\n",
       "      <th>is_crossing_building_through_all_way</th>\n",
       "      <th>window_orientation_other</th>\n",
       "      <th>window_orientation_sud</th>\n",
       "    </tr>\n",
       "    <tr>\n",
       "      <th>level_0</th>\n",
       "      <th></th>\n",
       "      <th></th>\n",
       "      <th></th>\n",
       "      <th></th>\n",
       "      <th></th>\n",
       "      <th></th>\n",
       "      <th></th>\n",
       "      <th></th>\n",
       "      <th></th>\n",
       "      <th></th>\n",
       "      <th></th>\n",
       "      <th></th>\n",
       "      <th></th>\n",
       "      <th></th>\n",
       "      <th></th>\n",
       "      <th></th>\n",
       "      <th></th>\n",
       "      <th></th>\n",
       "      <th></th>\n",
       "      <th></th>\n",
       "      <th></th>\n",
       "    </tr>\n",
       "  </thead>\n",
       "  <tbody>\n",
       "    <tr>\n",
       "      <th>111323</th>\n",
       "      <td>1</td>\n",
       "      <td>0</td>\n",
       "      <td>328.08400</td>\n",
       "      <td>881</td>\n",
       "      <td>13.779528</td>\n",
       "      <td>1291.6680</td>\n",
       "      <td>1</td>\n",
       "      <td>0</td>\n",
       "      <td>0</td>\n",
       "      <td>0</td>\n",
       "      <td>...</td>\n",
       "      <td>0.0</td>\n",
       "      <td>0.0</td>\n",
       "      <td>0.0</td>\n",
       "      <td>1.0</td>\n",
       "      <td>0.0</td>\n",
       "      <td>0.0</td>\n",
       "      <td>0.0</td>\n",
       "      <td>0.0</td>\n",
       "      <td>1.0</td>\n",
       "      <td>0.0</td>\n",
       "    </tr>\n",
       "    <tr>\n",
       "      <th>265182</th>\n",
       "      <td>0</td>\n",
       "      <td>0</td>\n",
       "      <td>360.89240</td>\n",
       "      <td>260</td>\n",
       "      <td>43.635172</td>\n",
       "      <td>7136.4657</td>\n",
       "      <td>2</td>\n",
       "      <td>0</td>\n",
       "      <td>0</td>\n",
       "      <td>0</td>\n",
       "      <td>...</td>\n",
       "      <td>0.0</td>\n",
       "      <td>1.0</td>\n",
       "      <td>0.0</td>\n",
       "      <td>0.0</td>\n",
       "      <td>0.0</td>\n",
       "      <td>0.0</td>\n",
       "      <td>0.0</td>\n",
       "      <td>1.0</td>\n",
       "      <td>1.0</td>\n",
       "      <td>0.0</td>\n",
       "    </tr>\n",
       "    <tr>\n",
       "      <th>927507</th>\n",
       "      <td>0</td>\n",
       "      <td>0</td>\n",
       "      <td>324.80316</td>\n",
       "      <td>573</td>\n",
       "      <td>19.685040</td>\n",
       "      <td>4197.9210</td>\n",
       "      <td>2</td>\n",
       "      <td>0</td>\n",
       "      <td>0</td>\n",
       "      <td>0</td>\n",
       "      <td>...</td>\n",
       "      <td>0.0</td>\n",
       "      <td>0.0</td>\n",
       "      <td>0.0</td>\n",
       "      <td>1.0</td>\n",
       "      <td>0.0</td>\n",
       "      <td>0.0</td>\n",
       "      <td>0.0</td>\n",
       "      <td>0.0</td>\n",
       "      <td>1.0</td>\n",
       "      <td>0.0</td>\n",
       "    </tr>\n",
       "    <tr>\n",
       "      <th>874620</th>\n",
       "      <td>0</td>\n",
       "      <td>0</td>\n",
       "      <td>288.71392</td>\n",
       "      <td>204</td>\n",
       "      <td>13.779528</td>\n",
       "      <td>1646.8767</td>\n",
       "      <td>1</td>\n",
       "      <td>1</td>\n",
       "      <td>0</td>\n",
       "      <td>0</td>\n",
       "      <td>...</td>\n",
       "      <td>0.0</td>\n",
       "      <td>1.0</td>\n",
       "      <td>0.0</td>\n",
       "      <td>0.0</td>\n",
       "      <td>0.0</td>\n",
       "      <td>0.0</td>\n",
       "      <td>0.0</td>\n",
       "      <td>1.0</td>\n",
       "      <td>1.0</td>\n",
       "      <td>0.0</td>\n",
       "    </tr>\n",
       "    <tr>\n",
       "      <th>563274</th>\n",
       "      <td>0</td>\n",
       "      <td>0</td>\n",
       "      <td>849.73756</td>\n",
       "      <td>374</td>\n",
       "      <td>19.028872</td>\n",
       "      <td>1033.3344</td>\n",
       "      <td>1</td>\n",
       "      <td>0</td>\n",
       "      <td>0</td>\n",
       "      <td>0</td>\n",
       "      <td>...</td>\n",
       "      <td>1.0</td>\n",
       "      <td>0.0</td>\n",
       "      <td>0.0</td>\n",
       "      <td>0.0</td>\n",
       "      <td>1.0</td>\n",
       "      <td>0.0</td>\n",
       "      <td>0.0</td>\n",
       "      <td>0.0</td>\n",
       "      <td>1.0</td>\n",
       "      <td>0.0</td>\n",
       "    </tr>\n",
       "  </tbody>\n",
       "</table>\n",
       "<p>5 rows × 47 columns</p>\n",
       "</div>"
      ],
      "text/plain": [
       "         additional_heat_generators  additional_water_heaters   altitude  \\\n",
       "level_0                                                                    \n",
       "111323                            1                         0  328.08400   \n",
       "265182                            0                         0  360.89240   \n",
       "927507                            0                         0  324.80316   \n",
       "874620                            0                         0  288.71392   \n",
       "563274                            0                         0  849.73756   \n",
       "\n",
       "         area_code  building_height_ft  building_total_area_sqft  \\\n",
       "level_0                                                            \n",
       "111323         881           13.779528                 1291.6680   \n",
       "265182         260           43.635172                 7136.4657   \n",
       "927507         573           19.685040                 4197.9210   \n",
       "874620         204           13.779528                 1646.8767   \n",
       "563274         374           19.028872                 1033.3344   \n",
       "\n",
       "         building_use_type_code  has_balcony  has_air_conditioning  \\\n",
       "level_0                                                              \n",
       "111323                        1            0                     0   \n",
       "265182                        2            0                     0   \n",
       "927507                        2            0                     0   \n",
       "874620                        1            1                     0   \n",
       "563274                        1            0                     0   \n",
       "\n",
       "         heating_type  ...  building_period_2006-2012  \\\n",
       "level_0                ...                              \n",
       "111323              0  ...                        0.0   \n",
       "265182              0  ...                        0.0   \n",
       "927507              0  ...                        0.0   \n",
       "874620              0  ...                        0.0   \n",
       "563274              0  ...                        1.0   \n",
       "\n",
       "         building_period_inf_1948  building_period_sup_2012  \\\n",
       "level_0                                                       \n",
       "111323                        0.0                       0.0   \n",
       "265182                        1.0                       0.0   \n",
       "927507                        0.0                       0.0   \n",
       "874620                        1.0                       0.0   \n",
       "563274                        0.0                       0.0   \n",
       "\n",
       "         is_crossing_building_crossing_east_west  \\\n",
       "level_0                                            \n",
       "111323                                       1.0   \n",
       "265182                                       0.0   \n",
       "927507                                       1.0   \n",
       "874620                                       0.0   \n",
       "563274                                       0.0   \n",
       "\n",
       "         is_crossing_building_crossing_north_south  \\\n",
       "level_0                                              \n",
       "111323                                         0.0   \n",
       "265182                                         0.0   \n",
       "927507                                         0.0   \n",
       "874620                                         0.0   \n",
       "563274                                         1.0   \n",
       "\n",
       "         is_crossing_building_not_through  is_crossing_building_through_90  \\\n",
       "level_0                                                                      \n",
       "111323                                0.0                              0.0   \n",
       "265182                                0.0                              0.0   \n",
       "927507                                0.0                              0.0   \n",
       "874620                                0.0                              0.0   \n",
       "563274                                0.0                              0.0   \n",
       "\n",
       "         is_crossing_building_through_all_way  window_orientation_other  \\\n",
       "level_0                                                                   \n",
       "111323                                    0.0                       1.0   \n",
       "265182                                    1.0                       1.0   \n",
       "927507                                    0.0                       1.0   \n",
       "874620                                    1.0                       1.0   \n",
       "563274                                    0.0                       1.0   \n",
       "\n",
       "         window_orientation_sud  \n",
       "level_0                          \n",
       "111323                      0.0  \n",
       "265182                      0.0  \n",
       "927507                      0.0  \n",
       "874620                      0.0  \n",
       "563274                      0.0  \n",
       "\n",
       "[5 rows x 47 columns]"
      ]
     },
     "execution_count": 5,
     "metadata": {},
     "output_type": "execute_result"
    }
   ],
   "source": [
    "X.head()"
   ]
  },
  {
   "cell_type": "code",
   "execution_count": 6,
   "id": "a4bf7963-79b9-4a0f-8025-b8ef96874eb5",
   "metadata": {},
   "outputs": [
    {
     "name": "stdout",
     "output_type": "stream",
     "text": [
      "47 47\n"
     ]
    }
   ],
   "source": [
    "print(len(X.columns), len(X_test.columns))"
   ]
  },
  {
   "cell_type": "code",
   "execution_count": 7,
   "id": "9bf0a052-1238-40db-a8d5-0abf574a6d55",
   "metadata": {},
   "outputs": [],
   "source": [
    "X = X.drop(['is_crossing_building_crossing_east_west',\n",
    "      'is_crossing_building_crossing_north_south', 'is_crossing_building_through_90'], axis=1)"
   ]
  },
  {
   "cell_type": "code",
   "execution_count": 8,
   "id": "71afc73c-944f-4306-b768-78f73ad9065f",
   "metadata": {},
   "outputs": [],
   "source": [
    "X_test = X_test.drop(['is_crossing_building_crossing_east_west',\n",
    "      'is_crossing_building_crossing_north_south', 'is_crossing_building_through_90'], axis=1)"
   ]
  },
  {
   "cell_type": "markdown",
   "id": "b5a1bf6c-6ec0-4ec9-a153-b806740b5dd5",
   "metadata": {},
   "source": [
    "#### check missing values"
   ]
  },
  {
   "cell_type": "code",
   "execution_count": 9,
   "id": "fe1c62e1-2456-4e12-bd7a-6872fe76d451",
   "metadata": {
    "tags": []
   },
   "outputs": [
    {
     "data": {
      "text/html": [
       "<div>\n",
       "<style scoped>\n",
       "    .dataframe tbody tr th:only-of-type {\n",
       "        vertical-align: middle;\n",
       "    }\n",
       "\n",
       "    .dataframe tbody tr th {\n",
       "        vertical-align: top;\n",
       "    }\n",
       "\n",
       "    .dataframe thead th {\n",
       "        text-align: right;\n",
       "    }\n",
       "</style>\n",
       "<table border=\"1\" class=\"dataframe\">\n",
       "  <thead>\n",
       "    <tr style=\"text-align: right;\">\n",
       "      <th></th>\n",
       "      <th>additional_heat_generators</th>\n",
       "      <th>additional_water_heaters</th>\n",
       "      <th>altitude</th>\n",
       "      <th>area_code</th>\n",
       "      <th>building_height_ft</th>\n",
       "      <th>building_total_area_sqft</th>\n",
       "      <th>building_use_type_code</th>\n",
       "      <th>has_balcony</th>\n",
       "      <th>has_air_conditioning</th>\n",
       "      <th>heating_type</th>\n",
       "      <th>...</th>\n",
       "      <th>building_period_1970-1988</th>\n",
       "      <th>building_period_1989-1999</th>\n",
       "      <th>building_period_2000-2005</th>\n",
       "      <th>building_period_2006-2012</th>\n",
       "      <th>building_period_inf_1948</th>\n",
       "      <th>building_period_sup_2012</th>\n",
       "      <th>is_crossing_building_not_through</th>\n",
       "      <th>is_crossing_building_through_all_way</th>\n",
       "      <th>window_orientation_other</th>\n",
       "      <th>window_orientation_sud</th>\n",
       "    </tr>\n",
       "    <tr>\n",
       "      <th>level_0</th>\n",
       "      <th></th>\n",
       "      <th></th>\n",
       "      <th></th>\n",
       "      <th></th>\n",
       "      <th></th>\n",
       "      <th></th>\n",
       "      <th></th>\n",
       "      <th></th>\n",
       "      <th></th>\n",
       "      <th></th>\n",
       "      <th></th>\n",
       "      <th></th>\n",
       "      <th></th>\n",
       "      <th></th>\n",
       "      <th></th>\n",
       "      <th></th>\n",
       "      <th></th>\n",
       "      <th></th>\n",
       "      <th></th>\n",
       "      <th></th>\n",
       "      <th></th>\n",
       "    </tr>\n",
       "  </thead>\n",
       "  <tbody>\n",
       "    <tr>\n",
       "      <th>111323</th>\n",
       "      <td>1</td>\n",
       "      <td>0</td>\n",
       "      <td>328.08400</td>\n",
       "      <td>881</td>\n",
       "      <td>13.779528</td>\n",
       "      <td>1291.668000</td>\n",
       "      <td>1</td>\n",
       "      <td>0</td>\n",
       "      <td>0</td>\n",
       "      <td>0</td>\n",
       "      <td>...</td>\n",
       "      <td>1.0</td>\n",
       "      <td>0.0</td>\n",
       "      <td>0.0</td>\n",
       "      <td>0.0</td>\n",
       "      <td>0.0</td>\n",
       "      <td>0.0</td>\n",
       "      <td>0.0</td>\n",
       "      <td>0.0</td>\n",
       "      <td>1.0</td>\n",
       "      <td>0.0</td>\n",
       "    </tr>\n",
       "    <tr>\n",
       "      <th>265182</th>\n",
       "      <td>0</td>\n",
       "      <td>0</td>\n",
       "      <td>360.89240</td>\n",
       "      <td>260</td>\n",
       "      <td>43.635172</td>\n",
       "      <td>7136.465700</td>\n",
       "      <td>2</td>\n",
       "      <td>0</td>\n",
       "      <td>0</td>\n",
       "      <td>0</td>\n",
       "      <td>...</td>\n",
       "      <td>0.0</td>\n",
       "      <td>0.0</td>\n",
       "      <td>0.0</td>\n",
       "      <td>0.0</td>\n",
       "      <td>1.0</td>\n",
       "      <td>0.0</td>\n",
       "      <td>0.0</td>\n",
       "      <td>1.0</td>\n",
       "      <td>1.0</td>\n",
       "      <td>0.0</td>\n",
       "    </tr>\n",
       "    <tr>\n",
       "      <th>927507</th>\n",
       "      <td>0</td>\n",
       "      <td>0</td>\n",
       "      <td>324.80316</td>\n",
       "      <td>573</td>\n",
       "      <td>19.685040</td>\n",
       "      <td>4197.921000</td>\n",
       "      <td>2</td>\n",
       "      <td>0</td>\n",
       "      <td>0</td>\n",
       "      <td>0</td>\n",
       "      <td>...</td>\n",
       "      <td>0.0</td>\n",
       "      <td>0.0</td>\n",
       "      <td>1.0</td>\n",
       "      <td>0.0</td>\n",
       "      <td>0.0</td>\n",
       "      <td>0.0</td>\n",
       "      <td>0.0</td>\n",
       "      <td>0.0</td>\n",
       "      <td>1.0</td>\n",
       "      <td>0.0</td>\n",
       "    </tr>\n",
       "    <tr>\n",
       "      <th>874620</th>\n",
       "      <td>0</td>\n",
       "      <td>0</td>\n",
       "      <td>288.71392</td>\n",
       "      <td>204</td>\n",
       "      <td>13.779528</td>\n",
       "      <td>1646.876700</td>\n",
       "      <td>1</td>\n",
       "      <td>1</td>\n",
       "      <td>0</td>\n",
       "      <td>0</td>\n",
       "      <td>...</td>\n",
       "      <td>0.0</td>\n",
       "      <td>0.0</td>\n",
       "      <td>0.0</td>\n",
       "      <td>0.0</td>\n",
       "      <td>1.0</td>\n",
       "      <td>0.0</td>\n",
       "      <td>0.0</td>\n",
       "      <td>1.0</td>\n",
       "      <td>1.0</td>\n",
       "      <td>0.0</td>\n",
       "    </tr>\n",
       "    <tr>\n",
       "      <th>563274</th>\n",
       "      <td>0</td>\n",
       "      <td>0</td>\n",
       "      <td>849.73756</td>\n",
       "      <td>374</td>\n",
       "      <td>19.028872</td>\n",
       "      <td>1033.334400</td>\n",
       "      <td>1</td>\n",
       "      <td>0</td>\n",
       "      <td>0</td>\n",
       "      <td>0</td>\n",
       "      <td>...</td>\n",
       "      <td>0.0</td>\n",
       "      <td>0.0</td>\n",
       "      <td>0.0</td>\n",
       "      <td>1.0</td>\n",
       "      <td>0.0</td>\n",
       "      <td>0.0</td>\n",
       "      <td>0.0</td>\n",
       "      <td>0.0</td>\n",
       "      <td>1.0</td>\n",
       "      <td>0.0</td>\n",
       "    </tr>\n",
       "    <tr>\n",
       "      <th>...</th>\n",
       "      <td>...</td>\n",
       "      <td>...</td>\n",
       "      <td>...</td>\n",
       "      <td>...</td>\n",
       "      <td>...</td>\n",
       "      <td>...</td>\n",
       "      <td>...</td>\n",
       "      <td>...</td>\n",
       "      <td>...</td>\n",
       "      <td>...</td>\n",
       "      <td>...</td>\n",
       "      <td>...</td>\n",
       "      <td>...</td>\n",
       "      <td>...</td>\n",
       "      <td>...</td>\n",
       "      <td>...</td>\n",
       "      <td>...</td>\n",
       "      <td>...</td>\n",
       "      <td>...</td>\n",
       "      <td>...</td>\n",
       "      <td>...</td>\n",
       "    </tr>\n",
       "    <tr>\n",
       "      <th>84908</th>\n",
       "      <td>0</td>\n",
       "      <td>1</td>\n",
       "      <td>1591.20740</td>\n",
       "      <td>671</td>\n",
       "      <td>17.060368</td>\n",
       "      <td>1054.862200</td>\n",
       "      <td>1</td>\n",
       "      <td>0</td>\n",
       "      <td>0</td>\n",
       "      <td>0</td>\n",
       "      <td>...</td>\n",
       "      <td>0.0</td>\n",
       "      <td>1.0</td>\n",
       "      <td>0.0</td>\n",
       "      <td>0.0</td>\n",
       "      <td>0.0</td>\n",
       "      <td>0.0</td>\n",
       "      <td>0.0</td>\n",
       "      <td>0.0</td>\n",
       "      <td>1.0</td>\n",
       "      <td>0.0</td>\n",
       "    </tr>\n",
       "    <tr>\n",
       "      <th>997676</th>\n",
       "      <td>0</td>\n",
       "      <td>0</td>\n",
       "      <td>688.97640</td>\n",
       "      <td>345</td>\n",
       "      <td>26.246720</td>\n",
       "      <td>2055.904900</td>\n",
       "      <td>2</td>\n",
       "      <td>1</td>\n",
       "      <td>0</td>\n",
       "      <td>0</td>\n",
       "      <td>...</td>\n",
       "      <td>0.0</td>\n",
       "      <td>0.0</td>\n",
       "      <td>0.0</td>\n",
       "      <td>1.0</td>\n",
       "      <td>0.0</td>\n",
       "      <td>0.0</td>\n",
       "      <td>0.0</td>\n",
       "      <td>0.0</td>\n",
       "      <td>1.0</td>\n",
       "      <td>0.0</td>\n",
       "    </tr>\n",
       "    <tr>\n",
       "      <th>311831</th>\n",
       "      <td>1</td>\n",
       "      <td>0</td>\n",
       "      <td>2805.11820</td>\n",
       "      <td>205</td>\n",
       "      <td>22.637796</td>\n",
       "      <td>2098.960500</td>\n",
       "      <td>2</td>\n",
       "      <td>0</td>\n",
       "      <td>0</td>\n",
       "      <td>0</td>\n",
       "      <td>...</td>\n",
       "      <td>0.0</td>\n",
       "      <td>0.0</td>\n",
       "      <td>0.0</td>\n",
       "      <td>0.0</td>\n",
       "      <td>0.0</td>\n",
       "      <td>0.0</td>\n",
       "      <td>0.0</td>\n",
       "      <td>1.0</td>\n",
       "      <td>1.0</td>\n",
       "      <td>0.0</td>\n",
       "    </tr>\n",
       "    <tr>\n",
       "      <th>789794</th>\n",
       "      <td>0</td>\n",
       "      <td>0</td>\n",
       "      <td>708.66144</td>\n",
       "      <td>451</td>\n",
       "      <td>19.685040</td>\n",
       "      <td>1246.107953</td>\n",
       "      <td>5</td>\n",
       "      <td>0</td>\n",
       "      <td>0</td>\n",
       "      <td>0</td>\n",
       "      <td>...</td>\n",
       "      <td>0.0</td>\n",
       "      <td>0.0</td>\n",
       "      <td>0.0</td>\n",
       "      <td>0.0</td>\n",
       "      <td>1.0</td>\n",
       "      <td>0.0</td>\n",
       "      <td>0.0</td>\n",
       "      <td>1.0</td>\n",
       "      <td>1.0</td>\n",
       "      <td>0.0</td>\n",
       "    </tr>\n",
       "    <tr>\n",
       "      <th>31221</th>\n",
       "      <td>0</td>\n",
       "      <td>1</td>\n",
       "      <td>643.04464</td>\n",
       "      <td>191</td>\n",
       "      <td>27.230972</td>\n",
       "      <td>1033.334400</td>\n",
       "      <td>1</td>\n",
       "      <td>0</td>\n",
       "      <td>0</td>\n",
       "      <td>0</td>\n",
       "      <td>...</td>\n",
       "      <td>0.0</td>\n",
       "      <td>0.0</td>\n",
       "      <td>0.0</td>\n",
       "      <td>0.0</td>\n",
       "      <td>0.0</td>\n",
       "      <td>0.0</td>\n",
       "      <td>0.0</td>\n",
       "      <td>1.0</td>\n",
       "      <td>1.0</td>\n",
       "      <td>0.0</td>\n",
       "    </tr>\n",
       "  </tbody>\n",
       "</table>\n",
       "<p>1004968 rows × 44 columns</p>\n",
       "</div>"
      ],
      "text/plain": [
       "         additional_heat_generators  additional_water_heaters    altitude  \\\n",
       "level_0                                                                     \n",
       "111323                            1                         0   328.08400   \n",
       "265182                            0                         0   360.89240   \n",
       "927507                            0                         0   324.80316   \n",
       "874620                            0                         0   288.71392   \n",
       "563274                            0                         0   849.73756   \n",
       "...                             ...                       ...         ...   \n",
       "84908                             0                         1  1591.20740   \n",
       "997676                            0                         0   688.97640   \n",
       "311831                            1                         0  2805.11820   \n",
       "789794                            0                         0   708.66144   \n",
       "31221                             0                         1   643.04464   \n",
       "\n",
       "         area_code  building_height_ft  building_total_area_sqft  \\\n",
       "level_0                                                            \n",
       "111323         881           13.779528               1291.668000   \n",
       "265182         260           43.635172               7136.465700   \n",
       "927507         573           19.685040               4197.921000   \n",
       "874620         204           13.779528               1646.876700   \n",
       "563274         374           19.028872               1033.334400   \n",
       "...            ...                 ...                       ...   \n",
       "84908          671           17.060368               1054.862200   \n",
       "997676         345           26.246720               2055.904900   \n",
       "311831         205           22.637796               2098.960500   \n",
       "789794         451           19.685040               1246.107953   \n",
       "31221          191           27.230972               1033.334400   \n",
       "\n",
       "         building_use_type_code  has_balcony  has_air_conditioning  \\\n",
       "level_0                                                              \n",
       "111323                        1            0                     0   \n",
       "265182                        2            0                     0   \n",
       "927507                        2            0                     0   \n",
       "874620                        1            1                     0   \n",
       "563274                        1            0                     0   \n",
       "...                         ...          ...                   ...   \n",
       "84908                         1            0                     0   \n",
       "997676                        2            1                     0   \n",
       "311831                        2            0                     0   \n",
       "789794                        5            0                     0   \n",
       "31221                         1            0                     0   \n",
       "\n",
       "         heating_type  ...  building_period_1970-1988  \\\n",
       "level_0                ...                              \n",
       "111323              0  ...                        1.0   \n",
       "265182              0  ...                        0.0   \n",
       "927507              0  ...                        0.0   \n",
       "874620              0  ...                        0.0   \n",
       "563274              0  ...                        0.0   \n",
       "...               ...  ...                        ...   \n",
       "84908               0  ...                        0.0   \n",
       "997676              0  ...                        0.0   \n",
       "311831              0  ...                        0.0   \n",
       "789794              0  ...                        0.0   \n",
       "31221               0  ...                        0.0   \n",
       "\n",
       "         building_period_1989-1999  building_period_2000-2005  \\\n",
       "level_0                                                         \n",
       "111323                         0.0                        0.0   \n",
       "265182                         0.0                        0.0   \n",
       "927507                         0.0                        1.0   \n",
       "874620                         0.0                        0.0   \n",
       "563274                         0.0                        0.0   \n",
       "...                            ...                        ...   \n",
       "84908                          1.0                        0.0   \n",
       "997676                         0.0                        0.0   \n",
       "311831                         0.0                        0.0   \n",
       "789794                         0.0                        0.0   \n",
       "31221                          0.0                        0.0   \n",
       "\n",
       "         building_period_2006-2012  building_period_inf_1948  \\\n",
       "level_0                                                        \n",
       "111323                         0.0                       0.0   \n",
       "265182                         0.0                       1.0   \n",
       "927507                         0.0                       0.0   \n",
       "874620                         0.0                       1.0   \n",
       "563274                         1.0                       0.0   \n",
       "...                            ...                       ...   \n",
       "84908                          0.0                       0.0   \n",
       "997676                         1.0                       0.0   \n",
       "311831                         0.0                       0.0   \n",
       "789794                         0.0                       1.0   \n",
       "31221                          0.0                       0.0   \n",
       "\n",
       "         building_period_sup_2012  is_crossing_building_not_through  \\\n",
       "level_0                                                               \n",
       "111323                        0.0                               0.0   \n",
       "265182                        0.0                               0.0   \n",
       "927507                        0.0                               0.0   \n",
       "874620                        0.0                               0.0   \n",
       "563274                        0.0                               0.0   \n",
       "...                           ...                               ...   \n",
       "84908                         0.0                               0.0   \n",
       "997676                        0.0                               0.0   \n",
       "311831                        0.0                               0.0   \n",
       "789794                        0.0                               0.0   \n",
       "31221                         0.0                               0.0   \n",
       "\n",
       "         is_crossing_building_through_all_way  window_orientation_other  \\\n",
       "level_0                                                                   \n",
       "111323                                    0.0                       1.0   \n",
       "265182                                    1.0                       1.0   \n",
       "927507                                    0.0                       1.0   \n",
       "874620                                    1.0                       1.0   \n",
       "563274                                    0.0                       1.0   \n",
       "...                                       ...                       ...   \n",
       "84908                                     0.0                       1.0   \n",
       "997676                                    0.0                       1.0   \n",
       "311831                                    1.0                       1.0   \n",
       "789794                                    1.0                       1.0   \n",
       "31221                                     1.0                       1.0   \n",
       "\n",
       "         window_orientation_sud  \n",
       "level_0                          \n",
       "111323                      0.0  \n",
       "265182                      0.0  \n",
       "927507                      0.0  \n",
       "874620                      0.0  \n",
       "563274                      0.0  \n",
       "...                         ...  \n",
       "84908                       0.0  \n",
       "997676                      0.0  \n",
       "311831                      0.0  \n",
       "789794                      0.0  \n",
       "31221                       0.0  \n",
       "\n",
       "[1004968 rows x 44 columns]"
      ]
     },
     "execution_count": 9,
     "metadata": {},
     "output_type": "execute_result"
    }
   ],
   "source": [
    "X.dropna(axis=0)"
   ]
  },
  {
   "cell_type": "code",
   "execution_count": 10,
   "id": "784cb57a-a921-4408-aa37-0bd508036674",
   "metadata": {
    "tags": []
   },
   "outputs": [
    {
     "data": {
      "text/html": [
       "<div>\n",
       "<style scoped>\n",
       "    .dataframe tbody tr th:only-of-type {\n",
       "        vertical-align: middle;\n",
       "    }\n",
       "\n",
       "    .dataframe tbody tr th {\n",
       "        vertical-align: top;\n",
       "    }\n",
       "\n",
       "    .dataframe thead th {\n",
       "        text-align: right;\n",
       "    }\n",
       "</style>\n",
       "<table border=\"1\" class=\"dataframe\">\n",
       "  <thead>\n",
       "    <tr style=\"text-align: right;\">\n",
       "      <th></th>\n",
       "      <th>energy_consumption_per_annum</th>\n",
       "    </tr>\n",
       "    <tr>\n",
       "      <th>level_0</th>\n",
       "      <th></th>\n",
       "    </tr>\n",
       "  </thead>\n",
       "  <tbody>\n",
       "    <tr>\n",
       "      <th>111323</th>\n",
       "      <td>290.166345</td>\n",
       "    </tr>\n",
       "    <tr>\n",
       "      <th>265182</th>\n",
       "      <td>169.818197</td>\n",
       "    </tr>\n",
       "    <tr>\n",
       "      <th>927507</th>\n",
       "      <td>144.499711</td>\n",
       "    </tr>\n",
       "    <tr>\n",
       "      <th>874620</th>\n",
       "      <td>158.742715</td>\n",
       "    </tr>\n",
       "    <tr>\n",
       "      <th>563274</th>\n",
       "      <td>82.223648</td>\n",
       "    </tr>\n",
       "    <tr>\n",
       "      <th>...</th>\n",
       "      <td>...</td>\n",
       "    </tr>\n",
       "    <tr>\n",
       "      <th>84908</th>\n",
       "      <td>250.513236</td>\n",
       "    </tr>\n",
       "    <tr>\n",
       "      <th>997676</th>\n",
       "      <td>265.278733</td>\n",
       "    </tr>\n",
       "    <tr>\n",
       "      <th>311831</th>\n",
       "      <td>311.681103</td>\n",
       "    </tr>\n",
       "    <tr>\n",
       "      <th>789794</th>\n",
       "      <td>340.538747</td>\n",
       "    </tr>\n",
       "    <tr>\n",
       "      <th>31221</th>\n",
       "      <td>310.079069</td>\n",
       "    </tr>\n",
       "  </tbody>\n",
       "</table>\n",
       "<p>1004968 rows × 1 columns</p>\n",
       "</div>"
      ],
      "text/plain": [
       "         energy_consumption_per_annum\n",
       "level_0                              \n",
       "111323                     290.166345\n",
       "265182                     169.818197\n",
       "927507                     144.499711\n",
       "874620                     158.742715\n",
       "563274                      82.223648\n",
       "...                               ...\n",
       "84908                      250.513236\n",
       "997676                     265.278733\n",
       "311831                     311.681103\n",
       "789794                     340.538747\n",
       "31221                      310.079069\n",
       "\n",
       "[1004968 rows x 1 columns]"
      ]
     },
     "execution_count": 10,
     "metadata": {},
     "output_type": "execute_result"
    }
   ],
   "source": [
    "y.dropna(axis=0)"
   ]
  },
  {
   "cell_type": "code",
   "execution_count": 11,
   "id": "eca1bd52-3054-40e8-ad43-0cae1d17890f",
   "metadata": {},
   "outputs": [],
   "source": [
    "#X = X.drop([\"area_code\"],axis=1)\n",
    "#X_test = X_test.drop([\"area_code\"],axis=1)"
   ]
  },
  {
   "cell_type": "code",
   "execution_count": 12,
   "id": "bb558f15-c48d-426c-8b7c-760575cb17da",
   "metadata": {},
   "outputs": [],
   "source": [
    "X = X.drop([\"building_type_shopping_centres\",\"nb_commercial_units\", \"consumption_measurement_date\"],axis=1)\n",
    "X_test = X_test.drop([\"building_type_shopping_centres\",\"nb_commercial_units\", \"consumption_measurement_date\"],axis=1)"
   ]
  },
  {
   "cell_type": "code",
   "execution_count": 13,
   "id": "1e7e2cf1-7db2-490a-83f6-84d1ca52429e",
   "metadata": {},
   "outputs": [],
   "source": [
    "from sklearn.metrics import explained_variance_score\n",
    "from sklearn.model_selection import cross_val_score"
   ]
  },
  {
   "cell_type": "code",
   "execution_count": 14,
   "id": "4417ec82-d8df-45be-950b-c81b4e2c52b0",
   "metadata": {},
   "outputs": [
    {
     "data": {
      "text/plain": [
       "Index(['additional_heat_generators', 'additional_water_heaters', 'altitude',\n",
       "       'area_code', 'building_height_ft', 'building_total_area_sqft',\n",
       "       'building_use_type_code', 'has_balcony', 'has_air_conditioning',\n",
       "       'heating_type', 'living_area_sqft', 'lowe_floor_thermal_conductivity',\n",
       "       'nb_dwellings', 'outer_wall_thermal_conductivity',\n",
       "       'percentage_glazed_surfaced', 'upper_floor_thermal_conductivity',\n",
       "       'window_heat_retention_factor', 'window_thermal_conductivity',\n",
       "       'outer_wall_thickness', 'radon_risk_level', 'renewable_energy_sources',\n",
       "       'thermal_inertia', 'wall_insulation_type', 'building_category_other',\n",
       "       'building_category_condo', 'building_category_individual_house',\n",
       "       'building_type_flat', 'building_type_house',\n",
       "       'building_type_multiple_dwellings', 'building_type_Non_residential',\n",
       "       'building_period_1949-1970', 'building_period_1970-1988',\n",
       "       'building_period_1989-1999', 'building_period_2000-2005',\n",
       "       'building_period_2006-2012', 'building_period_inf_1948',\n",
       "       'building_period_sup_2012', 'is_crossing_building_not_through',\n",
       "       'is_crossing_building_through_all_way', 'window_orientation_other',\n",
       "       'window_orientation_sud'],\n",
       "      dtype='object')"
      ]
     },
     "execution_count": 14,
     "metadata": {},
     "output_type": "execute_result"
    }
   ],
   "source": [
    "X_test.columns"
   ]
  },
  {
   "cell_type": "code",
   "execution_count": 15,
   "id": "fcd5e345-10e5-444d-b5bd-61e839d83123",
   "metadata": {},
   "outputs": [
    {
     "data": {
      "text/plain": [
       "Index(['additional_heat_generators', 'additional_water_heaters', 'altitude',\n",
       "       'area_code', 'building_height_ft', 'building_total_area_sqft',\n",
       "       'building_use_type_code', 'has_balcony', 'has_air_conditioning',\n",
       "       'heating_type', 'living_area_sqft', 'lowe_floor_thermal_conductivity',\n",
       "       'nb_dwellings', 'outer_wall_thermal_conductivity',\n",
       "       'percentage_glazed_surfaced', 'upper_floor_thermal_conductivity',\n",
       "       'window_heat_retention_factor', 'window_thermal_conductivity',\n",
       "       'outer_wall_thickness', 'radon_risk_level', 'renewable_energy_sources',\n",
       "       'thermal_inertia', 'wall_insulation_type', 'building_category_other',\n",
       "       'building_category_condo', 'building_category_individual_house',\n",
       "       'building_type_flat', 'building_type_house',\n",
       "       'building_type_multiple_dwellings', 'building_type_Non_residential',\n",
       "       'building_period_1949-1970', 'building_period_1970-1988',\n",
       "       'building_period_1989-1999', 'building_period_2000-2005',\n",
       "       'building_period_2006-2012', 'building_period_inf_1948',\n",
       "       'building_period_sup_2012', 'is_crossing_building_not_through',\n",
       "       'is_crossing_building_through_all_way', 'window_orientation_other',\n",
       "       'window_orientation_sud'],\n",
       "      dtype='object')"
      ]
     },
     "execution_count": 15,
     "metadata": {},
     "output_type": "execute_result"
    }
   ],
   "source": [
    "X.columns "
   ]
  },
  {
   "cell_type": "markdown",
   "id": "76be2faa-787e-4999-b36d-8878a00d6482",
   "metadata": {},
   "source": [
    "### Linear Regression (simple and poor performance model)"
   ]
  },
  {
   "cell_type": "code",
   "execution_count": 16,
   "id": "b883a97e-106f-46a7-94dd-792724c37c5b",
   "metadata": {},
   "outputs": [
    {
     "data": {
      "text/plain": [
       "array([0.36327427, 0.36779168, 0.36507872, 0.36298427, 0.36400214])"
      ]
     },
     "execution_count": 16,
     "metadata": {},
     "output_type": "execute_result"
    }
   ],
   "source": [
    "from sklearn.linear_model import LinearRegression\n",
    "\n",
    "clf = LinearRegression()\n",
    "cross_val_score(clf, X, y, cv=5, scoring='explained_variance')"
   ]
  },
  {
   "cell_type": "markdown",
   "id": "e11aa5a3-a5e0-4269-8537-6932b65c5147",
   "metadata": {
    "tags": []
   },
   "source": [
    "### XGBoost model"
   ]
  },
  {
   "cell_type": "code",
   "execution_count": 18,
   "id": "301544b6-9e18-423a-9341-9e4f27b95827",
   "metadata": {},
   "outputs": [],
   "source": [
    "import xgboost as xgb"
   ]
  },
  {
   "cell_type": "code",
   "execution_count": 19,
   "id": "216dfce5-94db-4bac-866e-947bf6d8b1a7",
   "metadata": {},
   "outputs": [
    {
     "name": "stderr",
     "output_type": "stream",
     "text": [
      "[Parallel(n_jobs=-1)]: Using backend LokyBackend with 6 concurrent workers.\n"
     ]
    },
    {
     "name": "stdout",
     "output_type": "stream",
     "text": [
      "[CV] END .................................................... total time= 5.0min\n",
      "[CV] END .................................................... total time= 5.1min\n",
      "[CV] END .................................................... total time= 5.1min\n"
     ]
    },
    {
     "name": "stderr",
     "output_type": "stream",
     "text": [
      "[Parallel(n_jobs=-1)]: Done   3 out of   5 | elapsed:  5.1min remaining:  3.4min\n"
     ]
    },
    {
     "name": "stdout",
     "output_type": "stream",
     "text": [
      "[CV] END .................................................... total time= 5.1min\n",
      "[CV] END .................................................... total time= 5.1min\n"
     ]
    },
    {
     "name": "stderr",
     "output_type": "stream",
     "text": [
      "[Parallel(n_jobs=-1)]: Done   5 out of   5 | elapsed:  5.2min finished\n"
     ]
    },
    {
     "data": {
      "text/plain": [
       "array([0.59923034, 0.60292209, 0.59766963, 0.59990688, 0.5948075 ])"
      ]
     },
     "execution_count": 19,
     "metadata": {},
     "output_type": "execute_result"
    }
   ],
   "source": [
    "# cross validation of XGBoost Regressor algo\n",
    "xgb_model = xgb.XGBRegressor(random_state=42)\n",
    "scores = cross_val_score(xgb_model, X, y, scoring=\"explained_variance\", cv=5, verbose=2, n_jobs=-1)\n",
    "scores"
   ]
  },
  {
   "cell_type": "code",
   "execution_count": null,
   "id": "4f132546-123f-4ff0-abc6-e37abafe1bf6",
   "metadata": {},
   "outputs": [],
   "source": [
    "# fit the regressor\n",
    "xgb_model = xgb.XGBRegressor(random_state=42)\n",
    "xgb_model.fit(X, y)"
   ]
  },
  {
   "cell_type": "code",
   "execution_count": null,
   "id": "75430324-7032-49e2-983a-56886d385721",
   "metadata": {},
   "outputs": [],
   "source": [
    "X_test = X_test[X.columns]"
   ]
  },
  {
   "cell_type": "code",
   "execution_count": null,
   "id": "78047b5a-c134-4106-a5bb-e1dffb80a51c",
   "metadata": {},
   "outputs": [],
   "source": [
    "y_pred = xgb_model.predict(X_test)\n",
    "y_pred"
   ]
  },
  {
   "cell_type": "code",
   "execution_count": null,
   "id": "86fd2c6d-3592-4818-ac78-830712659ab8",
   "metadata": {},
   "outputs": [],
   "source": [
    "# predictions for submission\n",
    "y_sub = pd.DataFrame({'level_0':X_test.index, \n",
    "                      \"energy_consumption_per_annum\":y_pred}).set_index('level_0')\n",
    "y_sub"
   ]
  },
  {
   "cell_type": "code",
   "execution_count": null,
   "id": "39ad6a2c-66c6-4968-9f8f-350af1c707fd",
   "metadata": {},
   "outputs": [],
   "source": [
    "y_sub.to_csv(\"last_try.csv\")"
   ]
  },
  {
   "cell_type": "code",
   "execution_count": null,
   "id": "e009fd60-eb61-4872-9cfc-16575bcd77d9",
   "metadata": {},
   "outputs": [],
   "source": [
    "xgb_model.save_model(\"model_last.json\")"
   ]
  },
  {
   "cell_type": "markdown",
   "id": "a052aa3f-0576-4548-8ce9-2499c2bf5221",
   "metadata": {
    "jp-MarkdownHeadingCollapsed": true,
    "tags": []
   },
   "source": [
    "#### Model explainability"
   ]
  },
  {
   "cell_type": "code",
   "execution_count": 25,
   "id": "a48af8fd-de51-4d2e-b37c-4b81eb1961ec",
   "metadata": {},
   "outputs": [
    {
     "data": {
      "text/plain": [
       "<BarContainer object of 40 artists>"
      ]
     },
     "execution_count": 25,
     "metadata": {},
     "output_type": "execute_result"
    },
    {
     "data": {
      "image/png": "[encoded data removed]",
      "text/plain": [
       "<Figure size 1080x1080 with 1 Axes>"
      ]
     },
     "metadata": {
      "needs_background": "light"
     },
     "output_type": "display_data"
    }
   ],
   "source": [
    "plt.figure(figsize=(15,15))\n",
    "plt.barh(X.columns, xgb_model.feature_importances_)"
   ]
  },
  {
   "cell_type": "code",
   "execution_count": 26,
   "id": "fd0733b3-ed65-4102-8fc6-b7f844abb958",
   "metadata": {},
   "outputs": [],
   "source": [
    "import shap"
   ]
  },
  {
   "cell_type": "code",
   "execution_count": 27,
   "id": "c8bfbed4-15bb-4938-924b-d2dbbcefd978",
   "metadata": {},
   "outputs": [
    {
     "name": "stderr",
     "output_type": "stream",
     "text": [
      "ntree_limit is deprecated, use `iteration_range` or model slicing instead.\n"
     ]
    }
   ],
   "source": [
    "explainer = shap.TreeExplainer(xgb_model)\n",
    "shap_values = explainer.shap_values(X_test)"
   ]
  },
  {
   "cell_type": "code",
   "execution_count": 28,
   "id": "05abc676-4a69-4381-b11e-305b44293af7",
   "metadata": {},
   "outputs": [
    {
     "data": {
      "image/png": "[encoded data removed]",
      "text/plain": [
       "<Figure size 576x684 with 2 Axes>"
      ]
     },
     "metadata": {
      "needs_background": "light"
     },
     "output_type": "display_data"
    }
   ],
   "source": [
    "shap.summary_plot(shap_values, X_test)"
   ]
  },
  {
   "cell_type": "markdown",
   "id": "90c5975e-c260-44b7-a87e-7f562149b836",
   "metadata": {
    "jp-MarkdownHeadingCollapsed": true,
    "tags": []
   },
   "source": [
    "### XGBRegressor"
   ]
  },
  {
   "cell_type": "code",
   "execution_count": 26,
   "id": "b3918a69-3ab2-441b-aa3c-3789455e91d9",
   "metadata": {},
   "outputs": [
    {
     "name": "stderr",
     "output_type": "stream",
     "text": [
      "[Parallel(n_jobs=-1)]: Using backend LokyBackend with 6 concurrent workers.\n"
     ]
    },
    {
     "name": "stdout",
     "output_type": "stream",
     "text": [
      "[CV] END .................................................... total time= 5.7min\n",
      "[CV] END .................................................... total time= 5.7min\n",
      "[CV] END .................................................... total time= 5.7min\n"
     ]
    },
    {
     "name": "stderr",
     "output_type": "stream",
     "text": [
      "[Parallel(n_jobs=-1)]: Done   3 out of   5 | elapsed:  5.7min remaining:  3.8min\n"
     ]
    },
    {
     "name": "stdout",
     "output_type": "stream",
     "text": [
      "[CV] END .................................................... total time= 5.7min\n",
      "[CV] END .................................................... total time= 5.7min\n"
     ]
    },
    {
     "name": "stderr",
     "output_type": "stream",
     "text": [
      "[Parallel(n_jobs=-1)]: Done   5 out of   5 | elapsed:  5.8min finished\n"
     ]
    },
    {
     "data": {
      "text/plain": [
       "array([0.55696129, 0.55986211, 0.55555203, 0.55871069, 0.55545886])"
      ]
     },
     "execution_count": 26,
     "metadata": {},
     "output_type": "execute_result"
    }
   ],
   "source": [
    "# cross validation of XGBoost Regressor algo\n",
    "xgb_model_param = xgb.XGBRegressor(random_state=0, sampling_method=\"gradient_based\")\n",
    "scores = cross_val_score(xgb_model, X, y, scoring=\"explained_variance\", cv=5, verbose=2, n_jobs=-1)\n",
    "scores"
   ]
  },
  {
   "cell_type": "markdown",
   "id": "2258ed58-b853-4410-9e87-05b6d663ef2d",
   "metadata": {
    "jp-MarkdownHeadingCollapsed": true,
    "tags": []
   },
   "source": [
    "### XGBRFRegressor"
   ]
  },
  {
   "cell_type": "code",
   "execution_count": 43,
   "id": "67770a80-d49e-4724-8c46-bb589abf0470",
   "metadata": {},
   "outputs": [
    {
     "name": "stderr",
     "output_type": "stream",
     "text": [
      "[Parallel(n_jobs=-1)]: Using backend LokyBackend with 6 concurrent workers.\n"
     ]
    },
    {
     "name": "stdout",
     "output_type": "stream",
     "text": [
      "[CV] END .................................................... total time= 3.9min\n",
      "[CV] END .................................................... total time= 4.0min\n",
      "[CV] END .................................................... total time= 4.0min\n"
     ]
    },
    {
     "name": "stderr",
     "output_type": "stream",
     "text": [
      "[Parallel(n_jobs=-1)]: Done   3 out of   5 | elapsed:  4.0min remaining:  2.7min\n"
     ]
    },
    {
     "name": "stdout",
     "output_type": "stream",
     "text": [
      "[CV] END .................................................... total time= 4.0min\n",
      "[CV] END .................................................... total time= 4.0min\n"
     ]
    },
    {
     "name": "stderr",
     "output_type": "stream",
     "text": [
      "[Parallel(n_jobs=-1)]: Done   5 out of   5 | elapsed:  4.0min finished\n"
     ]
    },
    {
     "data": {
      "text/plain": [
       "array([0.40619798, 0.40797114, 0.40435157, 0.40866112, 0.40530691])"
      ]
     },
     "execution_count": 43,
     "metadata": {},
     "output_type": "execute_result"
    }
   ],
   "source": [
    "# cross validation of XGBoost Regressor algo\n",
    "xgb_rf_model = xgb.XGBRFRegressor(random_state=42)\n",
    "scores = cross_val_score(xgb_rf_model, X, y, scoring=\"explained_variance\", cv=5, verbose=2, n_jobs=-1)\n",
    "scores"
   ]
  },
  {
   "cell_type": "code",
   "execution_count": 44,
   "id": "e3d5ab0c-7e05-4527-8ab5-cd33701dadda",
   "metadata": {},
   "outputs": [
    {
     "data": {
      "text/html": [
       "<style>#sk-container-id-2 {color: black;background-color: white;}#sk-container-id-2 pre{padding: 0;}#sk-container-id-2 div.sk-toggleable {background-color: white;}#sk-container-id-2 label.sk-toggleable__label {cursor: pointer;display: block;width: 100%;margin-bottom: 0;padding: 0.3em;box-sizing: border-box;text-align: center;}#sk-container-id-2 label.sk-toggleable__label-arrow:before {content: \"▸\";float: left;margin-right: 0.25em;color: #696969;}#sk-container-id-2 label.sk-toggleable__label-arrow:hover:before {color: black;}#sk-container-id-2 div.sk-estimator:hover label.sk-toggleable__label-arrow:before {color: black;}#sk-container-id-2 div.sk-toggleable__content {max-height: 0;max-width: 0;overflow: hidden;text-align: left;background-color: #f0f8ff;}#sk-container-id-2 div.sk-toggleable__content pre {margin: 0.2em;color: black;border-radius: 0.25em;background-color: #f0f8ff;}#sk-container-id-2 input.sk-toggleable__control:checked~div.sk-toggleable__content {max-height: 200px;max-width: 100%;overflow: auto;}#sk-container-id-2 input.sk-toggleable__control:checked~label.sk-toggleable__label-arrow:before {content: \"▾\";}#sk-container-id-2 div.sk-estimator input.sk-toggleable__control:checked~label.sk-toggleable__label {background-color: #d4ebff;}#sk-container-id-2 div.sk-label input.sk-toggleable__control:checked~label.sk-toggleable__label {background-color: #d4ebff;}#sk-container-id-2 input.sk-hidden--visually {border: 0;clip: rect(1px 1px 1px 1px);clip: rect(1px, 1px, 1px, 1px);height: 1px;margin: -1px;overflow: hidden;padding: 0;position: absolute;width: 1px;}#sk-container-id-2 div.sk-estimator {font-family: monospace;background-color: #f0f8ff;border: 1px dotted black;border-radius: 0.25em;box-sizing: border-box;margin-bottom: 0.5em;}#sk-container-id-2 div.sk-estimator:hover {background-color: #d4ebff;}#sk-container-id-2 div.sk-parallel-item::after {content: \"\";width: 100%;border-bottom: 1px solid gray;flex-grow: 1;}#sk-container-id-2 div.sk-label:hover label.sk-toggleable__label {background-color: #d4ebff;}#sk-container-id-2 div.sk-serial::before {content: \"\";position: absolute;border-left: 1px solid gray;box-sizing: border-box;top: 0;bottom: 0;left: 50%;z-index: 0;}#sk-container-id-2 div.sk-serial {display: flex;flex-direction: column;align-items: center;background-color: white;padding-right: 0.2em;padding-left: 0.2em;position: relative;}#sk-container-id-2 div.sk-item {position: relative;z-index: 1;}#sk-container-id-2 div.sk-parallel {display: flex;align-items: stretch;justify-content: center;background-color: white;position: relative;}#sk-container-id-2 div.sk-item::before, #sk-container-id-2 div.sk-parallel-item::before {content: \"\";position: absolute;border-left: 1px solid gray;box-sizing: border-box;top: 0;bottom: 0;left: 50%;z-index: -1;}#sk-container-id-2 div.sk-parallel-item {display: flex;flex-direction: column;z-index: 1;position: relative;background-color: white;}#sk-container-id-2 div.sk-parallel-item:first-child::after {align-self: flex-end;width: 50%;}#sk-container-id-2 div.sk-parallel-item:last-child::after {align-self: flex-start;width: 50%;}#sk-container-id-2 div.sk-parallel-item:only-child::after {width: 0;}#sk-container-id-2 div.sk-dashed-wrapped {border: 1px dashed gray;margin: 0 0.4em 0.5em 0.4em;box-sizing: border-box;padding-bottom: 0.4em;background-color: white;}#sk-container-id-2 div.sk-label label {font-family: monospace;font-weight: bold;display: inline-block;line-height: 1.2em;}#sk-container-id-2 div.sk-label-container {text-align: center;}#sk-container-id-2 div.sk-container {/* jupyter's `normalize.less` sets `[hidden] { display: none; }` but bootstrap.min.css set `[hidden] { display: none !important; }` so we also need the `!important` here to be able to override the default hidden behavior on the sphinx rendered scikit-learn.org. See: https://github.com/scikit-learn/scikit-learn/issues/21755 */display: inline-block !important;position: relative;}#sk-container-id-2 div.sk-text-repr-fallback {display: none;}</style><div id=\"sk-container-id-2\" class=\"sk-top-container\"><div class=\"sk-text-repr-fallback\"><pre>XGBRFRegressor(base_score=None, booster=None, callbacks=None,\n",
       "               colsample_bylevel=None, colsample_bytree=None,\n",
       "               early_stopping_rounds=None, enable_categorical=False,\n",
       "               eval_metric=None, feature_types=None, gamma=None, gpu_id=None,\n",
       "               grow_policy=None, importance_type=None,\n",
       "               interaction_constraints=None, max_bin=None,\n",
       "               max_cat_threshold=None, max_cat_to_onehot=None,\n",
       "               max_delta_step=None, max_depth=None, max_leaves=None,\n",
       "               min_child_weight=None, missing=nan, monotone_constraints=None,\n",
       "               n_estimators=100, n_jobs=None, num_parallel_tree=None,\n",
       "               objective=&#x27;reg:squarederror&#x27;, predictor=None, random_state=42,\n",
       "               reg_alpha=None, ...)</pre><b>In a Jupyter environment, please rerun this cell to show the HTML representation or trust the notebook. <br />On GitHub, the HTML representation is unable to render, please try loading this page with nbviewer.org.</b></div><div class=\"sk-container\" hidden><div class=\"sk-item\"><div class=\"sk-estimator sk-toggleable\"><input class=\"sk-toggleable__control sk-hidden--visually\" id=\"sk-estimator-id-2\" type=\"checkbox\" checked><label for=\"sk-estimator-id-2\" class=\"sk-toggleable__label sk-toggleable__label-arrow\">XGBRFRegressor</label><div class=\"sk-toggleable__content\"><pre>XGBRFRegressor(base_score=None, booster=None, callbacks=None,\n",
       "               colsample_bylevel=None, colsample_bytree=None,\n",
       "               early_stopping_rounds=None, enable_categorical=False,\n",
       "               eval_metric=None, feature_types=None, gamma=None, gpu_id=None,\n",
       "               grow_policy=None, importance_type=None,\n",
       "               interaction_constraints=None, max_bin=None,\n",
       "               max_cat_threshold=None, max_cat_to_onehot=None,\n",
       "               max_delta_step=None, max_depth=None, max_leaves=None,\n",
       "               min_child_weight=None, missing=nan, monotone_constraints=None,\n",
       "               n_estimators=100, n_jobs=None, num_parallel_tree=None,\n",
       "               objective=&#x27;reg:squarederror&#x27;, predictor=None, random_state=42,\n",
       "               reg_alpha=None, ...)</pre></div></div></div></div></div>"
      ],
      "text/plain": [
       "XGBRFRegressor(base_score=None, booster=None, callbacks=None,\n",
       "               colsample_bylevel=None, colsample_bytree=None,\n",
       "               early_stopping_rounds=None, enable_categorical=False,\n",
       "               eval_metric=None, feature_types=None, gamma=None, gpu_id=None,\n",
       "               grow_policy=None, importance_type=None,\n",
       "               interaction_constraints=None, max_bin=None,\n",
       "               max_cat_threshold=None, max_cat_to_onehot=None,\n",
       "               max_delta_step=None, max_depth=None, max_leaves=None,\n",
       "               min_child_weight=None, missing=nan, monotone_constraints=None,\n",
       "               n_estimators=100, n_jobs=None, num_parallel_tree=None,\n",
       "               objective='reg:squarederror', predictor=None, random_state=42,\n",
       "               reg_alpha=None, ...)"
      ]
     },
     "execution_count": 44,
     "metadata": {},
     "output_type": "execute_result"
    }
   ],
   "source": [
    "# fit the regressor\n",
    "xgb_rf_model = xgb.XGBRFRegressor(random_state=42)\n",
    "xgb_rf_model.fit(X, y)"
   ]
  },
  {
   "cell_type": "code",
   "execution_count": 45,
   "id": "8085e532-9fbd-4f64-81bd-6eae1c55b730",
   "metadata": {},
   "outputs": [
    {
     "data": {
      "text/plain": [
       "array([225.1549 , 264.26126, 302.69757, ..., 311.7062 , 177.91518,\n",
       "       179.66371], dtype=float32)"
      ]
     },
     "execution_count": 45,
     "metadata": {},
     "output_type": "execute_result"
    }
   ],
   "source": [
    "y_pred = xgb_rf_model.predict(X_test)\n",
    "y_pred"
   ]
  },
  {
   "cell_type": "code",
   "execution_count": 46,
   "id": "771fdaa1-f86e-4b2d-9bab-c858278cf0ee",
   "metadata": {},
   "outputs": [
    {
     "data": {
      "text/html": [
       "<div>\n",
       "<style scoped>\n",
       "    .dataframe tbody tr th:only-of-type {\n",
       "        vertical-align: middle;\n",
       "    }\n",
       "\n",
       "    .dataframe tbody tr th {\n",
       "        vertical-align: top;\n",
       "    }\n",
       "\n",
       "    .dataframe thead th {\n",
       "        text-align: right;\n",
       "    }\n",
       "</style>\n",
       "<table border=\"1\" class=\"dataframe\">\n",
       "  <thead>\n",
       "    <tr style=\"text-align: right;\">\n",
       "      <th></th>\n",
       "      <th>energy_consumption_per_annum</th>\n",
       "    </tr>\n",
       "    <tr>\n",
       "      <th>level_0</th>\n",
       "      <th></th>\n",
       "    </tr>\n",
       "  </thead>\n",
       "  <tbody>\n",
       "    <tr>\n",
       "      <th>1371914</th>\n",
       "      <td>225.154907</td>\n",
       "    </tr>\n",
       "    <tr>\n",
       "      <th>618756</th>\n",
       "      <td>264.261261</td>\n",
       "    </tr>\n",
       "    <tr>\n",
       "      <th>871032</th>\n",
       "      <td>302.697571</td>\n",
       "    </tr>\n",
       "    <tr>\n",
       "      <th>1430640</th>\n",
       "      <td>178.648071</td>\n",
       "    </tr>\n",
       "    <tr>\n",
       "      <th>86306</th>\n",
       "      <td>196.720612</td>\n",
       "    </tr>\n",
       "    <tr>\n",
       "      <th>...</th>\n",
       "      <td>...</td>\n",
       "    </tr>\n",
       "    <tr>\n",
       "      <th>845834</th>\n",
       "      <td>354.334473</td>\n",
       "    </tr>\n",
       "    <tr>\n",
       "      <th>279675</th>\n",
       "      <td>177.545807</td>\n",
       "    </tr>\n",
       "    <tr>\n",
       "      <th>811813</th>\n",
       "      <td>311.706207</td>\n",
       "    </tr>\n",
       "    <tr>\n",
       "      <th>369033</th>\n",
       "      <td>177.915176</td>\n",
       "    </tr>\n",
       "    <tr>\n",
       "      <th>587391</th>\n",
       "      <td>179.663712</td>\n",
       "    </tr>\n",
       "  </tbody>\n",
       "</table>\n",
       "<p>494940 rows × 1 columns</p>\n",
       "</div>"
      ],
      "text/plain": [
       "         energy_consumption_per_annum\n",
       "level_0                              \n",
       "1371914                    225.154907\n",
       "618756                     264.261261\n",
       "871032                     302.697571\n",
       "1430640                    178.648071\n",
       "86306                      196.720612\n",
       "...                               ...\n",
       "845834                     354.334473\n",
       "279675                     177.545807\n",
       "811813                     311.706207\n",
       "369033                     177.915176\n",
       "587391                     179.663712\n",
       "\n",
       "[494940 rows x 1 columns]"
      ]
     },
     "execution_count": 46,
     "metadata": {},
     "output_type": "execute_result"
    }
   ],
   "source": [
    "# predictions for submission\n",
    "y_sub = pd.DataFrame({'level_0':X_test.index, \n",
    "                      \"energy_consumption_per_annum\":y_pred}).set_index('level_0')\n",
    "y_sub"
   ]
  },
  {
   "cell_type": "code",
   "execution_count": null,
   "id": "bd7654c3-489f-42aa-b7a4-de1ebeb1f0d3",
   "metadata": {},
   "outputs": [],
   "source": [
    "y_sub.to_csv(\"third_try.csv\")"
   ]
  },
  {
   "cell_type": "markdown",
   "id": "6be1724e-fa0f-403f-9192-77bbd0ec562a",
   "metadata": {
    "jp-MarkdownHeadingCollapsed": true,
    "tags": []
   },
   "source": [
    "### Test on hyperparameters tuning"
   ]
  },
  {
   "cell_type": "code",
   "execution_count": 33,
   "id": "538207a1-9418-4d8e-bca1-ca03cbefc50c",
   "metadata": {},
   "outputs": [],
   "source": [
    "from sklearn.model_selection import GridSearchCV, RandomizedSearchCV"
   ]
  },
  {
   "cell_type": "code",
   "execution_count": 38,
   "id": "c4984e4b-1612-424b-8e37-1d7da00f1dff",
   "metadata": {},
   "outputs": [],
   "source": [
    "#XGBoost hyper-parameter tuning\n",
    "def hyperParameterTuning(X_train, y_train):\n",
    "    param_tuning = {\n",
    "        'learning_rate': [0.01, 0.1],\n",
    "        'max_depth': [3, 7, 10]}\n",
    "        #'min_child_weight': [1, 3, 5],\n",
    "        #'n_estimators' : [100, 200, 500]}\n",
    "    xgb_model = xgb.XGBRegressor()\n",
    "    gsearch = RandomizedSearchCV(estimator = xgb_model,\n",
    "                               param_distributions = param_tuning, n_iter = 5,                        \n",
    "                               scoring = 'explained_variance', #score explained variance\n",
    "                               cv = 5,\n",
    "                               n_jobs = -1,\n",
    "                               verbose = 2)\n",
    "\n",
    "    gsearch.fit(X_train,y_train)\n",
    "\n",
    "    return gsearch.best_params_"
   ]
  },
  {
   "cell_type": "code",
   "execution_count": 39,
   "id": "0b9aa3da-fb59-4bbd-984f-b76be67f1363",
   "metadata": {
    "collapsed": true,
    "jupyter": {
     "outputs_hidden": true
    },
    "tags": []
   },
   "outputs": [
    {
     "name": "stdout",
     "output_type": "stream",
     "text": [
      "Fitting 5 folds for each of 5 candidates, totalling 25 fits\n",
      "[CV] END learning_rate=0.1, max_depth=10, min_child_weight=5, n_estimators=200; total time=27.5min\n",
      "[CV] END learning_rate=0.1, max_depth=10, min_child_weight=5, n_estimators=200; total time=27.8min\n",
      "[CV] END learning_rate=0.1, max_depth=10, min_child_weight=5, n_estimators=200; total time=27.8min\n",
      "[CV] END learning_rate=0.1, max_depth=10, min_child_weight=5, n_estimators=200; total time=27.8min\n",
      "[CV] END learning_rate=0.1, max_depth=10, min_child_weight=1, n_estimators=200; total time=27.8min\n",
      "[CV] END learning_rate=0.1, max_depth=10, min_child_weight=5, n_estimators=200; total time=27.9min\n",
      "[CV] END learning_rate=0.1, max_depth=3, min_child_weight=1, n_estimators=200; total time= 5.8min\n",
      "[CV] END learning_rate=0.1, max_depth=3, min_child_weight=1, n_estimators=200; total time= 5.9min\n",
      "[CV] END learning_rate=0.1, max_depth=3, min_child_weight=1, n_estimators=200; total time= 6.2min\n",
      "[CV] END learning_rate=0.1, max_depth=3, min_child_weight=1, n_estimators=200; total time= 6.3min\n"
     ]
    },
    {
     "name": "stderr",
     "output_type": "stream",
     "text": [
      "\n",
      "KeyboardInterrupt\n",
      "\n"
     ]
    }
   ],
   "source": [
    "params = hyperParameterTuning(X, y)"
   ]
  },
  {
   "cell_type": "code",
   "execution_count": null,
   "id": "07381fb0-8779-49f8-aad5-b28152ddcfd7",
   "metadata": {
    "jupyter": {
     "source_hidden": true
    },
    "tags": []
   },
   "outputs": [],
   "source": [
    "# fit with the found parameters\n",
    "model_tune = xgb.XGBRegressor(params=params)\n",
    "model_tune.fit(X, y)"
   ]
  },
  {
   "cell_type": "code",
   "execution_count": null,
   "id": "c6b93a75-1004-4187-a101-6271e13ad12d",
   "metadata": {},
   "outputs": [],
   "source": [
    "y_pred = xgb_model.predict(X_test)\n",
    "y_pred"
   ]
  }
 ],
 "metadata": {
  "kernelspec": {
   "display_name": "Python 3 (ipykernel)",
   "language": "python",
   "name": "python3"
  },
  "language_info": {
   "codemirror_mode": {
    "name": "ipython",
    "version": 3
   },
   "file_extension": ".py",
   "mimetype": "text/x-python",
   "name": "python",
   "nbconvert_exporter": "python",
   "pygments_lexer": "ipython3",
   "version": "3.8.13"
  }
 },
 "nbformat": 4,
 "nbformat_minor": 5
}
